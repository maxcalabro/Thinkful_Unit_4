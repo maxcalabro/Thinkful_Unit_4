{
 "cells": [
  {
   "cell_type": "markdown",
   "metadata": {},
   "source": [
    "# Reuters Multilabel NLP\n",
    "\n",
    "In this notebook, I'll explore the Reuters corpus from NLTK using a few different NLP techniques. The corpus is 'multilabel' (which is different from standard 'multiclass'), meaning each article (I'll look at ~1,000) is associated with multiple categories, or tags. This is similar to a blog or website that may have a post classified as 'technology', 'machine learning' and 'natural language processing' simultaneously.\n",
    "\n",
    "I'll use both Bag of Words and tfidf to create feature spaces to run through both supervised and unsupervised models. Because metrics are difficult for unsupervised multilabel models, I've designed a custom function to evaluate accuracy for training and test sets.\n",
    "\n",
    "Happy reading!"
   ]
  },
  {
   "cell_type": "code",
   "execution_count": 1,
   "metadata": {
    "ExecuteTime": {
     "end_time": "2018-02-28T22:13:10.590856Z",
     "start_time": "2018-02-28T22:13:09.075123Z"
    },
    "collapsed": true
   },
   "outputs": [],
   "source": [
    "import numpy as np\n",
    "import pandas as pd\n",
    "import matplotlib.pyplot as plt\n",
    "import seaborn as sns\n",
    "import re\n",
    "\n",
    "%matplotlib inline\n",
    "sns.set_style('white')"
   ]
  },
  {
   "cell_type": "markdown",
   "metadata": {},
   "source": [
    "# Examine the Data\n",
    "\n",
    "First, let's load up the data and get a feel for how it's organized."
   ]
  },
  {
   "cell_type": "code",
   "execution_count": 2,
   "metadata": {
    "ExecuteTime": {
     "end_time": "2018-02-28T22:13:11.682351Z",
     "start_time": "2018-02-28T22:13:11.033180Z"
    },
    "collapsed": true
   },
   "outputs": [],
   "source": [
    "# Let's use articles from the Reuters Corpus.\n",
    "from nltk.corpus import reuters, stopwords"
   ]
  },
  {
   "cell_type": "code",
   "execution_count": 3,
   "metadata": {
    "ExecuteTime": {
     "end_time": "2018-02-28T22:21:22.051837Z",
     "start_time": "2018-02-28T22:21:20.869910Z"
    }
   },
   "outputs": [
    {
     "name": "stdout",
     "output_type": "stream",
     "text": [
      "['tin', 'coffee', 'gold', 'yen', 'rubber', 'palm-oil', 'lin-oil', 'rape-oil', 'wheat', 'soy-oil', 'nickel', 'cocoa', 'sugar', 'nzdlr', 'sorghum']\n"
     ]
    }
   ],
   "source": [
    "# We'll choose some categories at random and use those for the rest of our analysis.\n",
    "np.random.seed(3)\n",
    "categories = list(np.random.choice(reuters.categories(), 15, replace=False))\n",
    "print(categories)"
   ]
  },
  {
   "cell_type": "code",
   "execution_count": 4,
   "metadata": {
    "ExecuteTime": {
     "end_time": "2018-02-28T22:21:22.146769Z",
     "start_time": "2018-02-28T22:21:22.134569Z"
    }
   },
   "outputs": [
    {
     "data": {
      "text/plain": [
       "[(283, 'wheat'),\n",
       " (162, 'sugar'),\n",
       " (139, 'coffee'),\n",
       " (124, 'gold'),\n",
       " (73, 'cocoa'),\n",
       " (59, 'yen'),\n",
       " (49, 'rubber'),\n",
       " (40, 'palm-oil'),\n",
       " (34, 'sorghum'),\n",
       " (30, 'tin'),\n",
       " (25, 'soy-oil'),\n",
       " (9, 'nickel'),\n",
       " (8, 'rape-oil'),\n",
       " (4, 'nzdlr'),\n",
       " (2, 'lin-oil')]"
      ]
     },
     "execution_count": 4,
     "metadata": {},
     "output_type": "execute_result"
    }
   ],
   "source": [
    "# Check that our categories have relatively the same order of magnitude of articles associated with them.\n",
    "sorted([(len(reuters.fileids(x)), x) for x in categories], reverse=True)"
   ]
  },
  {
   "cell_type": "code",
   "execution_count": 5,
   "metadata": {
    "ExecuteTime": {
     "end_time": "2018-02-28T22:21:26.615852Z",
     "start_time": "2018-02-28T22:21:24.318050Z"
    }
   },
   "outputs": [
    {
     "name": "stdout",
     "output_type": "stream",
     "text": [
      "Number of articles: 962\n",
      "['test/14832', 'test/14833', 'test/14840', 'test/14841', 'test/14842']\n",
      "Number of total words: 227749\n"
     ]
    }
   ],
   "source": [
    "# See how many articles are attached to those categories, the filenames of a few, and total word count.\n",
    "print('Number of articles:', len(reuters.fileids(categories)))\n",
    "fileids = reuters.fileids(categories)\n",
    "print(fileids[:5])\n",
    "print('Number of total words:', len(reuters.words(fileids)))"
   ]
  },
  {
   "cell_type": "markdown",
   "metadata": {},
   "source": [
    "Note that in the Reuters corpus, categories are overlapping and each article can be tagged with multiple categories. This may add some complexity to our analysis, but it's also more representative of a real-world NLP project where specific web pages may have multiple topics associated with them."
   ]
  },
  {
   "cell_type": "code",
   "execution_count": 6,
   "metadata": {
    "ExecuteTime": {
     "end_time": "2018-02-28T22:21:27.760292Z",
     "start_time": "2018-02-28T22:21:27.742200Z"
    }
   },
   "outputs": [
    {
     "data": {
      "text/plain": [
       "[[311, 'grain'],\n",
       " [283, 'wheat'],\n",
       " [162, 'sugar'],\n",
       " [139, 'coffee'],\n",
       " [124, 'gold'],\n",
       " [104, 'corn'],\n",
       " [73, 'cocoa'],\n",
       " [68, 'oilseed'],\n",
       " [67, 'veg-oil'],\n",
       " [59, 'yen'],\n",
       " [56, 'money-fx'],\n",
       " [51, 'soybean'],\n",
       " [49, 'rubber'],\n",
       " [40, 'palm-oil'],\n",
       " [36, 'dlr']]"
      ]
     },
     "execution_count": 6,
     "metadata": {},
     "output_type": "execute_result"
    }
   ],
   "source": [
    "# We may also be pulling in a lot of other categories in this process because articles can have multiple associations.\n",
    "# Let's see all the categories we're getting.\n",
    "all_categories = reuters.categories(fileids)\n",
    "category_counts = [[len(set(reuters.fileids(x)).intersection(fileids)), x] for x in all_categories]\n",
    "sorted(category_counts, reverse=True)[:15]"
   ]
  },
  {
   "cell_type": "markdown",
   "metadata": {},
   "source": [
    "So, we've got a few common categories that we didn't choose explicitly, but which turned out to be popular across the articles that were selected. For instance, 'grain' wasn't in the initial list, but 'wheat' and 'sorghum' are both grains, so it is popular. 'Corn' and 'veg-oil' as well. This should be fine -- it means we may end up clustering by some of these more general categories during unsupervised learning."
   ]
  },
  {
   "cell_type": "code",
   "execution_count": 7,
   "metadata": {
    "ExecuteTime": {
     "end_time": "2018-02-28T22:21:30.663016Z",
     "start_time": "2018-02-28T22:21:30.647633Z"
    }
   },
   "outputs": [
    {
     "name": "stdout",
     "output_type": "stream",
     "text": [
      "Raw:\n",
      " THAI TRADE DEFICIT WIDENS IN FIRST QUARTER\n",
      "  Thailand's trade deficit widened to 4.5\n",
      "  billion baht in the first quarter of 1987 from 2.1 billion a\n",
      "  year ago, the Business Economics Department said.\n",
      "      It said Janunary/March imports rose to 65.1 \n",
      "\n",
      "Words:\n",
      " ['THAI', 'TRADE', 'DEFICIT', 'WIDENS', 'IN', 'FIRST', 'QUARTER', 'Thailand', \"'\", 's', 'trade', 'deficit', 'widened', 'to', '4', '.', '5', 'billion', 'baht', 'in', 'the', 'first', 'quarter', 'of', '1987', 'from', '2', '.', '1', 'billion', 'a', 'year', 'ago', ',', 'the', 'Business', 'Economics', 'Department', 'said', '.', 'It', 'said', 'Janunary', '/', 'March', 'imports', 'rose', 'to', '65', '.']\n",
      "\n",
      "\n",
      "Categories:\n",
      " ['corn', 'grain', 'rice', 'rubber', 'sugar', 'tin', 'trade']\n"
     ]
    }
   ],
   "source": [
    "# There are three ways we can look at each file: Full text, words, and categories.\n",
    "# We'll use 'words' for BoW, full text for Tfidf, and categories for classification in both.\n",
    "print('Raw:\\n', reuters.raw('test/14832')[:250])\n",
    "print('\\nWords:\\n', reuters.words('test/14832')[:50])\n",
    "print('\\n\\nCategories:\\n', reuters.categories('test/14832'))"
   ]
  },
  {
   "cell_type": "markdown",
   "metadata": {},
   "source": [
    "## Clean the Data\n",
    "\n",
    "Because we're already given a method for accessing individual words, we'll have a bit less data cleaning to do."
   ]
  },
  {
   "cell_type": "code",
   "execution_count": 8,
   "metadata": {
    "ExecuteTime": {
     "end_time": "2018-02-28T22:21:49.491206Z",
     "start_time": "2018-02-28T22:21:48.481610Z"
    }
   },
   "outputs": [
    {
     "name": "stdout",
     "output_type": "stream",
     "text": [
      "Before: SUBROTO SAYS INDONESIA SUPPORTS TIN PACT EXTENSION\n",
      "  Mines and Energy Minister Subroto\n",
      "  confirmed Indonesian support for an extension of the sixth\n",
      "  International Tin Agreement (ITA), but said a new  \n",
      "\n",
      "After: subroto says indonesia supports tin pact extension mines and energy minister subroto confirmed indonesian support for an extension of the sixth international tin agreement (ita), but said a new pact w \n",
      "\n",
      "[['corn', 'grain', 'rice', 'rubber', 'sugar', 'tin', 'trade'], ['palm-oil', 'veg-oil'], ['coffee', 'lumber', 'palm-oil', 'rubber', 'veg-oil'], ['grain', 'wheat'], ['gold']]\n"
     ]
    }
   ],
   "source": [
    "# Create a list with each article as an element.\n",
    "articles = [reuters.raw(x) for x in fileids]\n",
    "print('Before:', articles[5][:200], '\\n')\n",
    "\n",
    "# Let's make them all lowercase and remove white space.\n",
    "articles = [' '.join(x.split()).lower() for x in articles]\n",
    "print('After:', articles[5][:200], '\\n')\n",
    "\n",
    "# And grabbing categories by article.\n",
    "categories_by_article = [reuters.categories(x) for x in fileids]\n",
    "print(categories_by_article[:5])"
   ]
  },
  {
   "cell_type": "markdown",
   "metadata": {},
   "source": [
    "That should be enough for the raw text, let's just touch up the 'Words' lists by making lowercase and removing punctuation, as we won't be using that for BoW. Instead of grabbing all the punctuation separately, I'll just get rid of all words length 2 or less and all stopwords. This will also deal with some common words and numbers and make our data a little easier to wrangle."
   ]
  },
  {
   "cell_type": "code",
   "execution_count": 9,
   "metadata": {
    "ExecuteTime": {
     "end_time": "2018-02-28T22:22:29.079983Z",
     "start_time": "2018-02-28T22:22:25.855065Z"
    }
   },
   "outputs": [
    {
     "name": "stdout",
     "output_type": "stream",
     "text": [
      "Before: ['SUBROTO', 'SAYS', 'INDONESIA', 'SUPPORTS', 'TIN', 'PACT', 'EXTENSION', 'Mines', 'and', 'Energy', 'Minister', 'Subroto', 'confirmed', 'Indonesian', 'support', 'for', 'an', 'extension', 'of', 'the', 'sixth', 'International', 'Tin', 'Agreement', '(']\n",
      "Total Words: 227749 \n",
      "\n",
      "After: ['subroto', 'says', 'indonesia', 'supports', 'tin', 'pact', 'extension', 'mines', 'energy', 'minister', 'subroto', 'confirmed', 'indonesian', 'support', 'extension', 'sixth', 'international', 'tin', 'agreement', 'ita', 'said', 'new', 'pact', 'necessary', 'asked']\n",
      "Total Words: 119008\n"
     ]
    }
   ],
   "source": [
    "# Make a list of all the words in each article.\n",
    "words_by_article = [reuters.words(x) for x in fileids]\n",
    "print('Before:', words_by_article[5][:25])\n",
    "print('Total Words:', sum([len(x) for x in words_by_article]), '\\n')\n",
    "\n",
    "# A set of stopwords will be faster to search through.\n",
    "stopword_set = set(stopwords.words('english'))\n",
    "for i, words in enumerate(words_by_article):\n",
    "    words_by_article[i] = [x.lower() for x in words if (len(x) > 2) and not (x in stopword_set)]\n",
    "print('After:', words_by_article[5][:25])\n",
    "print('Total Words:', sum([len(x) for x in words_by_article]))"
   ]
  },
  {
   "cell_type": "markdown",
   "metadata": {},
   "source": [
    "Nice, we've cut out nearly half the words from our data set that were unlikely to be useful. This should make things go faster from here on out."
   ]
  },
  {
   "cell_type": "markdown",
   "metadata": {},
   "source": [
    "# Bag of Words\n",
    "\n",
    "Are we going to use lemmas, etc for this analysis? It's a bit slow and we've already got a nice clean set of words. Let's see how we do without getting into spaCy first, and add it if it seems useful. (Note: it turned out not to be necessary)"
   ]
  },
  {
   "cell_type": "markdown",
   "metadata": {},
   "source": [
    "## Setting Up BoW\n",
    "\n",
    "First we'll build our Bag of Words by finding the most common words and counting them up in each article."
   ]
  },
  {
   "cell_type": "code",
   "execution_count": 10,
   "metadata": {
    "ExecuteTime": {
     "end_time": "2018-02-28T22:24:29.042112Z",
     "start_time": "2018-02-28T22:24:29.037975Z"
    },
    "collapsed": true
   },
   "outputs": [],
   "source": [
    "from collections import Counter\n",
    "import itertools"
   ]
  },
  {
   "cell_type": "code",
   "execution_count": 11,
   "metadata": {
    "ExecuteTime": {
     "end_time": "2018-02-28T22:24:30.067992Z",
     "start_time": "2018-02-28T22:24:30.021819Z"
    }
   },
   "outputs": [
    {
     "name": "stdout",
     "output_type": "stream",
     "text": [
      "[('said', 3481), ('the', 1749), ('tonnes', 1535), ('mln', 1331), ('000', 1176), ('wheat', 961), ('year', 814), ('sugar', 731), ('pct', 713), ('would', 682), ('coffee', 650), ('last', 616), ('1986', 578), ('export', 539), ('market', 539), ('dlrs', 537), ('prices', 527), ('gold', 518), ('new', 512), ('price', 442), ('trade', 425), ('may', 408), ('production', 391), ('cocoa', 376), ('producers', 363)]\n"
     ]
    }
   ],
   "source": [
    "# Put all the strings into a single list.\n",
    "allwords = [word for article in words_by_article for word in article]\n",
    "\n",
    "# Count 'em up.\n",
    "words_counted = Counter(allwords)\n",
    "\n",
    "# Which words are most common?\n",
    "print(words_counted.most_common(25))"
   ]
  },
  {
   "cell_type": "markdown",
   "metadata": {},
   "source": [
    "Some of these words aren't great to have in our set. Let's remove some by hand, and then remove words that occur less than 3 times."
   ]
  },
  {
   "cell_type": "code",
   "execution_count": 12,
   "metadata": {
    "ExecuteTime": {
     "end_time": "2018-02-28T22:24:34.630943Z",
     "start_time": "2018-02-28T22:24:34.614838Z"
    }
   },
   "outputs": [
    {
     "name": "stdout",
     "output_type": "stream",
     "text": [
      "[('tonnes', 1535), ('mln', 1331), ('wheat', 961), ('sugar', 731), ('would', 682), ('coffee', 650), ('last', 616), ('1986', 578), ('export', 539), ('market', 539), ('dlrs', 537), ('prices', 527), ('gold', 518), ('new', 512), ('price', 442), ('trade', 425), ('production', 391), ('cocoa', 376), ('producers', 363), ('nil', 361), ('1987', 358), ('week', 351), ('one', 347), ('per', 347), ('stock', 346)]\n",
      "Unique words: 9750\n"
     ]
    }
   ],
   "source": [
    "# Make a list of words to ignore, then cycle through the counter to remove them.\n",
    "ignore = ['said', 'the', '000', 'year', 'pct', 'may']\n",
    "for word in list(words_counted):\n",
    "    if word in ignore:\n",
    "        del words_counted[word]\n",
    "print(words_counted.most_common(25))\n",
    "print('Unique words:', len(list(words_counted)))"
   ]
  },
  {
   "cell_type": "code",
   "execution_count": 13,
   "metadata": {
    "ExecuteTime": {
     "end_time": "2018-02-28T22:24:41.322591Z",
     "start_time": "2018-02-28T22:24:41.295599Z"
    }
   },
   "outputs": [
    {
     "name": "stdout",
     "output_type": "stream",
     "text": [
      "Least common words: [('lechin', 5), ('arbitration', 5), ('awf', 5), ('martell', 5), ('citicorp', 5)]\n",
      "Unique words: 3333\n"
     ]
    }
   ],
   "source": [
    "# We'll use itertools to delete all items that are not dropped by this lambda function.\n",
    "for key, count in itertools.dropwhile(lambda key_count: key_count[1] >= 5, words_counted.most_common()):\n",
    "    del words_counted[key]\n",
    "print('Least common words:', words_counted.most_common()[::-1][:5])    \n",
    "print('Unique words:', len(list(words_counted)))"
   ]
  },
  {
   "cell_type": "markdown",
   "metadata": {
    "collapsed": true
   },
   "source": [
    "That's a bit better. Let's go ahead and make of DataFrame for modeling."
   ]
  },
  {
   "cell_type": "code",
   "execution_count": 14,
   "metadata": {
    "ExecuteTime": {
     "end_time": "2018-02-28T22:24:50.364009Z",
     "start_time": "2018-02-28T22:24:48.950936Z"
    }
   },
   "outputs": [
    {
     "data": {
      "text/html": [
       "<div>\n",
       "<style>\n",
       "    .dataframe thead tr:only-child th {\n",
       "        text-align: right;\n",
       "    }\n",
       "\n",
       "    .dataframe thead th {\n",
       "        text-align: left;\n",
       "    }\n",
       "\n",
       "    .dataframe tbody tr th {\n",
       "        vertical-align: top;\n",
       "    }\n",
       "</style>\n",
       "<table border=\"1\" class=\"dataframe\">\n",
       "  <thead>\n",
       "    <tr style=\"text-align: right;\">\n",
       "      <th></th>\n",
       "      <th>article_text</th>\n",
       "      <th>categories</th>\n",
       "      <th>thai</th>\n",
       "      <th>trade</th>\n",
       "      <th>deficit</th>\n",
       "      <th>first</th>\n",
       "      <th>quarter</th>\n",
       "      <th>thailand</th>\n",
       "      <th>billion</th>\n",
       "      <th>1987</th>\n",
       "      <th>...</th>\n",
       "      <th>nogales</th>\n",
       "      <th>awf</th>\n",
       "      <th>amselco</th>\n",
       "      <th>amt</th>\n",
       "      <th>arbitration</th>\n",
       "      <th>lechin</th>\n",
       "      <th>otsuki</th>\n",
       "      <th>miti</th>\n",
       "      <th>iwc</th>\n",
       "      <th>witte</th>\n",
       "    </tr>\n",
       "  </thead>\n",
       "  <tbody>\n",
       "    <tr>\n",
       "      <th>0</th>\n",
       "      <td>thai trade deficit widens in first quarter tha...</td>\n",
       "      <td>[corn, grain, rice, rubber, sugar, tin, trade]</td>\n",
       "      <td>0</td>\n",
       "      <td>0</td>\n",
       "      <td>0</td>\n",
       "      <td>0</td>\n",
       "      <td>0</td>\n",
       "      <td>0</td>\n",
       "      <td>0</td>\n",
       "      <td>0</td>\n",
       "      <td>...</td>\n",
       "      <td>0</td>\n",
       "      <td>0</td>\n",
       "      <td>0</td>\n",
       "      <td>0</td>\n",
       "      <td>0</td>\n",
       "      <td>0</td>\n",
       "      <td>0</td>\n",
       "      <td>0</td>\n",
       "      <td>0</td>\n",
       "      <td>0</td>\n",
       "    </tr>\n",
       "    <tr>\n",
       "      <th>1</th>\n",
       "      <td>indonesia sees cpo price rising sharply indone...</td>\n",
       "      <td>[palm-oil, veg-oil]</td>\n",
       "      <td>0</td>\n",
       "      <td>0</td>\n",
       "      <td>0</td>\n",
       "      <td>0</td>\n",
       "      <td>0</td>\n",
       "      <td>0</td>\n",
       "      <td>0</td>\n",
       "      <td>0</td>\n",
       "      <td>...</td>\n",
       "      <td>0</td>\n",
       "      <td>0</td>\n",
       "      <td>0</td>\n",
       "      <td>0</td>\n",
       "      <td>0</td>\n",
       "      <td>0</td>\n",
       "      <td>0</td>\n",
       "      <td>0</td>\n",
       "      <td>0</td>\n",
       "      <td>0</td>\n",
       "    </tr>\n",
       "    <tr>\n",
       "      <th>2</th>\n",
       "      <td>indonesian commodity exchange may expand the i...</td>\n",
       "      <td>[coffee, lumber, palm-oil, rubber, veg-oil]</td>\n",
       "      <td>0</td>\n",
       "      <td>0</td>\n",
       "      <td>0</td>\n",
       "      <td>0</td>\n",
       "      <td>0</td>\n",
       "      <td>0</td>\n",
       "      <td>0</td>\n",
       "      <td>0</td>\n",
       "      <td>...</td>\n",
       "      <td>0</td>\n",
       "      <td>0</td>\n",
       "      <td>0</td>\n",
       "      <td>0</td>\n",
       "      <td>0</td>\n",
       "      <td>0</td>\n",
       "      <td>0</td>\n",
       "      <td>0</td>\n",
       "      <td>0</td>\n",
       "      <td>0</td>\n",
       "    </tr>\n",
       "  </tbody>\n",
       "</table>\n",
       "<p>3 rows × 3335 columns</p>\n",
       "</div>"
      ],
      "text/plain": [
       "                                        article_text  \\\n",
       "0  thai trade deficit widens in first quarter tha...   \n",
       "1  indonesia sees cpo price rising sharply indone...   \n",
       "2  indonesian commodity exchange may expand the i...   \n",
       "\n",
       "                                       categories  thai  trade  deficit  \\\n",
       "0  [corn, grain, rice, rubber, sugar, tin, trade]     0      0        0   \n",
       "1                             [palm-oil, veg-oil]     0      0        0   \n",
       "2     [coffee, lumber, palm-oil, rubber, veg-oil]     0      0        0   \n",
       "\n",
       "   first  quarter  thailand  billion  1987  ...    nogales  awf  amselco  amt  \\\n",
       "0      0        0         0        0     0  ...          0    0        0    0   \n",
       "1      0        0         0        0     0  ...          0    0        0    0   \n",
       "2      0        0         0        0     0  ...          0    0        0    0   \n",
       "\n",
       "   arbitration  lechin  otsuki  miti  iwc  witte  \n",
       "0            0       0       0     0    0      0  \n",
       "1            0       0       0     0    0      0  \n",
       "2            0       0       0     0    0      0  \n",
       "\n",
       "[3 rows x 3335 columns]"
      ]
     },
     "execution_count": 14,
     "metadata": {},
     "output_type": "execute_result"
    }
   ],
   "source": [
    "# Create a DataFrame, include article text, categories, and features for all the words in our list.\n",
    "df_bow = pd.DataFrame(columns=['article_text', 'categories'] + list(words_counted))\n",
    "df_bow['article_text'] = articles\n",
    "df_bow['categories'] = categories_by_article\n",
    "df_bow.fillna(0, inplace=True)\n",
    "df_bow.head(3)"
   ]
  },
  {
   "cell_type": "markdown",
   "metadata": {},
   "source": [
    "And finally, we'll populate the word counts."
   ]
  },
  {
   "cell_type": "code",
   "execution_count": 15,
   "metadata": {
    "ExecuteTime": {
     "end_time": "2018-02-28T22:25:26.926207Z",
     "start_time": "2018-02-28T22:24:55.349663Z"
    }
   },
   "outputs": [
    {
     "data": {
      "text/html": [
       "<div>\n",
       "<style>\n",
       "    .dataframe thead tr:only-child th {\n",
       "        text-align: right;\n",
       "    }\n",
       "\n",
       "    .dataframe thead th {\n",
       "        text-align: left;\n",
       "    }\n",
       "\n",
       "    .dataframe tbody tr th {\n",
       "        vertical-align: top;\n",
       "    }\n",
       "</style>\n",
       "<table border=\"1\" class=\"dataframe\">\n",
       "  <thead>\n",
       "    <tr style=\"text-align: right;\">\n",
       "      <th></th>\n",
       "      <th>article_text</th>\n",
       "      <th>categories</th>\n",
       "      <th>thai</th>\n",
       "      <th>trade</th>\n",
       "      <th>deficit</th>\n",
       "      <th>first</th>\n",
       "      <th>quarter</th>\n",
       "      <th>thailand</th>\n",
       "      <th>billion</th>\n",
       "      <th>1987</th>\n",
       "      <th>...</th>\n",
       "      <th>nogales</th>\n",
       "      <th>awf</th>\n",
       "      <th>amselco</th>\n",
       "      <th>amt</th>\n",
       "      <th>arbitration</th>\n",
       "      <th>lechin</th>\n",
       "      <th>otsuki</th>\n",
       "      <th>miti</th>\n",
       "      <th>iwc</th>\n",
       "      <th>witte</th>\n",
       "    </tr>\n",
       "  </thead>\n",
       "  <tbody>\n",
       "    <tr>\n",
       "      <th>0</th>\n",
       "      <td>thai trade deficit widens in first quarter tha...</td>\n",
       "      <td>[corn, grain, rice, rubber, sugar, tin, trade]</td>\n",
       "      <td>1</td>\n",
       "      <td>2</td>\n",
       "      <td>2</td>\n",
       "      <td>4</td>\n",
       "      <td>4</td>\n",
       "      <td>2</td>\n",
       "      <td>6</td>\n",
       "      <td>1</td>\n",
       "      <td>...</td>\n",
       "      <td>0</td>\n",
       "      <td>0</td>\n",
       "      <td>0</td>\n",
       "      <td>0</td>\n",
       "      <td>0</td>\n",
       "      <td>0</td>\n",
       "      <td>0</td>\n",
       "      <td>0</td>\n",
       "      <td>0</td>\n",
       "      <td>0</td>\n",
       "    </tr>\n",
       "    <tr>\n",
       "      <th>1</th>\n",
       "      <td>indonesia sees cpo price rising sharply indone...</td>\n",
       "      <td>[palm-oil, veg-oil]</td>\n",
       "      <td>0</td>\n",
       "      <td>0</td>\n",
       "      <td>0</td>\n",
       "      <td>0</td>\n",
       "      <td>0</td>\n",
       "      <td>0</td>\n",
       "      <td>0</td>\n",
       "      <td>0</td>\n",
       "      <td>...</td>\n",
       "      <td>0</td>\n",
       "      <td>0</td>\n",
       "      <td>0</td>\n",
       "      <td>0</td>\n",
       "      <td>0</td>\n",
       "      <td>0</td>\n",
       "      <td>0</td>\n",
       "      <td>0</td>\n",
       "      <td>0</td>\n",
       "      <td>0</td>\n",
       "    </tr>\n",
       "    <tr>\n",
       "      <th>2</th>\n",
       "      <td>indonesian commodity exchange may expand the i...</td>\n",
       "      <td>[coffee, lumber, palm-oil, rubber, veg-oil]</td>\n",
       "      <td>0</td>\n",
       "      <td>3</td>\n",
       "      <td>0</td>\n",
       "      <td>1</td>\n",
       "      <td>0</td>\n",
       "      <td>0</td>\n",
       "      <td>1</td>\n",
       "      <td>1</td>\n",
       "      <td>...</td>\n",
       "      <td>0</td>\n",
       "      <td>0</td>\n",
       "      <td>0</td>\n",
       "      <td>0</td>\n",
       "      <td>0</td>\n",
       "      <td>0</td>\n",
       "      <td>0</td>\n",
       "      <td>0</td>\n",
       "      <td>0</td>\n",
       "      <td>0</td>\n",
       "    </tr>\n",
       "    <tr>\n",
       "      <th>3</th>\n",
       "      <td>sri lanka gets usda approval for wheat price f...</td>\n",
       "      <td>[grain, wheat]</td>\n",
       "      <td>0</td>\n",
       "      <td>0</td>\n",
       "      <td>0</td>\n",
       "      <td>0</td>\n",
       "      <td>0</td>\n",
       "      <td>0</td>\n",
       "      <td>0</td>\n",
       "      <td>0</td>\n",
       "      <td>...</td>\n",
       "      <td>0</td>\n",
       "      <td>0</td>\n",
       "      <td>0</td>\n",
       "      <td>0</td>\n",
       "      <td>0</td>\n",
       "      <td>0</td>\n",
       "      <td>0</td>\n",
       "      <td>0</td>\n",
       "      <td>0</td>\n",
       "      <td>0</td>\n",
       "    </tr>\n",
       "    <tr>\n",
       "      <th>4</th>\n",
       "      <td>western mining to open new gold mine in austra...</td>\n",
       "      <td>[gold]</td>\n",
       "      <td>0</td>\n",
       "      <td>0</td>\n",
       "      <td>0</td>\n",
       "      <td>1</td>\n",
       "      <td>0</td>\n",
       "      <td>0</td>\n",
       "      <td>0</td>\n",
       "      <td>0</td>\n",
       "      <td>...</td>\n",
       "      <td>0</td>\n",
       "      <td>0</td>\n",
       "      <td>0</td>\n",
       "      <td>0</td>\n",
       "      <td>0</td>\n",
       "      <td>0</td>\n",
       "      <td>0</td>\n",
       "      <td>0</td>\n",
       "      <td>0</td>\n",
       "      <td>0</td>\n",
       "    </tr>\n",
       "  </tbody>\n",
       "</table>\n",
       "<p>5 rows × 3335 columns</p>\n",
       "</div>"
      ],
      "text/plain": [
       "                                        article_text  \\\n",
       "0  thai trade deficit widens in first quarter tha...   \n",
       "1  indonesia sees cpo price rising sharply indone...   \n",
       "2  indonesian commodity exchange may expand the i...   \n",
       "3  sri lanka gets usda approval for wheat price f...   \n",
       "4  western mining to open new gold mine in austra...   \n",
       "\n",
       "                                       categories  thai  trade  deficit  \\\n",
       "0  [corn, grain, rice, rubber, sugar, tin, trade]     1      2        2   \n",
       "1                             [palm-oil, veg-oil]     0      0        0   \n",
       "2     [coffee, lumber, palm-oil, rubber, veg-oil]     0      3        0   \n",
       "3                                  [grain, wheat]     0      0        0   \n",
       "4                                          [gold]     0      0        0   \n",
       "\n",
       "   first  quarter  thailand  billion  1987  ...    nogales  awf  amselco  amt  \\\n",
       "0      4        4         2        6     1  ...          0    0        0    0   \n",
       "1      0        0         0        0     0  ...          0    0        0    0   \n",
       "2      1        0         0        1     1  ...          0    0        0    0   \n",
       "3      0        0         0        0     0  ...          0    0        0    0   \n",
       "4      1        0         0        0     0  ...          0    0        0    0   \n",
       "\n",
       "   arbitration  lechin  otsuki  miti  iwc  witte  \n",
       "0            0       0       0     0    0      0  \n",
       "1            0       0       0     0    0      0  \n",
       "2            0       0       0     0    0      0  \n",
       "3            0       0       0     0    0      0  \n",
       "4            0       0       0     0    0      0  \n",
       "\n",
       "[5 rows x 3335 columns]"
      ]
     },
     "execution_count": 15,
     "metadata": {},
     "output_type": "execute_result"
    }
   ],
   "source": [
    "# Make a set of the feature names for faster searching.\n",
    "features_set = set(words_counted)\n",
    "\n",
    "# Iterate through the words in each article to add values to our DataFrame.\n",
    "for i, article in enumerate(words_by_article):\n",
    "    counter = Counter(article)\n",
    "    for key, count in counter.most_common():\n",
    "        if key in features_set:\n",
    "            df_bow.loc[i, key] = count\n",
    "            \n",
    "df_bow.head(5)"
   ]
  },
  {
   "cell_type": "code",
   "execution_count": 16,
   "metadata": {
    "ExecuteTime": {
     "end_time": "2018-02-28T22:25:26.958046Z",
     "start_time": "2018-02-28T22:25:26.929686Z"
    }
   },
   "outputs": [
    {
     "name": "stdout",
     "output_type": "stream",
     "text": [
      "\"Trade\" added up over the DataFrame: 425\n",
      "\"Trade\" from our original \"words_counted\" counter: 425\n"
     ]
    }
   ],
   "source": [
    "# Sanity check -- did we get everything counted?\n",
    "print('\"Trade\" added up over the DataFrame:', df_bow['trade'].sum())\n",
    "print('\"Trade\" from our original \"words_counted\" counter:', words_counted['trade'])"
   ]
  },
  {
   "cell_type": "markdown",
   "metadata": {},
   "source": [
    "## Supervised BoW Model\n",
    "\n",
    "We're ready to begin modeling! We still have to create our X and y matrices and split the data into training and testing. We'll have to transform our outcome variable, y, into a binary array of multilabel outputs."
   ]
  },
  {
   "cell_type": "code",
   "execution_count": 17,
   "metadata": {
    "ExecuteTime": {
     "end_time": "2018-02-28T22:26:52.501809Z",
     "start_time": "2018-02-28T22:26:52.471779Z"
    }
   },
   "outputs": [
    {
     "name": "stdout",
     "output_type": "stream",
     "text": [
      "df shape: (962, 3335)\n"
     ]
    },
    {
     "data": {
      "text/html": [
       "<div>\n",
       "<style>\n",
       "    .dataframe thead tr:only-child th {\n",
       "        text-align: right;\n",
       "    }\n",
       "\n",
       "    .dataframe thead th {\n",
       "        text-align: left;\n",
       "    }\n",
       "\n",
       "    .dataframe tbody tr th {\n",
       "        vertical-align: top;\n",
       "    }\n",
       "</style>\n",
       "<table border=\"1\" class=\"dataframe\">\n",
       "  <thead>\n",
       "    <tr style=\"text-align: right;\">\n",
       "      <th></th>\n",
       "      <th>article_text</th>\n",
       "      <th>categories</th>\n",
       "      <th>thai</th>\n",
       "      <th>trade</th>\n",
       "      <th>deficit</th>\n",
       "      <th>first</th>\n",
       "      <th>quarter</th>\n",
       "      <th>thailand</th>\n",
       "      <th>billion</th>\n",
       "      <th>1987</th>\n",
       "      <th>...</th>\n",
       "      <th>nogales</th>\n",
       "      <th>awf</th>\n",
       "      <th>amselco</th>\n",
       "      <th>amt</th>\n",
       "      <th>arbitration</th>\n",
       "      <th>lechin</th>\n",
       "      <th>otsuki</th>\n",
       "      <th>miti</th>\n",
       "      <th>iwc</th>\n",
       "      <th>witte</th>\n",
       "    </tr>\n",
       "  </thead>\n",
       "  <tbody>\n",
       "    <tr>\n",
       "      <th>0</th>\n",
       "      <td>thai trade deficit widens in first quarter tha...</td>\n",
       "      <td>[corn, grain, rice, rubber, sugar, tin, trade]</td>\n",
       "      <td>1</td>\n",
       "      <td>2</td>\n",
       "      <td>2</td>\n",
       "      <td>4</td>\n",
       "      <td>4</td>\n",
       "      <td>2</td>\n",
       "      <td>6</td>\n",
       "      <td>1</td>\n",
       "      <td>...</td>\n",
       "      <td>0</td>\n",
       "      <td>0</td>\n",
       "      <td>0</td>\n",
       "      <td>0</td>\n",
       "      <td>0</td>\n",
       "      <td>0</td>\n",
       "      <td>0</td>\n",
       "      <td>0</td>\n",
       "      <td>0</td>\n",
       "      <td>0</td>\n",
       "    </tr>\n",
       "    <tr>\n",
       "      <th>1</th>\n",
       "      <td>indonesia sees cpo price rising sharply indone...</td>\n",
       "      <td>[palm-oil, veg-oil]</td>\n",
       "      <td>0</td>\n",
       "      <td>0</td>\n",
       "      <td>0</td>\n",
       "      <td>0</td>\n",
       "      <td>0</td>\n",
       "      <td>0</td>\n",
       "      <td>0</td>\n",
       "      <td>0</td>\n",
       "      <td>...</td>\n",
       "      <td>0</td>\n",
       "      <td>0</td>\n",
       "      <td>0</td>\n",
       "      <td>0</td>\n",
       "      <td>0</td>\n",
       "      <td>0</td>\n",
       "      <td>0</td>\n",
       "      <td>0</td>\n",
       "      <td>0</td>\n",
       "      <td>0</td>\n",
       "    </tr>\n",
       "  </tbody>\n",
       "</table>\n",
       "<p>2 rows × 3335 columns</p>\n",
       "</div>"
      ],
      "text/plain": [
       "                                        article_text  \\\n",
       "0  thai trade deficit widens in first quarter tha...   \n",
       "1  indonesia sees cpo price rising sharply indone...   \n",
       "\n",
       "                                       categories  thai  trade  deficit  \\\n",
       "0  [corn, grain, rice, rubber, sugar, tin, trade]     1      2        2   \n",
       "1                             [palm-oil, veg-oil]     0      0        0   \n",
       "\n",
       "   first  quarter  thailand  billion  1987  ...    nogales  awf  amselco  amt  \\\n",
       "0      4        4         2        6     1  ...          0    0        0    0   \n",
       "1      0        0         0        0     0  ...          0    0        0    0   \n",
       "\n",
       "   arbitration  lechin  otsuki  miti  iwc  witte  \n",
       "0            0       0       0     0    0      0  \n",
       "1            0       0       0     0    0      0  \n",
       "\n",
       "[2 rows x 3335 columns]"
      ]
     },
     "execution_count": 17,
     "metadata": {},
     "output_type": "execute_result"
    }
   ],
   "source": [
    "print('df shape:', df_bow.shape)\n",
    "df_bow.head(2)"
   ]
  },
  {
   "cell_type": "markdown",
   "metadata": {},
   "source": [
    "How will we treat the outcome variable, 'categories'? We don't really want to look at all the extra (50+) categories we pulled in implicitly, so let's narrow it down to just the set of 15 original categories."
   ]
  },
  {
   "cell_type": "code",
   "execution_count": 18,
   "metadata": {
    "ExecuteTime": {
     "end_time": "2018-02-28T22:28:17.075421Z",
     "start_time": "2018-02-28T22:28:17.069246Z"
    }
   },
   "outputs": [
    {
     "name": "stdout",
     "output_type": "stream",
     "text": [
      "['tin', 'coffee', 'gold', 'yen', 'rubber', 'palm-oil', 'lin-oil', 'rape-oil', 'wheat', 'soy-oil', 'nickel', 'cocoa', 'sugar', 'nzdlr', 'sorghum']\n"
     ]
    }
   ],
   "source": [
    "# This is our list of original categories.\n",
    "print(categories)\n",
    "categories_set = set(categories)"
   ]
  },
  {
   "cell_type": "code",
   "execution_count": 19,
   "metadata": {
    "ExecuteTime": {
     "end_time": "2018-02-28T22:28:19.699285Z",
     "start_time": "2018-02-28T22:28:19.667136Z"
    }
   },
   "outputs": [
    {
     "name": "stdout",
     "output_type": "stream",
     "text": [
      "[['rubber', 'sugar', 'tin'], ['palm-oil'], ['rubber', 'palm-oil', 'coffee'], ['wheat'], ['gold']]\n"
     ]
    }
   ],
   "source": [
    "# Let's search through of 'categories' feature and see what matches up with those from the original group.\n",
    "categories_reduced = [list(categories_set.intersection(df_bow['categories'][index])) for index in df_bow.index]\n",
    "print(categories_reduced[:5])\n",
    "\n",
    "# Create a new feature in our DF.\n",
    "df_bow['categories_reduced'] = categories_reduced"
   ]
  },
  {
   "cell_type": "markdown",
   "metadata": {},
   "source": [
    "Okay, we've gotten rid of all the extra categories, but many articles still have multiple associations. It turns out Random Forest, Decision Tree, KNN, and MLP already support multilabel output, although metrics won't work for them. \n",
    "\n",
    "http://scikit-learn.org/stable/modules/multiclass.html\n",
    "\n",
    "Let's just run it on the reduced category set and see what happens. We do have to binarize our multilabel output."
   ]
  },
  {
   "cell_type": "code",
   "execution_count": 20,
   "metadata": {
    "ExecuteTime": {
     "end_time": "2018-02-28T22:28:38.605617Z",
     "start_time": "2018-02-28T22:28:38.542200Z"
    },
    "collapsed": true
   },
   "outputs": [],
   "source": [
    "from sklearn.model_selection import train_test_split\n",
    "from sklearn.ensemble import RandomForestClassifier\n",
    "from sklearn.preprocessing import MultiLabelBinarizer\n",
    "from sklearn.metrics import confusion_matrix"
   ]
  },
  {
   "cell_type": "code",
   "execution_count": 21,
   "metadata": {
    "ExecuteTime": {
     "end_time": "2018-02-28T22:28:40.789888Z",
     "start_time": "2018-02-28T22:28:40.725167Z"
    }
   },
   "outputs": [
    {
     "name": "stdout",
     "output_type": "stream",
     "text": [
      "Array shapes: (721, 3333) (241, 3333) (721, 15) (241, 15)\n"
     ]
    }
   ],
   "source": [
    "mlb = MultiLabelBinarizer()\n",
    "\n",
    "# We have to exclude the category features we've been building.\n",
    "X = df_bow.loc[:, ~df_bow.columns.isin(['article_text', 'categories', 'categories_reduced'])]\n",
    "y = mlb.fit_transform(df_bow.categories_reduced)\n",
    "\n",
    "X_train, X_test, y_train, y_test = train_test_split(X, y, test_size=0.25, random_state=100)\n",
    "y_labels_train, y_labels_test = train_test_split(df_bow.categories_reduced, test_size=0.25, random_state=100)\n",
    "y_full_train, y_full_test = train_test_split(df_bow.categories, test_size=0.25, random_state=100)\n",
    "articles_train, articles_test = train_test_split(df_bow.article_text, test_size=0.25, random_state=100)\n",
    "print('Array shapes:', X_train.shape, X_test.shape, y_train.shape, y_test.shape)"
   ]
  },
  {
   "cell_type": "markdown",
   "metadata": {},
   "source": [
    "### Running Models"
   ]
  },
  {
   "cell_type": "code",
   "execution_count": 22,
   "metadata": {
    "ExecuteTime": {
     "end_time": "2018-02-28T22:28:47.876441Z",
     "start_time": "2018-02-28T22:28:47.744299Z"
    }
   },
   "outputs": [
    {
     "name": "stdout",
     "output_type": "stream",
     "text": [
      "(Test set) (Model predictions)\n",
      "\n",
      "[[('wheat',) ('wheat',)]\n",
      " [('palm-oil',) ()]\n",
      " [('coffee',) ()]\n",
      " [('cocoa',) ()]\n",
      " [('wheat',) ('wheat',)]\n",
      " [('sugar',) ('sugar',)]\n",
      " [('sugar',) ()]\n",
      " [('cocoa',) ('cocoa',)]\n",
      " [('wheat',) ('wheat',)]\n",
      " [('sorghum',) ()]\n",
      " [('gold',) ('gold',)]\n",
      " [('rape-oil',) ()]\n",
      " [('sugar',) ()]\n",
      " [('wheat',) ('wheat',)]\n",
      " [('wheat',) ('wheat',)]\n",
      " [('wheat',) ('wheat',)]\n",
      " [('gold',) ('gold',)]\n",
      " [('sorghum',) ()]\n",
      " [('coffee',) ('coffee',)]\n",
      " [('sugar',) ('sugar',)]]\n"
     ]
    }
   ],
   "source": [
    "# Run Random Forest.\n",
    "rfc = RandomForestClassifier().fit(X_train, y_train)\n",
    "y_pred = rfc.predict(X_test)\n",
    "\n",
    "# Print out results for the test and predicted sets.\n",
    "print('(Test set) (Model predictions)\\n')\n",
    "print(np.stack([mlb.inverse_transform(y_test), mlb.inverse_transform(y_pred)], axis=1)[:20])"
   ]
  },
  {
   "cell_type": "markdown",
   "metadata": {
    "ExecuteTime": {
     "end_time": "2018-02-26T18:37:10.926535Z",
     "start_time": "2018-02-26T18:37:10.919377Z"
    }
   },
   "source": [
    "It looks like we're doing really well, but this isn't a very analytical way to rate our model. The biggest issue seems to be in not predicting any category in certain cases rather than mislabeling. We can use 'score', but keep in mind this will be 'subset accuracy', which means every label must be predicted correctly for the example to count. This is a harsh measure, so we don't expect our accuracy to be perfect."
   ]
  },
  {
   "cell_type": "code",
   "execution_count": 23,
   "metadata": {
    "ExecuteTime": {
     "end_time": "2018-02-28T22:29:40.706353Z",
     "start_time": "2018-02-28T22:29:40.650622Z"
    }
   },
   "outputs": [
    {
     "name": "stdout",
     "output_type": "stream",
     "text": [
      "Training set score: 0.959778085992\n",
      "Test set score: 0.647302904564\n"
     ]
    }
   ],
   "source": [
    "print('Training set score:', rfc.score(X_train, y_train))\n",
    "print('Test set score:', rfc.score(X_test, y_test))"
   ]
  },
  {
   "cell_type": "markdown",
   "metadata": {},
   "source": [
    "We're overfitting the training set, but it's possible that 0.64 isn't so bad on the test set, since we're looking at subset accuracy. Let's see if we can do better with this or other models, and for now we'll just use 'score' to measure effectiveness."
   ]
  },
  {
   "cell_type": "code",
   "execution_count": 24,
   "metadata": {
    "ExecuteTime": {
     "end_time": "2018-02-28T22:29:50.612589Z",
     "start_time": "2018-02-28T22:29:50.595999Z"
    }
   },
   "outputs": [],
   "source": [
    "# These are the models that support multilabel output.\n",
    "from sklearn.neural_network import MLPClassifier\n",
    "from sklearn.tree import DecisionTreeClassifier\n",
    "from sklearn.neighbors import KNeighborsClassifier\n",
    "from sklearn.model_selection import GridSearchCV, cross_val_score"
   ]
  },
  {
   "cell_type": "markdown",
   "metadata": {},
   "source": [
    "#### Multi Layer Perceptron"
   ]
  },
  {
   "cell_type": "code",
   "execution_count": 25,
   "metadata": {
    "ExecuteTime": {
     "end_time": "2018-02-28T22:34:18.093350Z",
     "start_time": "2018-02-28T22:29:53.780548Z"
    }
   },
   "outputs": [
    {
     "name": "stderr",
     "output_type": "stream",
     "text": [
      "/Users/maxcalabro/anaconda3/lib/python3.6/site-packages/sklearn/neural_network/multilayer_perceptron.py:564: ConvergenceWarning: Stochastic Optimizer: Maximum iterations (200) reached and the optimization hasn't converged yet.\n",
      "  % self.max_iter, ConvergenceWarning)\n",
      "/Users/maxcalabro/anaconda3/lib/python3.6/site-packages/sklearn/neural_network/multilayer_perceptron.py:564: ConvergenceWarning: Stochastic Optimizer: Maximum iterations (200) reached and the optimization hasn't converged yet.\n",
      "  % self.max_iter, ConvergenceWarning)\n",
      "/Users/maxcalabro/anaconda3/lib/python3.6/site-packages/sklearn/neural_network/multilayer_perceptron.py:564: ConvergenceWarning: Stochastic Optimizer: Maximum iterations (200) reached and the optimization hasn't converged yet.\n",
      "  % self.max_iter, ConvergenceWarning)\n",
      "/Users/maxcalabro/anaconda3/lib/python3.6/site-packages/sklearn/neural_network/multilayer_perceptron.py:564: ConvergenceWarning: Stochastic Optimizer: Maximum iterations (200) reached and the optimization hasn't converged yet.\n",
      "  % self.max_iter, ConvergenceWarning)\n",
      "/Users/maxcalabro/anaconda3/lib/python3.6/site-packages/sklearn/neural_network/multilayer_perceptron.py:564: ConvergenceWarning: Stochastic Optimizer: Maximum iterations (200) reached and the optimization hasn't converged yet.\n",
      "  % self.max_iter, ConvergenceWarning)\n"
     ]
    },
    {
     "name": "stdout",
     "output_type": "stream",
     "text": [
      "Best GridSearchCV params: {'hidden_layer_sizes': (200,)}\n",
      "Training set average cv score w/best parameters: 0.775312066574\n",
      "Test set score w/best parameters: 0.796680497925\n"
     ]
    }
   ],
   "source": [
    "mlp_params = {'hidden_layer_sizes':[(200,), (30, 30,), (60, 60,)]}\n",
    "mlp_grid = GridSearchCV(MLPClassifier(), param_grid=mlp_params, cv=5).fit(X_train, y_train)\n",
    "print('Best GridSearchCV params:', mlp_grid.best_params_)\n",
    "print('Training set average cv score w/best parameters:', mlp_grid.best_score_)\n",
    "print('Test set score w/best parameters:', mlp_grid.score(X_test, y_test))"
   ]
  },
  {
   "cell_type": "markdown",
   "metadata": {},
   "source": [
    "#### Random Forest"
   ]
  },
  {
   "cell_type": "code",
   "execution_count": 26,
   "metadata": {
    "ExecuteTime": {
     "end_time": "2018-02-28T22:34:33.850179Z",
     "start_time": "2018-02-28T22:34:18.095944Z"
    }
   },
   "outputs": [
    {
     "name": "stdout",
     "output_type": "stream",
     "text": [
      "Best GridSearchCV params: {'max_depth': None, 'n_estimators': 100}\n",
      "Training set average cv score w/best parameters: 0.775312066574\n",
      "Test set score w/best parameters: 0.788381742739\n"
     ]
    }
   ],
   "source": [
    "rfc_params = {'max_depth':[10, 30, None],\n",
    "              'n_estimators':[10, 30, 100]}\n",
    "rfc_grid = GridSearchCV(RandomForestClassifier(), param_grid=rfc_params, cv=5).fit(X_train, y_train)\n",
    "print('Best GridSearchCV params:', rfc_grid.best_params_)\n",
    "print('Training set average cv score w/best parameters:', rfc_grid.best_score_)\n",
    "print('Test set score w/best parameters:', rfc_grid.score(X_test, y_test))"
   ]
  },
  {
   "cell_type": "markdown",
   "metadata": {},
   "source": [
    "#### Decision Tree"
   ]
  },
  {
   "cell_type": "code",
   "execution_count": 27,
   "metadata": {
    "ExecuteTime": {
     "end_time": "2018-02-28T22:34:38.756310Z",
     "start_time": "2018-02-28T22:34:33.853130Z"
    }
   },
   "outputs": [
    {
     "name": "stdout",
     "output_type": "stream",
     "text": [
      "Best GridSearchCV params: {'max_depth': 30, 'min_samples_split': 4}\n",
      "Training set average cv score w/best parameters: 0.914008321775\n",
      "Test set score w/best parameters: 0.896265560166\n"
     ]
    }
   ],
   "source": [
    "dtc_params = {'max_depth':[10, 30, None],\n",
    "              'min_samples_split':[2, 4, 8]}\n",
    "dtc_grid = GridSearchCV(DecisionTreeClassifier(), param_grid=dtc_params, cv=5).fit(X_train, y_train)\n",
    "print('Best GridSearchCV params:', dtc_grid.best_params_)\n",
    "print('Training set average cv score w/best parameters:', dtc_grid.best_score_)\n",
    "print('Test set score w/best parameters:', dtc_grid.score(X_test, y_test))"
   ]
  },
  {
   "cell_type": "markdown",
   "metadata": {},
   "source": [
    "#### K Nearest Neighbors"
   ]
  },
  {
   "cell_type": "code",
   "execution_count": 28,
   "metadata": {
    "ExecuteTime": {
     "end_time": "2018-02-28T22:35:23.942319Z",
     "start_time": "2018-02-28T22:34:38.759353Z"
    }
   },
   "outputs": [
    {
     "name": "stdout",
     "output_type": "stream",
     "text": [
      "Best GridSearchCV params: {'n_neighbors': 4}\n",
      "Training set average cv score w/best parameters: 0.631067961165\n",
      "Test set score w/best parameters: 0.655601659751\n"
     ]
    }
   ],
   "source": [
    "knc_params = {'n_neighbors':[2, 4, 8, 16]}\n",
    "knc_grid = GridSearchCV(KNeighborsClassifier(), param_grid=knc_params, cv=5).fit(X_train, y_train)\n",
    "print('Best GridSearchCV params:', knc_grid.best_params_)\n",
    "print('Training set average cv score w/best parameters:', knc_grid.best_score_)\n",
    "print('Test set score w/best parameters:', knc_grid.score(X_test, y_test))"
   ]
  },
  {
   "cell_type": "markdown",
   "metadata": {
    "collapsed": true
   },
   "source": [
    "It looks like Decision Tree is doing the best -- even better than Random Forest. Interesting! 90% subset accuracy on the test set is quite remarkable. Let's try some unsupervised techniques."
   ]
  },
  {
   "cell_type": "markdown",
   "metadata": {},
   "source": [
    "## Unsupervised BoW Model\n",
    "\n",
    "What if we try out some unsupervised models? The overlapping outcomes may cause some issues around the borders, but let's see what happens."
   ]
  },
  {
   "cell_type": "code",
   "execution_count": 29,
   "metadata": {
    "ExecuteTime": {
     "end_time": "2018-02-28T22:38:18.652103Z",
     "start_time": "2018-02-28T22:38:18.577530Z"
    }
   },
   "outputs": [],
   "source": [
    "from sklearn.cluster import KMeans, MeanShift, SpectralClustering, AffinityPropagation, estimate_bandwidth\n",
    "from sklearn.decomposition import TruncatedSVD, PCA"
   ]
  },
  {
   "cell_type": "code",
   "execution_count": 36,
   "metadata": {
    "ExecuteTime": {
     "end_time": "2018-02-28T22:38:39.663781Z",
     "start_time": "2018-02-28T22:38:37.681925Z"
    }
   },
   "outputs": [],
   "source": [
    "# Run KMeans and grab the labels for training and test sets.\n",
    "n_clusters=10\n",
    "km = KMeans(n_clusters=n_clusters).fit(X_train)\n",
    "km_labels_train = km.labels_\n",
    "km_labels_test = km.predict(X_test)"
   ]
  },
  {
   "cell_type": "markdown",
   "metadata": {},
   "source": [
    "### Creating an Evaluation Metric\n",
    "\n",
    "We're going to need a way to measure how well our clustering algorithm is doing, and there isn't an out-of-the-box solution for this one. I'm going to build an evaluator to take each cluster, determine which category is most common for the items in the cluster, and show how strongly that category dominates (simple percentages should be fine), and show the number of items in that cluster. "
   ]
  },
  {
   "cell_type": "code",
   "execution_count": 37,
   "metadata": {
    "ExecuteTime": {
     "end_time": "2018-02-28T22:38:40.210089Z",
     "start_time": "2018-02-28T22:38:40.194730Z"
    }
   },
   "outputs": [],
   "source": [
    "# Function which outputs all the category labels for each cluster.\n",
    "# Takes input of the model_clusters, which is the result of model.labels_,\n",
    "# and true_labels, which is the categorical labels from y_train.\n",
    "#\n",
    "# Output is a dictionary with all the category labels for each cluster.\n",
    "\n",
    "def label_clusters(model_labels, true_labels):\n",
    "    # Create a dictionary.\n",
    "    clust_dict = {}\n",
    "    \n",
    "    # Set up each cluster as a key in the dictionary.\n",
    "    for label in set(model_labels):\n",
    "        clust_dict[label]=[]\n",
    "    \n",
    "    # Cycle through each example and append all the words to each key.\n",
    "    for i in range(len(model_labels)):\n",
    "        clust_dict[list(model_labels)[i]].append(list(true_labels)[i])\n",
    "    \n",
    "    # Make each key a list of strings rather than a list of lists.\n",
    "    for key in clust_dict.keys():\n",
    "        clust_dict[key]=[x[0] for x in clust_dict[key]]\n",
    "    \n",
    "    return clust_dict"
   ]
  },
  {
   "cell_type": "code",
   "execution_count": 38,
   "metadata": {
    "ExecuteTime": {
     "end_time": "2018-02-28T22:38:41.048326Z",
     "start_time": "2018-02-28T22:38:40.995354Z"
    }
   },
   "outputs": [
    {
     "name": "stdout",
     "output_type": "stream",
     "text": [
      "['sorghum', 'wheat', 'sorghum', 'sorghum', 'sorghum']\n"
     ]
    }
   ],
   "source": [
    "# Here's an example of how it works.\n",
    "clust_dict = label_clusters(km_labels_train, y_labels_train)\n",
    "print(clust_dict[1])"
   ]
  },
  {
   "cell_type": "code",
   "execution_count": 39,
   "metadata": {
    "ExecuteTime": {
     "end_time": "2018-02-28T22:38:43.537845Z",
     "start_time": "2018-02-28T22:38:43.533623Z"
    }
   },
   "outputs": [],
   "source": [
    "# Function to find the most common label in a list.\n",
    "\n",
    "def find_common(lst):\n",
    "    return max(set(lst), key=lst.count)"
   ]
  },
  {
   "cell_type": "code",
   "execution_count": 40,
   "metadata": {
    "ExecuteTime": {
     "end_time": "2018-02-28T22:38:44.049520Z",
     "start_time": "2018-02-28T22:38:44.043296Z"
    }
   },
   "outputs": [
    {
     "data": {
      "text/plain": [
       "'sorghum'"
      ]
     },
     "execution_count": 40,
     "metadata": {},
     "output_type": "execute_result"
    }
   ],
   "source": [
    "# It works.\n",
    "find_common(clust_dict[1])"
   ]
  },
  {
   "cell_type": "code",
   "execution_count": 41,
   "metadata": {
    "ExecuteTime": {
     "end_time": "2018-02-28T22:38:45.657271Z",
     "start_time": "2018-02-28T22:38:45.650730Z"
    }
   },
   "outputs": [],
   "source": [
    "# Function to return evaluation metrics from a list.\n",
    "\n",
    "def eval_list(lst, disp=True):\n",
    "    if disp:\n",
    "        print('Most common:', find_common(lst), \n",
    "              '\\nTotal most common:', lst.count(find_common(lst)), \n",
    "              '\\nTotal all items:', len(lst))\n",
    "    return [find_common(lst), \n",
    "            lst.count(find_common(lst)), \n",
    "            len(lst), \n",
    "            float(format(lst.count(find_common(lst))/len(lst), '.2f'))]"
   ]
  },
  {
   "cell_type": "code",
   "execution_count": 42,
   "metadata": {
    "ExecuteTime": {
     "end_time": "2018-02-28T22:38:46.149051Z",
     "start_time": "2018-02-28T22:38:46.137943Z"
    }
   },
   "outputs": [
    {
     "name": "stdout",
     "output_type": "stream",
     "text": [
      "Most common: sorghum \n",
      "Total most common: 4 \n",
      "Total all items: 5\n"
     ]
    },
    {
     "data": {
      "text/plain": [
       "['sorghum', 4, 5, 0.8]"
      ]
     },
     "execution_count": 42,
     "metadata": {},
     "output_type": "execute_result"
    }
   ],
   "source": [
    "# Here's how it works.\n",
    "eval_list(clust_dict[1])"
   ]
  },
  {
   "cell_type": "code",
   "execution_count": 43,
   "metadata": {
    "ExecuteTime": {
     "end_time": "2018-02-28T22:39:46.562235Z",
     "start_time": "2018-02-28T22:39:20.786061Z"
    }
   },
   "outputs": [],
   "source": [
    "# Function to evaluate each cluster in a model.\n",
    "# Same inputs as label_clusters.\n",
    "# To run test set simultaneously (it uses the label from the training set), \n",
    "# include model_labels_test and true_labels_test.\n",
    "#\n",
    "# For large numbers of clusters, you may want show_clusters=False.\n",
    "#\n",
    "# Output is the percentage of points which are in a cluster where they are the most common element.\n",
    "\n",
    "def evaluate_clusters(model_labels, true_labels, model_labels_test=[], true_labels_test=[], show_clusters=True):\n",
    "    # Run the labeling function.\n",
    "    clust_dict = label_clusters(model_labels, true_labels)\n",
    "    \n",
    "    # Label the test set if provided.\n",
    "    if not true_labels_test is []:\n",
    "        clust_dict_test = label_clusters(model_labels_test, true_labels_test)\n",
    "    \n",
    "    # Keep track of how many points are well-labeled.\n",
    "    n_correct = 0\n",
    "    n_total = 0\n",
    "    n_correct_test = 0\n",
    "    n_total_test = 0\n",
    "    \n",
    "    # Tally for each key.\n",
    "    for key in clust_dict.keys():\n",
    "        \n",
    "        # Run our eval function\n",
    "        [label_common, n_common, n_all, common_pct] = eval_list(clust_dict[key], disp=False)\n",
    "        if show_clusters:\n",
    "            print([label_common, common_pct, n_all])\n",
    "        \n",
    "        # Add the correctly classified and total points to our tally.\n",
    "        n_correct += n_common\n",
    "        n_total += n_all\n",
    "        \n",
    "        # Add the correctly labeled test set results.\n",
    "        if not true_labels_test is []:\n",
    "            if not key in clust_dict_test.keys():\n",
    "                clust_dict_test[key] = []\n",
    "            n_correct_test += clust_dict_test[key].count(label_common)\n",
    "            n_total_test += len(clust_dict_test[key])\n",
    "   \n",
    "    return [n_correct/n_total, n_correct_test/n_total_test] if n_total_test else n_correct/n_total"
   ]
  },
  {
   "cell_type": "code",
   "execution_count": 44,
   "metadata": {
    "ExecuteTime": {
     "end_time": "2018-02-28T22:38:52.528550Z",
     "start_time": "2018-02-28T22:38:52.451117Z"
    }
   },
   "outputs": [
    {
     "name": "stdout",
     "output_type": "stream",
     "text": [
      "['sugar', 1.0, 7]\n",
      "['sorghum', 0.8, 5]\n",
      "['soy-oil', 1.0, 1]\n",
      "['gold', 0.61, 28]\n",
      "['wheat', 0.3, 557]\n",
      "['coffee', 1.0, 38]\n",
      "['cocoa', 0.73, 15]\n",
      "['wheat', 0.65, 57]\n",
      "['yen', 0.92, 12]\n",
      "['soy-oil', 1.0, 1]\n"
     ]
    },
    {
     "data": {
      "text/plain": [
       "[0.40499306518723993, 0.4190871369294606]"
      ]
     },
     "execution_count": 44,
     "metadata": {},
     "output_type": "execute_result"
    }
   ],
   "source": [
    "evaluate_clusters(km_labels_train, y_labels_train, km_labels_test, y_labels_test)"
   ]
  },
  {
   "cell_type": "markdown",
   "metadata": {
    "ExecuteTime": {
     "end_time": "2018-02-28T22:39:55.715312Z",
     "start_time": "2018-02-28T22:39:50.707472Z"
    },
    "collapsed": true
   },
   "source": [
    "Great! We now have an intuitive method for evaluating our clusters. Specifically, evaluate_clusters takes the output from our model, compares it to the category labels from our data set, and returns the percentage of examples which are in a cluster where they are the most common element. So with 1 cluster of three elements, if 2 elements are the same, the score would be 0.67. A more complicated example would be:\n",
    "\n",
    "    Cluster 0: [X, X, Y, Y, Y]\n",
    "    Cluster 1: [Z, Y, X, X]\n",
    "    \n",
    "This example would have a score of \n",
    "\n",
    "    (3+2)/(5+4) = .56\n",
    "    \n",
    "Or in words,\n",
    "    \n",
    "    (#correct from cluster 0 + #correct from cluster 1)/(total # cluster 0 + total # cluster 1)\n",
    "    \n",
    "Note that for multilabeled data, it is impossible to achieve a score of 1.0 because some clusters are required to include labels that are not the most common. \n",
    "\n",
    "The \"test set\" output is the same metric, but using the common label from the training set rather than the test set. \n",
    "\n",
    "Let's see how some models do."
   ]
  },
  {
   "cell_type": "markdown",
   "metadata": {},
   "source": [
    "### Running Unsupervised BoW Models\n",
    "\n",
    "Let's start with some different numbers of clusters for KMeans."
   ]
  },
  {
   "cell_type": "markdown",
   "metadata": {},
   "source": [
    "#### KMeans"
   ]
  },
  {
   "cell_type": "code",
   "execution_count": 45,
   "metadata": {
    "ExecuteTime": {
     "end_time": "2018-02-28T22:39:46.562235Z",
     "start_time": "2018-02-28T22:39:20.786061Z"
    }
   },
   "outputs": [
    {
     "name": "stdout",
     "output_type": "stream",
     "text": [
      "2 Clusters: [0.2843273231622746, 0.2863070539419087]\n",
      "4 Clusters: [0.2857142857142857, 0.2863070539419087]\n",
      "8 Clusters: [0.3606102635228849, 0.38589211618257263]\n",
      "16 Clusters: [0.4798890429958391, 0.4896265560165975]\n",
      "32 Clusters: [0.5533980582524272, 0.5394190871369294]\n",
      "64 Clusters: [0.6477115117891817, 0.5892116182572614]\n",
      "128 Clusters: [0.8183079056865464, 0.7385892116182573]\n"
     ]
    }
   ],
   "source": [
    "for n in [2, 4, 8, 16, 32, 64, 128]:\n",
    "    km = KMeans(n_clusters=n).fit(X_train)\n",
    "    km_labels_train = km.labels_\n",
    "    km_labels_test = km.predict(X_test)\n",
    "    print('{} Clusters:'.format(n), evaluate_clusters(km_labels_train, \n",
    "                                                      y_labels_train, \n",
    "                                                      km_labels_test, \n",
    "                                                      y_labels_test,\n",
    "                                                      show_clusters=False))"
   ]
  },
  {
   "cell_type": "markdown",
   "metadata": {
    "ExecuteTime": {
     "end_time": "2018-02-28T22:38:52.528550Z",
     "start_time": "2018-02-28T22:38:52.451117Z"
    },
    "collapsed": true
   },
   "source": [
    "So, we do better and better as we increase the number of clusters, but we don't want to overfit the data by giving every sentence its own cluster. We have 15 different categories which are possible outputs, so I think it's fair to stick with 32 clusters. There is also a fair amount of variation between runs. Let's see how our clusters were defined."
   ]
  },
  {
   "cell_type": "code",
   "execution_count": 46,
   "metadata": {
    "ExecuteTime": {
     "end_time": "2018-02-28T22:39:55.715312Z",
     "start_time": "2018-02-28T22:39:50.707472Z"
    }
   },
   "outputs": [
    {
     "name": "stdout",
     "output_type": "stream",
     "text": [
      "['soy-oil', 0.5, 2]\n",
      "['sugar', 1.0, 30]\n",
      "['soy-oil', 1.0, 1]\n",
      "['gold', 0.95, 66]\n",
      "['cocoa', 0.82, 11]\n",
      "['soy-oil', 1.0, 1]\n",
      "['rubber', 1.0, 3]\n",
      "['coffee', 0.97, 58]\n",
      "['rubber', 0.8, 15]\n",
      "['cocoa', 1.0, 8]\n",
      "['wheat', 0.63, 19]\n",
      "['yen', 0.83, 30]\n",
      "['sugar', 1.0, 1]\n",
      "['coffee', 1.0, 11]\n",
      "['wheat', 0.28, 317]\n",
      "['sugar', 1.0, 3]\n",
      "['coffee', 1.0, 2]\n",
      "['soy-oil', 1.0, 1]\n",
      "['sorghum', 1.0, 4]\n",
      "['cocoa', 1.0, 1]\n",
      "['palm-oil', 1.0, 1]\n",
      "['wheat', 0.61, 67]\n",
      "['yen', 1.0, 1]\n",
      "['wheat', 0.98, 57]\n",
      "['wheat', 1.0, 1]\n",
      "['coffee', 1.0, 2]\n",
      "['tin', 1.0, 1]\n",
      "['gold', 1.0, 2]\n",
      "['gold', 1.0, 2]\n",
      "['sugar', 1.0, 1]\n",
      "['sugar', 1.0, 1]\n",
      "['wheat', 1.0, 1]\n",
      "32 Clusters: 0.6158113730929264\n"
     ]
    }
   ],
   "source": [
    "n_clusters=32\n",
    "km = KMeans(n_clusters=n_clusters).fit(X_train)\n",
    "km_labels_train = km.labels_\n",
    "print('{} Clusters:'.format(n_clusters), evaluate_clusters(km_labels_train, y_labels_train, show_clusters=True))"
   ]
  },
  {
   "cell_type": "markdown",
   "metadata": {
    "ExecuteTime": {
     "end_time": "2018-02-28T22:39:46.562235Z",
     "start_time": "2018-02-28T22:39:20.786061Z"
    },
    "collapsed": true
   },
   "source": [
    "Like our initial example of 10 clusters, we continue to have one large cluster with very poor separation, and a lot of clusters that are only one example. Let's try some other models."
   ]
  },
  {
   "cell_type": "markdown",
   "metadata": {},
   "source": [
    "#### MeanShift"
   ]
  },
  {
   "cell_type": "code",
   "execution_count": 47,
   "metadata": {
    "ExecuteTime": {
     "end_time": "2018-02-28T22:44:16.566225Z",
     "start_time": "2018-02-28T22:41:35.009331Z"
    }
   },
   "outputs": [
    {
     "name": "stdout",
     "output_type": "stream",
     "text": [
      "['wheat', 0.3, 603]\n",
      "['coffee', 1.0, 2]\n",
      "['yen', 1.0, 2]\n",
      "['yen', 1.0, 2]\n",
      "['yen', 1.0, 2]\n",
      "['gold', 1.0, 2]\n",
      "['cocoa', 1.0, 1]\n",
      "['tin', 1.0, 1]\n",
      "['coffee', 1.0, 1]\n",
      "['wheat', 1.0, 1]\n",
      "['cocoa', 1.0, 3]\n",
      "['sugar', 1.0, 1]\n",
      "['coffee', 1.0, 1]\n",
      "['yen', 1.0, 1]\n",
      "['sugar', 1.0, 1]\n",
      "['soy-oil', 1.0, 1]\n",
      "['sorghum', 1.0, 1]\n",
      "['yen', 1.0, 1]\n",
      "['yen', 1.0, 1]\n",
      "['coffee', 1.0, 1]\n",
      "['sugar', 1.0, 1]\n",
      "['wheat', 1.0, 1]\n",
      "['sugar', 1.0, 1]\n",
      "['wheat', 1.0, 1]\n",
      "['wheat', 1.0, 1]\n",
      "['cocoa', 1.0, 1]\n",
      "['wheat', 1.0, 1]\n",
      "['cocoa', 1.0, 1]\n",
      "['nzdlr', 1.0, 1]\n",
      "['cocoa', 1.0, 1]\n",
      "['wheat', 1.0, 1]\n",
      "['wheat', 1.0, 1]\n",
      "['rubber', 1.0, 1]\n",
      "['coffee', 1.0, 1]\n",
      "['tin', 1.0, 1]\n",
      "['sugar', 1.0, 1]\n",
      "['nzdlr', 1.0, 1]\n",
      "['palm-oil', 1.0, 1]\n",
      "['sugar', 1.0, 1]\n",
      "['coffee', 1.0, 1]\n",
      "['wheat', 1.0, 1]\n",
      "['sugar', 1.0, 1]\n",
      "['sugar', 1.0, 1]\n",
      "['wheat', 1.0, 1]\n",
      "['coffee', 1.0, 1]\n",
      "['wheat', 0.67, 3]\n",
      "['wheat', 1.0, 1]\n",
      "['tin', 1.0, 1]\n",
      "['yen', 1.0, 1]\n",
      "['sugar', 1.0, 1]\n",
      "['coffee', 1.0, 1]\n",
      "['rubber', 1.0, 2]\n",
      "['wheat', 1.0, 1]\n",
      "['sugar', 1.0, 1]\n",
      "['wheat', 1.0, 1]\n",
      "['gold', 1.0, 1]\n",
      "['wheat', 1.0, 1]\n",
      "['wheat', 1.0, 1]\n",
      "['sugar', 1.0, 1]\n",
      "['yen', 1.0, 1]\n",
      "['soy-oil', 1.0, 1]\n",
      "['sugar', 1.0, 1]\n",
      "['sugar', 1.0, 1]\n",
      "['wheat', 1.0, 1]\n",
      "['rubber', 1.0, 1]\n",
      "['cocoa', 1.0, 1]\n",
      "['yen', 1.0, 1]\n",
      "['coffee', 1.0, 1]\n",
      "['palm-oil', 1.0, 1]\n",
      "['coffee', 1.0, 1]\n",
      "['sugar', 1.0, 1]\n",
      "['soy-oil', 1.0, 1]\n",
      "['coffee', 1.0, 1]\n",
      "['soy-oil', 1.0, 1]\n",
      "['wheat', 1.0, 1]\n",
      "['wheat', 1.0, 1]\n",
      "['coffee', 1.0, 1]\n",
      "['gold', 1.0, 1]\n",
      "['soy-oil', 1.0, 1]\n",
      "['sugar', 1.0, 1]\n",
      "['cocoa', 1.0, 1]\n",
      "['coffee', 1.0, 1]\n",
      "['sugar', 1.0, 1]\n",
      "['palm-oil', 1.0, 1]\n",
      "['yen', 1.0, 1]\n",
      "['sorghum', 1.0, 1]\n",
      "['sorghum', 1.0, 1]\n",
      "['wheat', 1.0, 1]\n",
      "['soy-oil', 1.0, 1]\n",
      "['coffee', 1.0, 1]\n",
      "['coffee', 1.0, 1]\n",
      "['rubber', 1.0, 1]\n",
      "['wheat', 1.0, 1]\n",
      "['wheat', 1.0, 1]\n",
      "['tin', 1.0, 1]\n",
      "['rubber', 1.0, 1]\n",
      "['wheat', 1.0, 1]\n",
      "['sorghum', 1.0, 1]\n",
      "['sorghum', 1.0, 1]\n",
      "['rubber', 1.0, 1]\n",
      "['sugar', 1.0, 1]\n",
      "['soy-oil', 1.0, 1]\n",
      "['gold', 1.0, 1]\n",
      "['cocoa', 1.0, 1]\n",
      "['coffee', 1.0, 1]\n",
      "['wheat', 1.0, 1]\n",
      "['rubber', 1.0, 1]\n",
      "['rubber', 1.0, 1]\n",
      "['gold', 1.0, 1]\n",
      "109 Clusters: [0.4119278779472954, 0.3360995850622407]\n"
     ]
    }
   ],
   "source": [
    "bandwidth = estimate_bandwidth(X_train, quantile=0.5, n_samples=500)\n",
    "\n",
    "ms = MeanShift(bandwidth=bandwidth).fit(X_train)\n",
    "ms_labels_train = ms.labels_\n",
    "ms_labels_test = ms.predict(X_test)\n",
    "n_clusters = ms.cluster_centers_.shape[0]\n",
    "\n",
    "print('{} Clusters:'.format(n_clusters), evaluate_clusters(ms_labels_train, \n",
    "                                                           y_labels_train, \n",
    "                                                           ms_labels_test, \n",
    "                                                           y_labels_test, \n",
    "                                                           show_clusters=True))"
   ]
  },
  {
   "cell_type": "markdown",
   "metadata": {
    "ExecuteTime": {
     "end_time": "2018-02-28T22:44:16.566225Z",
     "start_time": "2018-02-28T22:41:35.009331Z"
    },
    "collapsed": true
   },
   "source": [
    "Yuck -- this just chose a bunch of single points to classify and left almost everything else in a single cluster. Even so it does really badly -- evaluation of 0.41 on training and 0.34 on test."
   ]
  },
  {
   "cell_type": "markdown",
   "metadata": {
    "ExecuteTime": {
     "end_time": "2018-02-28T22:45:03.607054Z",
     "start_time": "2018-02-28T22:45:01.463051Z"
    },
    "collapsed": true
   },
   "source": [
    "#### Spectral Clustering"
   ]
  },
  {
   "cell_type": "code",
   "execution_count": 48,
   "metadata": {
    "ExecuteTime": {
     "end_time": "2018-02-28T22:44:16.566225Z",
     "start_time": "2018-02-28T22:41:35.009331Z"
    }
   },
   "outputs": [
    {
     "name": "stderr",
     "output_type": "stream",
     "text": [
      "/Users/maxcalabro/anaconda3/lib/python3.6/site-packages/sklearn/manifold/spectral_embedding_.py:234: UserWarning: Graph is not fully connected, spectral embedding may not work as expected.\n",
      "  warnings.warn(\"Graph is not fully connected, spectral embedding\"\n"
     ]
    },
    {
     "name": "stdout",
     "output_type": "stream",
     "text": [
      "['wheat', 0.29, 697]\n",
      "['gold', 0.5, 8]\n",
      "['wheat', 0.5, 8]\n",
      "['gold', 0.25, 8]\n",
      "4 Clusters: 0.289875173370319\n",
      "['wheat', 0.29, 697]\n",
      "['yen', 0.5, 4]\n",
      "['gold', 1.0, 2]\n",
      "['yen', 0.33, 6]\n",
      "['wheat', 1.0, 2]\n",
      "['wheat', 0.5, 2]\n",
      "['gold', 1.0, 4]\n",
      "['gold', 1.0, 4]\n",
      "8 Clusters: 0.29958391123439665\n"
     ]
    },
    {
     "ename": "LinAlgError",
     "evalue": "13-th leading minor not positive definite",
     "output_type": "error",
     "traceback": [
      "\u001b[0;31m---------------------------------------------------------------------------\u001b[0m",
      "\u001b[0;31mLinAlgError\u001b[0m                               Traceback (most recent call last)",
      "\u001b[0;32m<ipython-input-48-2bb768b55deb>\u001b[0m in \u001b[0;36m<module>\u001b[0;34m()\u001b[0m\n\u001b[1;32m      1\u001b[0m \u001b[0;32mfor\u001b[0m \u001b[0mn\u001b[0m \u001b[0;32min\u001b[0m \u001b[0;34m[\u001b[0m\u001b[0;36m4\u001b[0m\u001b[0;34m,\u001b[0m \u001b[0;36m8\u001b[0m\u001b[0;34m,\u001b[0m \u001b[0;36m16\u001b[0m\u001b[0;34m]\u001b[0m\u001b[0;34m:\u001b[0m\u001b[0;34m\u001b[0m\u001b[0m\n\u001b[0;32m----> 2\u001b[0;31m     \u001b[0msc\u001b[0m \u001b[0;34m=\u001b[0m \u001b[0mSpectralClustering\u001b[0m\u001b[0;34m(\u001b[0m\u001b[0mn_clusters\u001b[0m\u001b[0;34m=\u001b[0m\u001b[0mn\u001b[0m\u001b[0;34m)\u001b[0m\u001b[0;34m.\u001b[0m\u001b[0mfit\u001b[0m\u001b[0;34m(\u001b[0m\u001b[0mX_train\u001b[0m\u001b[0;34m)\u001b[0m\u001b[0;34m\u001b[0m\u001b[0m\n\u001b[0m\u001b[1;32m      3\u001b[0m     \u001b[0msc_labels_train\u001b[0m \u001b[0;34m=\u001b[0m \u001b[0msc\u001b[0m\u001b[0;34m.\u001b[0m\u001b[0mlabels_\u001b[0m\u001b[0;34m\u001b[0m\u001b[0m\n\u001b[1;32m      4\u001b[0m     print('{} Clusters:'.format(n), evaluate_clusters(sc_labels_train, \n\u001b[1;32m      5\u001b[0m                                                       \u001b[0my_labels_train\u001b[0m\u001b[0;34m,\u001b[0m\u001b[0;34m\u001b[0m\u001b[0m\n",
      "\u001b[0;32m~/anaconda3/lib/python3.6/site-packages/sklearn/cluster/spectral.py\u001b[0m in \u001b[0;36mfit\u001b[0;34m(self, X, y)\u001b[0m\n\u001b[1;32m    467\u001b[0m                                            \u001b[0mn_init\u001b[0m\u001b[0;34m=\u001b[0m\u001b[0mself\u001b[0m\u001b[0;34m.\u001b[0m\u001b[0mn_init\u001b[0m\u001b[0;34m,\u001b[0m\u001b[0;34m\u001b[0m\u001b[0m\n\u001b[1;32m    468\u001b[0m                                            \u001b[0meigen_tol\u001b[0m\u001b[0;34m=\u001b[0m\u001b[0mself\u001b[0m\u001b[0;34m.\u001b[0m\u001b[0meigen_tol\u001b[0m\u001b[0;34m,\u001b[0m\u001b[0;34m\u001b[0m\u001b[0m\n\u001b[0;32m--> 469\u001b[0;31m                                            assign_labels=self.assign_labels)\n\u001b[0m\u001b[1;32m    470\u001b[0m         \u001b[0;32mreturn\u001b[0m \u001b[0mself\u001b[0m\u001b[0;34m\u001b[0m\u001b[0m\n\u001b[1;32m    471\u001b[0m \u001b[0;34m\u001b[0m\u001b[0m\n",
      "\u001b[0;32m~/anaconda3/lib/python3.6/site-packages/sklearn/cluster/spectral.py\u001b[0m in \u001b[0;36mspectral_clustering\u001b[0;34m(affinity, n_clusters, n_components, eigen_solver, random_state, n_init, eigen_tol, assign_labels)\u001b[0m\n\u001b[1;32m    260\u001b[0m                               \u001b[0meigen_solver\u001b[0m\u001b[0;34m=\u001b[0m\u001b[0meigen_solver\u001b[0m\u001b[0;34m,\u001b[0m\u001b[0;34m\u001b[0m\u001b[0m\n\u001b[1;32m    261\u001b[0m                               \u001b[0mrandom_state\u001b[0m\u001b[0;34m=\u001b[0m\u001b[0mrandom_state\u001b[0m\u001b[0;34m,\u001b[0m\u001b[0;34m\u001b[0m\u001b[0m\n\u001b[0;32m--> 262\u001b[0;31m                               eigen_tol=eigen_tol, drop_first=False)\n\u001b[0m\u001b[1;32m    263\u001b[0m \u001b[0;34m\u001b[0m\u001b[0m\n\u001b[1;32m    264\u001b[0m     \u001b[0;32mif\u001b[0m \u001b[0massign_labels\u001b[0m \u001b[0;34m==\u001b[0m \u001b[0;34m'kmeans'\u001b[0m\u001b[0;34m:\u001b[0m\u001b[0;34m\u001b[0m\u001b[0m\n",
      "\u001b[0;32m~/anaconda3/lib/python3.6/site-packages/sklearn/manifold/spectral_embedding_.py\u001b[0m in \u001b[0;36mspectral_embedding\u001b[0;34m(adjacency, n_components, eigen_solver, random_state, eigen_tol, norm_laplacian, drop_first)\u001b[0m\n\u001b[1;32m    315\u001b[0m             \u001b[0mX\u001b[0m\u001b[0;34m[\u001b[0m\u001b[0;34m:\u001b[0m\u001b[0;34m,\u001b[0m \u001b[0;36m0\u001b[0m\u001b[0;34m]\u001b[0m \u001b[0;34m=\u001b[0m \u001b[0mdd\u001b[0m\u001b[0;34m.\u001b[0m\u001b[0mravel\u001b[0m\u001b[0;34m(\u001b[0m\u001b[0;34m)\u001b[0m\u001b[0;34m\u001b[0m\u001b[0m\n\u001b[1;32m    316\u001b[0m             lambdas, diffusion_map = lobpcg(laplacian, X, tol=1e-15,\n\u001b[0;32m--> 317\u001b[0;31m                                             largest=False, maxiter=2000)\n\u001b[0m\u001b[1;32m    318\u001b[0m             \u001b[0membedding\u001b[0m \u001b[0;34m=\u001b[0m \u001b[0mdiffusion_map\u001b[0m\u001b[0;34m.\u001b[0m\u001b[0mT\u001b[0m\u001b[0;34m[\u001b[0m\u001b[0;34m:\u001b[0m\u001b[0mn_components\u001b[0m\u001b[0;34m]\u001b[0m \u001b[0;34m*\u001b[0m \u001b[0mdd\u001b[0m\u001b[0;34m\u001b[0m\u001b[0m\n\u001b[1;32m    319\u001b[0m             \u001b[0;32mif\u001b[0m \u001b[0membedding\u001b[0m\u001b[0;34m.\u001b[0m\u001b[0mshape\u001b[0m\u001b[0;34m[\u001b[0m\u001b[0;36m0\u001b[0m\u001b[0;34m]\u001b[0m \u001b[0;34m==\u001b[0m \u001b[0;36m1\u001b[0m\u001b[0;34m:\u001b[0m\u001b[0;34m\u001b[0m\u001b[0m\n",
      "\u001b[0;32m~/anaconda3/lib/python3.6/site-packages/scipy/sparse/linalg/eigen/lobpcg/lobpcg.py\u001b[0m in \u001b[0;36mlobpcg\u001b[0;34m(A, X, B, M, Y, tol, maxiter, largest, verbosityLevel, retLambdaHistory, retResidualNormsHistory)\u001b[0m\n\u001b[1;32m    453\u001b[0m         \u001b[0;32mif\u001b[0m \u001b[0miterationNumber\u001b[0m \u001b[0;34m>\u001b[0m \u001b[0;36m0\u001b[0m\u001b[0;34m:\u001b[0m\u001b[0;34m\u001b[0m\u001b[0m\n\u001b[1;32m    454\u001b[0m             aux = _b_orthonormalize(B, activeBlockVectorP,\n\u001b[0;32m--> 455\u001b[0;31m                                     activeBlockVectorBP, retInvR=True)\n\u001b[0m\u001b[1;32m    456\u001b[0m             \u001b[0mactiveBlockVectorP\u001b[0m\u001b[0;34m,\u001b[0m \u001b[0mactiveBlockVectorBP\u001b[0m\u001b[0;34m,\u001b[0m \u001b[0minvR\u001b[0m \u001b[0;34m=\u001b[0m \u001b[0maux\u001b[0m\u001b[0;34m\u001b[0m\u001b[0m\n\u001b[1;32m    457\u001b[0m             \u001b[0mactiveBlockVectorAP\u001b[0m \u001b[0;34m=\u001b[0m \u001b[0mnp\u001b[0m\u001b[0;34m.\u001b[0m\u001b[0mdot\u001b[0m\u001b[0;34m(\u001b[0m\u001b[0mactiveBlockVectorAP\u001b[0m\u001b[0;34m,\u001b[0m \u001b[0minvR\u001b[0m\u001b[0;34m)\u001b[0m\u001b[0;34m\u001b[0m\u001b[0m\n",
      "\u001b[0;32m~/anaconda3/lib/python3.6/site-packages/scipy/sparse/linalg/eigen/lobpcg/lobpcg.py\u001b[0m in \u001b[0;36m_b_orthonormalize\u001b[0;34m(B, blockVectorV, blockVectorBV, retInvR)\u001b[0m\n\u001b[1;32m     99\u001b[0m             \u001b[0mblockVectorBV\u001b[0m \u001b[0;34m=\u001b[0m \u001b[0mblockVectorV\u001b[0m  \u001b[0;31m# Shared data!!!\u001b[0m\u001b[0;34m\u001b[0m\u001b[0m\n\u001b[1;32m    100\u001b[0m     \u001b[0mgramVBV\u001b[0m \u001b[0;34m=\u001b[0m \u001b[0mnp\u001b[0m\u001b[0;34m.\u001b[0m\u001b[0mdot\u001b[0m\u001b[0;34m(\u001b[0m\u001b[0mblockVectorV\u001b[0m\u001b[0;34m.\u001b[0m\u001b[0mT\u001b[0m\u001b[0;34m,\u001b[0m \u001b[0mblockVectorBV\u001b[0m\u001b[0;34m)\u001b[0m\u001b[0;34m\u001b[0m\u001b[0m\n\u001b[0;32m--> 101\u001b[0;31m     \u001b[0mgramVBV\u001b[0m \u001b[0;34m=\u001b[0m \u001b[0mcholesky\u001b[0m\u001b[0;34m(\u001b[0m\u001b[0mgramVBV\u001b[0m\u001b[0;34m)\u001b[0m\u001b[0;34m\u001b[0m\u001b[0m\n\u001b[0m\u001b[1;32m    102\u001b[0m     \u001b[0mgramVBV\u001b[0m \u001b[0;34m=\u001b[0m \u001b[0minv\u001b[0m\u001b[0;34m(\u001b[0m\u001b[0mgramVBV\u001b[0m\u001b[0;34m,\u001b[0m \u001b[0moverwrite_a\u001b[0m\u001b[0;34m=\u001b[0m\u001b[0;32mTrue\u001b[0m\u001b[0;34m)\u001b[0m\u001b[0;34m\u001b[0m\u001b[0m\n\u001b[1;32m    103\u001b[0m     \u001b[0;31m# gramVBV is now R^{-1}.\u001b[0m\u001b[0;34m\u001b[0m\u001b[0;34m\u001b[0m\u001b[0m\n",
      "\u001b[0;32m~/anaconda3/lib/python3.6/site-packages/scipy/linalg/decomp_cholesky.py\u001b[0m in \u001b[0;36mcholesky\u001b[0;34m(a, lower, overwrite_a, check_finite)\u001b[0m\n\u001b[1;32m     79\u001b[0m     \"\"\"\n\u001b[1;32m     80\u001b[0m     c, lower = _cholesky(a, lower=lower, overwrite_a=overwrite_a, clean=True,\n\u001b[0;32m---> 81\u001b[0;31m                             check_finite=check_finite)\n\u001b[0m\u001b[1;32m     82\u001b[0m     \u001b[0;32mreturn\u001b[0m \u001b[0mc\u001b[0m\u001b[0;34m\u001b[0m\u001b[0m\n\u001b[1;32m     83\u001b[0m \u001b[0;34m\u001b[0m\u001b[0m\n",
      "\u001b[0;32m~/anaconda3/lib/python3.6/site-packages/scipy/linalg/decomp_cholesky.py\u001b[0m in \u001b[0;36m_cholesky\u001b[0;34m(a, lower, overwrite_a, clean, check_finite)\u001b[0m\n\u001b[1;32m     28\u001b[0m     \u001b[0mc\u001b[0m\u001b[0;34m,\u001b[0m \u001b[0minfo\u001b[0m \u001b[0;34m=\u001b[0m \u001b[0mpotrf\u001b[0m\u001b[0;34m(\u001b[0m\u001b[0ma1\u001b[0m\u001b[0;34m,\u001b[0m \u001b[0mlower\u001b[0m\u001b[0;34m=\u001b[0m\u001b[0mlower\u001b[0m\u001b[0;34m,\u001b[0m \u001b[0moverwrite_a\u001b[0m\u001b[0;34m=\u001b[0m\u001b[0moverwrite_a\u001b[0m\u001b[0;34m,\u001b[0m \u001b[0mclean\u001b[0m\u001b[0;34m=\u001b[0m\u001b[0mclean\u001b[0m\u001b[0;34m)\u001b[0m\u001b[0;34m\u001b[0m\u001b[0m\n\u001b[1;32m     29\u001b[0m     \u001b[0;32mif\u001b[0m \u001b[0minfo\u001b[0m \u001b[0;34m>\u001b[0m \u001b[0;36m0\u001b[0m\u001b[0;34m:\u001b[0m\u001b[0;34m\u001b[0m\u001b[0m\n\u001b[0;32m---> 30\u001b[0;31m         \u001b[0;32mraise\u001b[0m \u001b[0mLinAlgError\u001b[0m\u001b[0;34m(\u001b[0m\u001b[0;34m\"%d-th leading minor not positive definite\"\u001b[0m \u001b[0;34m%\u001b[0m \u001b[0minfo\u001b[0m\u001b[0;34m)\u001b[0m\u001b[0;34m\u001b[0m\u001b[0m\n\u001b[0m\u001b[1;32m     31\u001b[0m     \u001b[0;32mif\u001b[0m \u001b[0minfo\u001b[0m \u001b[0;34m<\u001b[0m \u001b[0;36m0\u001b[0m\u001b[0;34m:\u001b[0m\u001b[0;34m\u001b[0m\u001b[0m\n\u001b[1;32m     32\u001b[0m         raise ValueError('illegal value in %d-th argument of internal potrf'\n",
      "\u001b[0;31mLinAlgError\u001b[0m: 13-th leading minor not positive definite"
     ]
    }
   ],
   "source": [
    "for n in [4, 8, 16]:\n",
    "    sc = SpectralClustering(n_clusters=n).fit(X_train)\n",
    "    sc_labels_train = sc.labels_\n",
    "    print('{} Clusters:'.format(n), evaluate_clusters(sc_labels_train, \n",
    "                                                      y_labels_train,\n",
    "                                                      show_clusters=True))"
   ]
  },
  {
   "cell_type": "markdown",
   "metadata": {
    "ExecuteTime": {
     "end_time": "2018-02-28T22:45:03.607054Z",
     "start_time": "2018-02-28T22:45:01.463051Z"
    },
    "collapsed": true
   },
   "source": [
    "So, I don't know what's going wrong here. Spectral Clustering is failing on certain runs, but not always. Maybe some peculiarity in the data? It's also not doing great with only a handful of clusters, so let's move on."
   ]
  },
  {
   "cell_type": "markdown",
   "metadata": {
    "ExecuteTime": {
     "end_time": "2018-02-28T22:44:16.566225Z",
     "start_time": "2018-02-28T22:41:35.009331Z"
    },
    "collapsed": true
   },
   "source": [
    "#### Affinity Propagation"
   ]
  },
  {
   "cell_type": "code",
   "execution_count": 49,
   "metadata": {
    "ExecuteTime": {
     "end_time": "2018-02-28T22:45:03.607054Z",
     "start_time": "2018-02-28T22:45:01.463051Z"
    }
   },
   "outputs": [
    {
     "name": "stdout",
     "output_type": "stream",
     "text": [
      "151 Clusters: [0.6754507628294036, 0.5809128630705395]\n"
     ]
    }
   ],
   "source": [
    "ap = AffinityPropagation(damping=0.5).fit(X_train)\n",
    "ap_labels_train = ap.labels_\n",
    "ap_labels_test = ap.predict(X_test)\n",
    "n_clusters = ap.cluster_centers_.shape[0]\n",
    "\n",
    "print('{} Clusters:'.format(n_clusters), evaluate_clusters(ap_labels_train, \n",
    "                                                           y_labels_train, \n",
    "                                                           ap_labels_test, \n",
    "                                                           y_labels_test, \n",
    "                                                           show_clusters=False))"
   ]
  },
  {
   "cell_type": "markdown",
   "metadata": {
    "ExecuteTime": {
     "end_time": "2018-02-28T22:44:16.566225Z",
     "start_time": "2018-02-28T22:41:35.009331Z"
    },
    "collapsed": true
   },
   "source": [
    "Well, this score (0.68 training, 0.58 test) is pretty good, but we're creating way too many clusters (151) and overfitting. For reference, when we allowed 128 clusters for KMeans, our training and test values were 0.78 and 0.73, respectively.\n",
    "\n",
    "Overall, I'd say KMeans is doing the best. We're able to control the number of clusters to prevent overfitting, and we're getting the highest evaluation score with fewer clusters than the other algorithms. I do think somewhere around 30-50 clusters is the sweet spot of maximizing accuracy without overfitting too much.\n",
    "\n",
    "Moving on!"
   ]
  },
  {
   "cell_type": "markdown",
   "metadata": {},
   "source": [
    "### LSA with BoW\n",
    "\n",
    "How about Latent Semantic Analysis with our Bag of Words?"
   ]
  },
  {
   "cell_type": "code",
   "execution_count": 50,
   "metadata": {
    "ExecuteTime": {
     "end_time": "2018-02-28T22:45:09.687563Z",
     "start_time": "2018-02-28T22:45:09.674514Z"
    },
    "collapsed": true
   },
   "outputs": [],
   "source": [
    "from sklearn.pipeline import make_pipeline\n",
    "from sklearn.preprocessing import Normalizer"
   ]
  },
  {
   "cell_type": "code",
   "execution_count": 51,
   "metadata": {
    "ExecuteTime": {
     "end_time": "2018-02-28T22:45:57.330520Z",
     "start_time": "2018-02-28T22:45:57.316301Z"
    }
   },
   "outputs": [
    {
     "name": "stdout",
     "output_type": "stream",
     "text": [
      "Variance explained with 30 components: 0.634343282326\n"
     ]
    }
   ],
   "source": [
    "# Build and fit our decomposition model. \n",
    "# Let's use 30 components to maintain consistency with our other models.\n",
    "n_components = 30\n",
    "svd = TruncatedSVD(n_components)\n",
    "lsa = make_pipeline(svd, Normalizer(copy=False))\n",
    "\n",
    "X_train_lsa = lsa.fit_transform(X_train)\n",
    "\n",
    "print('Variance explained with {} components:'.format(n_components), svd.explained_variance_ratio_.sum())"
   ]
  },
  {
   "cell_type": "code",
   "execution_count": 52,
   "metadata": {
    "ExecuteTime": {
     "end_time": "2018-02-28T22:45:37.777090Z",
     "start_time": "2018-02-28T22:45:37.740598Z"
    }
   },
   "outputs": [
    {
     "name": "stdout",
     "output_type": "stream",
     "text": [
      "Component 0:\n",
      "categories_reduced\n",
      "[soy-oil, sorghum]    0.998767\n",
      "[coffee]              0.986346\n",
      "[coffee]              0.984629\n",
      "[coffee]              0.971175\n",
      "[sugar]               0.970083\n",
      "Name: 0, dtype: float64\n",
      "Component 1:\n",
      "categories_reduced\n",
      "[wheat]    0.815419\n",
      "[sugar]    0.814558\n",
      "[wheat]    0.810298\n",
      "[sugar]    0.786852\n",
      "[sugar]    0.774277\n",
      "Name: 1, dtype: float64\n",
      "Component 2:\n",
      "categories_reduced\n",
      "[wheat]                      0.460702\n",
      "[soy-oil, wheat, sorghum]    0.432821\n",
      "[wheat]                      0.427429\n",
      "[wheat]                      0.422798\n",
      "[wheat]                      0.422784\n",
      "Name: 2, dtype: float64\n",
      "Component 3:\n",
      "categories_reduced\n",
      "[wheat]                      0.696778\n",
      "[soy-oil, wheat, sorghum]    0.684417\n",
      "[soy-oil, wheat]             0.478858\n",
      "[gold]                       0.333036\n",
      "[soy-oil]                    0.328951\n",
      "Name: 3, dtype: float64\n",
      "Component 4:\n",
      "categories_reduced\n",
      "[cocoa]    0.717628\n",
      "[cocoa]    0.716989\n",
      "[cocoa]    0.689478\n",
      "[cocoa]    0.677542\n",
      "[cocoa]    0.663771\n",
      "Name: 4, dtype: float64\n",
      "Component 5:\n",
      "categories_reduced\n",
      "[sugar]    0.551757\n",
      "[sugar]    0.551757\n",
      "[sugar]    0.544176\n",
      "[sugar]    0.536446\n",
      "[sugar]    0.527547\n",
      "Name: 5, dtype: float64\n",
      "Component 6:\n",
      "categories_reduced\n",
      "[sugar]    0.638457\n",
      "[sugar]    0.584347\n",
      "[sugar]    0.584347\n",
      "[sugar]    0.559459\n",
      "[sugar]    0.557685\n",
      "Name: 6, dtype: float64\n",
      "Component 7:\n",
      "categories_reduced\n",
      "[wheat]    0.731650\n",
      "[wheat]    0.699317\n",
      "[wheat]    0.691452\n",
      "[wheat]    0.690047\n",
      "[wheat]    0.684623\n",
      "Name: 7, dtype: float64\n",
      "Component 8:\n",
      "categories_reduced\n",
      "[wheat]             0.551039\n",
      "[wheat]             0.533468\n",
      "[wheat, sorghum]    0.503415\n",
      "[wheat]             0.467750\n",
      "[wheat]             0.458472\n",
      "Name: 8, dtype: float64\n",
      "Component 9:\n",
      "categories_reduced\n",
      "[gold]    0.802391\n",
      "[gold]    0.793387\n",
      "[gold]    0.783980\n",
      "[gold]    0.776337\n",
      "[gold]    0.774006\n",
      "Name: 9, dtype: float64\n"
     ]
    }
   ],
   "source": [
    "# Make a Dataframe with categories as indices and components as features\n",
    "categories_by_component=pd.DataFrame(X_train_lsa,index=y_labels_train)\n",
    "categories_by_component.shape\n",
    "\n",
    "# Show the highest values for a few components, along with their articles\n",
    "for i in range(10):\n",
    "    print('Component {}:'.format(i))\n",
    "    print(categories_by_component.loc[:,i].sort_values(ascending=False)[0:5])"
   ]
  },
  {
   "cell_type": "markdown",
   "metadata": {
    "ExecuteTime": {
     "end_time": "2018-02-28T22:45:09.687563Z",
     "start_time": "2018-02-28T22:45:09.674514Z"
    },
    "collapsed": true
   },
   "source": [
    "This is great! Many of these components are excellent. I'm curious about components 0 and 1 -- they have very high scores, but different categories. Maybe there is some other similarity in the text? Let's look."
   ]
  },
  {
   "cell_type": "code",
   "execution_count": 53,
   "metadata": {
    "ExecuteTime": {
     "end_time": "2018-02-28T22:45:57.330520Z",
     "start_time": "2018-02-28T22:45:57.316301Z"
    }
   },
   "outputs": [
    {
     "name": "stdout",
     "output_type": "stream",
     "text": [
      "Component 0:\n",
      "article_text\n",
      "net change in export commitments -- usda the u.s. agriculture department gave the net change in export commitments, including sales, cancellations, foreign purchases and cumulative exports, in the current seasons through the week ended april 2, with comparisons, as follows, in tonnes, except as noted -- 4/2/87 prev week all wheat 119,800 368,300 corn 1,001,900 927,000 soybeans 240,500 300,900 soy cake/meal 117,700 170,200 soybean oil 2,400-x 8,100 cotton-y 60,200 31,900 x-minus total. y-running bales. the indicated totals include reported commitments to both named and unnamed destinations, sales on exporters' own account and optional origin sales plus actual exports already made during the respective marketing seasons. the usda cautions that reported outstanding sales are subject to modification, deferral or cancellation and it is unlikely that all reported quantities will be exported. usda gave detailed breakdowns for the 1986/87 and 1987/88 seasons as follows, in thousand tonnes unless stated -- (a) - firm sales to a declared destination. (b) - ultimate destination not yet declared. (c) - sales made on exporters' own account. (d) - exporter holds option to fill commitment with supplies from origins other than u.s. (e) - accumulated exports since season began based on data reported by exporters. (f) - indicated total for season. (g) - usda-projected exports for season. note -- totals may not add due to rounding. all wheat 1986/87 1987/88 4/2/87 prev wk 4/3/87 prev wk named-a 3,157.6 3,684.1 1,591.4 1,635.6 unnamed-b 143.8 144.3 87.1 57.1 e.o.a.-c 9.5 9.5 nil nil o.o.p.-d nil nil nil nil gr total 3,310.9 3,837.9 1,679.0 1,692.7 ay expd-e 21,044.6 20,433.4 ind ttl-f 24,355.5 24,271.3 usdaprj-g 27,900.0 27,900.0 soybeans 1986/87 1987/88 4/2/87 prev wk 4/2/87 prev wk named-a 1,774.7 1,780.3 215.9 215.9 unnamed-b 500.3 524.8 nil 30.0 e.o.a.-c 18.4 18.4 nil nil o.o.p.-d nil nil nil nil gr total 2,293.4 2,323.5 215.9 245.9 ay expd-e 14,334.2 14,183.2 ind ttl-f 16,627.6 16,506.7 usdaprj-g 19,050.0 19,050.0 corn 1986/87 1987/88 4/2/87 prev wk 4/2/87 prev wk named-a 8,559.8 8,684.8 772.1 268.8 unnamed-b 945.7 920.1 nil nil e.o.a-c 90.8 66.9 nil nil o.o.p-d 138.0 175.0 nil nil gr total 9,734.3 9,846.9 772.1 268.8 ay expd-e 20,296.0 19,293.8 ind ttl-f 30,030.3 29,140.7 usdaprj-g 31,750.0 31,750.0 sorghum 1986/87 1987/88 4/2/87 prev wk 4/2/87 prev wk named-a 875.6 805.1 nil nil unnamed-b 151.2 151.2 10.2-x nil e.o.a-c nil nil nil nil o.o.p-d 114.5 138.3 nil nil gr total 1,141.3 1,094.6 10.2-x nil ay expd-e 3,222.5 3,149.7 ind ttl-f 4,363.8 4,244.3 usdaprj-g 5,720.0 5,720.0 x-minus total wheat products 1986/87 1987/88 4/2/87 prev wk 4/2/87 prev wk named-a 321.0 401.9 nil nil unnamed-b nil nil nil nil e.o.a.-c nil nil nil nil o.o.p.-d nil nil nil nil gr total 321.0 401.9 nil nil ay expd-e 926.9 840.9 ind ttl-f 1,348.2 1,242.8 note - includes bulgur, semolina, farina, rolled, cracked and crushed wheat. soybean oil 1986/87 1987/88 4/2/87 prev wk 4/2/87 prev wk named-a 8.8 10.4 nil nil unnamed-b 7.0 10.5 nil nil e.o.a-c nil nil nil nil o.o.p-d nil nil nil nil gr total 15.8 20.9 nil nil ay expd-e 138.4 135.8 ind ttl-f 154.2 156.7 usdaprj-g 610.0 610.0 soybean cake and meal 1986/87 1987/88 4/2/87 prev wk 4/2/87 prev wk named-a 788.0 869.7 50.7 48.4 unnamed-b 76.0 94.0 nil nil e.o.a-c 2.7 6.1 nil nil o.o.p-d nil nil nil nil gr total 866.7 969.8 50.7 48.4 ay expd-e 4,098.0 3,880.6 ind ttl-f 4,964.7 4,850.4 usdaprj-g 5,760.0 5,760.0 cottonseed oil 1986/87 1987/88 4/2/87 prev wk 4/2/87 prev wk named-a 7.4 7.2 nil nil unnamed-b 0.3 0.3 nil nil e.o.a.-c nil nil nil nil o.o.p.-d 7.8 7.8 nil nil gr total 15.4 15.2 nil nil all upland domestic raw cotton-y 1986/87 1987/88 4/2/87 prev wk 4/2/87 prev wk named-a 2,007.9 2,076.1 468.2 457.2 unnamed-b 20.3 20.2 nil nil e.o.a-c nil nil nil nil o.o.p-c nil nil nil nil gr total 2,028.2 2,096.3 468.2 457.2 ay expd-e 4,333.1 4,204.7 ind ttl-f 6,361.3 6,301.0 usdaprj-g 6,335.0 6,335.0 y-in thousand running bales. barley 1986/87 1987/88 4/2/87 prev wk 4/2/87 prev wk named-a 559.5 584.5 nil nil unnamed-b 12.7 12.7 nil nil e.o.a.-c nil nil nil nil o.o.p.-d 25.0 25.0 nil nil gr total 597.1 622.1 nil nil ay expt-e 2,464.6 2,440.7 ind ttl-f 3,061.7 3,062.8 usdaprj-g 3,270.0 3,270.0 oats 1986/87 1987/88 4/2/87 prev wk 4/2/87 prev wk named-a nil nil nil nil unnamed-b nil nil nil nil e.o.a.-c nil nil nil nil o.o.p.-d nil nil nil nil gr total nil nil nil nil ay expd-e 2.4 2.4 ind ttl-f 2.4 2.4 usdaprj-g 30.0 30.0 rice 1986/87 1987/88 4/2/87 prev wk 4/2/87 prev wk named-a 347.6 369.1 nil nil unnamed-b 1.0 1.0 nil nil e.o.a-c nil nil nil nil o.o.p-d nil nil nil nil gr total 348.6 370.1 nil nil ay expd-e 1,718.8 1,688.2 ind ttl-f 2,067.4 2,058.3 usdaprj-g 2,580.0 2,580.0 hard red winter wheat 1986/87 1987/88 4/2/87 prev wk 4/2/87 prev wk named-a 1,738.0 2,019.7 893.0 943.0 unnamed-b 80.5 70.5 107.6 77.2 e.o.a.-c nil nil nil nil o.o.p.-d nil nil nil nil gr total 1,818.5 2,090.2 1,000.6 1,020.2 ay exp-e 8,332.1 7,974.5 ind tl-f 10,150.6 10,064.8 white wheat 1986/87 1987/88 4/2/87 prev wk 4/2/87 prev wk named-a 548.5 635.6 58.0 58.0 unnamed-b 19.0-x 19.0-x 6.0-x 6.0-x e.o.a.-c nil nil nil nil o.o.p.-d nil nil nil nil gr total 529.5 616.6 52.0 52.0 ay exp-e 3,831.5 3,757.7 ind tl-f 4,361.0 4,374.3 x - denotes minus figure hard red spring wheat 1986/87 1987/88 4/2/87 prev wk 4/2/87 prev wk named-a 576.6 620.6 164.7 164.7 unnamed-b 29.6 16.0 nil nil e.o.a.-c 0.9 0.9 nil nil o.o.p.-d nil nil nil nil gr total 607.1 637.5 164.7 164.7 ay exp-e 4,312.4 4,247.6 ind tl-f 4,919.5 4,885.1 durum wheat 1986/87 1987/88 4/2/87 prev wk 4/2/87 prev wk named-a 166.6 280.3 93.4 93.4 unnamed-b 52.8 76.9 nil nil e.o.a.-c 2.8 2.8 nil nil o.o.p.-d nil nil nil nil gr total 222.2 360.0 93.4 93.4 ay exp-e 1,842.6 1,727.5 ind tl-f 2,064.8 2,087.5 soft red winter wheat 1986/87 1987/88 4/2/87 prev wk 4/2/87 prev wk named-a 127.8 127.8 382.3 376.5 unnamed-b nil nil 14.0-x 14.0-x e.o.a.-c 5.8 5.8 nil nil o.o.p.-d nil nil nil nil gr total 133.6 133.6 368.3 362.5 ay exp-e 2,726.0 2,726.0 ind tl-f 2,859.6 2,859.6 x-minus figure country and destinations of the identified sales of commodities reported by exporters in week ended april 2 for the respective marketing seasons were detailed by the usda as follows, with comparisons for the previous week, in thousands of tonnes, except where noted-- all wheat 1986/87 1987/88 4/2/87 prev wk 4/2/87 prev wk e.c. nil nil 50.0 50.0 other west europe 218.8 236.8 nil nil east europe 261.0 346.0 25.0 25.0 all wheat continued 1986/87 1987/88 4/2/87 prev wk 4/2/87 prev wk ussr nil nil nil nil japan 490.4 662.2 nil nil china 90.0 90.0 910.0 910.0 taiwan 115.0 141.0 144.0 144.0 other asia and oceania 654.9 730.9 28.6 78.6 africa 959.5 1,115.0 167.1 167.1 western hemisphere 367.9 362.1 266.7 260.9 soybeans 1986/87 1987/88 4/2/87 prev wk 4/2/87 prev wk e.c. 302.2 317.7 91.4 91.4 other west europe 25.0 25.0 nil nil east europe 101.0 101.0 nil nil japan 355.4 330.5 nil nil china nil nil nil nil taiwan 472.0 499.0 87.0 87.0 other asia and oceania 164.6 187.7 nil nil africa nil nil nil nil western hemisphere 354.4 391.5 37.5 37.5 soybean oil 1986/87 1987/88 4/2/87 prev wk 4/2/87 prev wk e.c. 1.5 1.5 nil nil india nil nil nil nil other asia and oceania nil nil nil nil africa nil nil nil nil western hemisphere 7.3 8.9 nil nil soybean cake/meal 1986/87 1987/88 4/2/87 prev wk 4/2/87 prev wk e.c. 301.7 350.7 47.2 45.0 other west europe nil nil nil nil east europe nil 36.0 nil nil japan nil 3.5 nil nil other asia and oceania 25.0 40.0 nil nil africa 30.2 38.0 nil nil western hemisphere 431.0 401.5 3.4 3.4 corn 1986/87 1987/88 4/2/87 prev wk 4/2/87 prev wk e.c. 82.5 22.5 0.2 0.2 other west europe nil 0.8 nil nil e. europe 94.0 50.0 50.0 50.0 ussr 2,432.7 2,543.8 nil nil japan 2,767.4 2,787.8 52.4 21.0 china 495.0 555.0 nil nil taiwan 791.0 836.0 390.0 170.0 other asia and oceania 721.7 615.2 250.0 nil africa 125.0 195.5 nil nil westhem 1,050.5 1,114.0 29.4 27.6 upland cotton (in thousand bales) 1986/87 1987/88 4/2/87 prev wk 4/2/87 prev wk e.c. 260.9 266.1 97.9 95.0 other west europe 62.2 66.2 8.7 8.7 e. europe 3.1 3.1 nil nil japan 445.8 484.1 72.3 70.1 taiwan 377.9 390.4 41.6 39.5 other asia and oceania 741.7 783.4 244.5 241.1 africa 16.7 13.4 nil nil western hemisphere 99.6 69.5 3.2 2.7    0.998767\n",
      "brazilian coffee rainfall the following rainfall was recorded in the areas over the past 24 hours parana state: umuarama nil, paranavai nil, londrina nil, maringa nil. sao paulo state presidente prudente nil, votuporanga nil, franca nil, catanduva nil, sao carlos nil, sao simao nil. minas gerais state: guaxupe nil, tres pontas nil. reuter                                                                                                                                                                                                                                                                                                                                                                                                                                                                                                                                                                                                                                                                                                                                                                                                                                                                                                                                                                                                                                                                                                                                                                                                                                                                                                                                                                                                                                                                                                                                                                                                                                                                                                                                                                                                                                                                                                                                                                                                                                                                                                                                                                                                                                                                                                                                                                                                                                                                                                                                                                                                                                                                                                                                                                                                                                                                                                                                                                                                                                                                                                                                                                                                                                                                                                                                                                                                                                                                                                                                                                                                                                                                                                                                                                                                                                                                                                                                                                                                                                                                                                                                                                                                                                                                                                                                                                                                                                                                                                                                                                                                                                                                                                                                                                                                                                                                                                                                                                                                                                                                                                                                                                                                                                                                                                                                                                                                                                                                                                                                                                                                                                                                                                                                                                                                                                                                                                                                                                                                                                                                                                                                                                                                                                                                                                                                                                                                                                                                                                                                                                                                                                                                                                                                                                                                                                                                                                                                                                                                                                                                                                                                                                                                                                                                                                                                                                                                                                                                                                                                                                                                                                                                                                                                                                                                                                                                                                                                                                                                                                                                                                                                                                                                                                                                                                                     0.986346\n",
      "brazilian coffee rainfall the following rainfall was recorded in the areas over the past 24 hours parana state: umuarama nil, paranavai nil, londrina nil, maringa nil. sao paulo state presidente prudente nil, votuporanga nil, franca nil, catanduva nil, sao carlos nil, sao simao nil. minas gerais state: guaxupe 33.0 millimetres, tres pontas 5.0 mm. reuter                                                                                                                                                                                                                                                                                                                                                                                                                                                                                                                                                                                                                                                                                                                                                                                                                                                                                                                                                                                                                                                                                                                                                                                                                                                                                                                                                                                                                                                                                                                                                                                                                                                                                                                                                                                                                                                                                                                                                                                                                                                                                                                                                                                                                                                                                                                                                                                                                                                                                                                                                                                                                                                                                                                                                                                                                                                                                                                                                                                                                                                                                                                                                                                                                                                                                                                                                                                                                                                                                                                                                                                                                                                                                                                                                                                                                                                                                                                                                                                                                                                                                                                                                                                                                                                                                                                                                                                                                                                                                                                                                                                                                                                                                                                                                                                                                                                                                                                                                                                                                                                                                                                                                                                                                                                                                                                                                                                                                                                                                                                                                                                                                                                                                                                                                                                                                                                                                                                                                                                                                                                                                                                                                                                                                                                                                                                                                                                                                                                                                                                                                                                                                                                                                                                                                                                                                                                                                                                                                                                                                                                                                                                                                                                                                                                                                                                                                                                                                                                                                                                                                                                                                                                                                                                                                                                                                                                                                                                                                                                                                                                                                                                                                                                                                                                                                                     0.984629\n",
      "brazilian coffee rainfall the following rainfall was recorded in the areas over past 72 hours parana state: umuarama nil, paranavai 1.5 millimetres, londrina nil, maringa nil. sao paulo state: presidente prudente o.6 mm, votuporanga 12.0 mm, franca 28.0 mm, catanduva 10.0 mm, sao carlos nil, sao simao nil. reuter11:43/vb                                                                                                                                                                                                                                                                                                                                                                                                                                                                                                                                                                                                                                                                                                                                                                                                                                                                                                                                                                                                                                                                                                                                                                                                                                                                                                                                                                                                                                                                                                                                                                                                                                                                                                                                                                                                                                                                                                                                                                                                                                                                                                                                                                                                                                                                                                                                                                                                                                                                                                                                                                                                                                                                                                                                                                                                                                                                                                                                                                                                                                                                                                                                                                                                                                                                                                                                                                                                                                                                                                                                                                                                                                                                                                                                                                                                                                                                                                                                                                                                                                                                                                                                                                                                                                                                                                                                                                                                                                                                                                                                                                                                                                                                                                                                                                                                                                                                                                                                                                                                                                                                                                                                                                                                                                                                                                                                                                                                                                                                                                                                                                                                                                                                                                                                                                                                                                                                                                                                                                                                                                                                                                                                                                                                                                                                                                                                                                                                                                                                                                                                                                                                                                                                                                                                                                                                                                                                                                                                                                                                                                                                                                                                                                                                                                                                                                                                                                                                                                                                                                                                                                                                                                                                                                                                                                                                                                                                                                                                                                                                                                                                                                                                                                                                                                                                                                                                       0.971175\n",
      "sugar quota imports detailed -- usda the u.s. agriculture department said cumulative sugar imports from individual countries during the 1987 quota year, which began january 1, 1987 and ends december 31, 1987 were as follows, with quota allocations for the quota year in short tons, raw value -- cumulative quota 1987 imports allocations argentina nil 39,130 australia nil 75,530 barbados nil 7,500 belize nil 10,010 bolivia nil 7,500 brazil nil 131,950 canada nil 18,876 quota 1987 imports allocations colombia 103 21,840 congo nil 7,599 costa rica nil 17,583 ivory coast nil 7,500 dom rep 5,848 160,160 ecuador nil 10,010 el salvador nil 26,019.8 fiji nil 25,190 gabon nil 7,500 quota 1987 imports allocations guatemala nil 43,680 guyana nil 10,920 haiti nil 7,500 honduras nil 15,917.2 india nil 7,500 jamaica nil 10,010 madagascar nil 7,500 malawi nil 9,,100 quota 1987 imports allocations mauritius nil 10,920 mexico 37 7,500 mozambique nil 11,830 panama nil 26,390 papua new guinea nil 7,500 paraguay nil 7,500 peru nil 37,310 philippines nil 143,780 st.christopher- nevis nil 7,500 quota 1987 imports allocations swaziland nil 14,560 taiwan nil 10,920 thailand nil 12,740 trinidad-tobago nil 7,500 uruguay nil 7,500 zimbabwe nil 10,920                                                                                                                                                                                                                                                                                                                                                                                                                                                                                                                                                                                                                                                                                                                                                                                                                                                                                                                                                                                                                                                                                                                                                                                                                                                                                                                                                                                                                                                                                                                                                                                                                                                                                                                                                                                                                                                                                                                                                                                                                                                                                                                                                                                                                                                                                                                                                                                                                                                                                                                                                                                                                                                                                                                                                                                                                                                                                                                                                                                                                                                                                                                                                                                                                                                                                                                                                                                                                                                                                                                                                                                                                                                                                                                                                                                                                                                                                                                                                                                                                                                                                                                                                                                                                                                                                                                                                                                                                                                                                                                                                                                                                                                                                                                                                                                                                                                                                                                                                                                                                                                                                                                                                                                                                                                                                                                                                                                                                                                                                                                                                                                                                                                                                                                                                                                                                                                                                                                                                                                                                                                                                                                                                                                                                                                                                                                                                                                                                                                                                                                                                                                                                                                                                                                                                                                                                                                                                                                                                                                                                                                                                                                                                                                                                                                                                                                                                                                0.970083\n",
      "Name: 0, dtype: float64\n",
      "Component 1:\n",
      "article_text\n",
      "sichuan braced to fight drought the sichuan government has ordered that any work or meeting which interferes with the fight against drought must be cancelled or postponed to save time, energy and manpower, the people's daily domestic edition said. sichuan is one of six provinces threatened by drought. wen wei po, a hong kong daily, said the drought, the worst for more than 20 years, is affecting nearly two mln hectares in 100 counties in sichuan, the country's biggest agricultural producer. sichuan has experienced temperatures three degrees centigrade higher than normal and rainfall up to 70 pct less than normal since early february, affecting wheat, oil-bearing crops, rice planting and dryland cash crops, it said. the paper said 43,000 hectares in meixian county in guangdong are seriously short of water. the people's daily said henan, shaanxi, gansu and hebei are also suffering from drought. henan's grain output fell by 2.5 mln tonnes last year from the 1985 level because of drought which has been affecting the province since may.                                                                                                                                                                                                                                                                                                                                                                                                                                                                                                                                                                                                                                                                                                                                                                                                                                                                                                                                                                                                                                                                                                                                                                                                                                                                                                                                                                                                                                                                                                                                                                                                                                                                                                                                                                                                                                                                                                                                                                                                                                                                                                                                                                                                                                                                                                                                                                                                                                                                                                                                                                                                                                                                                                                                                                                                                0.815419\n",
      "thai sugar production continues high in feb thai sugar production continued at a high level in february, latest figures received by the international sugar organization (iso) show. the figures show stocks at end-february of 2.49 mln tonnes raw value against 2.33 mln a year earlier. analysts said this was a new peak for the date. production in february was 961,000 tonnes against 888,000 in february 1986 and took the nov/feb total for the current crop to 2.25 mln tonnes. production normally tails off sharply after march, but in recent years production from march to the end of the crop has been over 500,000 tonnes, analysts said. thailand's exports in february were 32,800 tonnes and consumption 57,800. last month the thai agriculture ministry said 1986/87 production was expected to fall to 2.3 mln tonnes from 2.48 mln in 1985/86.                                                                                                                                                                                                                                                                                                                                                                                                                                                                                                                                                                                                                                                                                                                                                                                                                                                                                                                                                                                                                                                                                                                                                                                                                                                                                                                                                                                                                                                                                                                                                                                                                                                                                                                                                                                                                                                                                                                                                                                                                                                                                                                                                                                                                                                                                                                                                                                                                                                                                                                                                                                                                                                                                                                                                                                                                                                                                                                                                                                                                                 0.814558\n",
      "pakistan not seen as major wheat exporter pakistan is not emerging as a major wheat exporter as world market prospects are not good enough, sartaj aziz, special assistant on food and agriculture to the pakistani prime minister, said in an interview. no exports are planned for the next 12 months or so and plans last year to sell one mln tonnes to iran came to nothing because they could not agree a price, he said. aziz forecast that pakistan may have exportable surpluses of one mln tonnes or a half mln tonnes over the next few harvests in years when the weather is favourable. the government does not wish to increase output much above this because of low world prices, and the land would be better used for other crops. aziz said the pakistani government does not want area sown to wheat to increase from the current seven mln hectares. some 10 pct of that area which gives low yields could be switched to more profitable crops such as oilseeds. the aim is to concentrate on raising yields from the current 1.8 to 1.9 tonnes per ha to at least 2.5 tonnes per ha over the next five to seven years, he said. aziz said the current 1986/87 crop, harvesting of which is just beginning, is expected to yield around a record 14.5 mln tonnes. this compares with a target of 14.7 mln and last year's yield of 14.0 mln. he said rains some six weeks ago helped the crop but more recent rains reduced prospects slightly. the long-term wheat production target is for some 17 mln tonnes by mid-1993, taking into account pakistan's annual population growth rate of more than three pct. current consumption is some 12.5 mln tonnes. the current wheat reserve is 2.5 mln tonnes, aziz said. this compares with a minimum reserve commitment of one mln tonnes, which pakistan will maintain at all costs, and a \"strategic reserve\" target of two mln tonnes. despite the fact that stocks are a half-mln tonnes over target, the surplus will not be exported at present, he said. the government wants to keep an extra \"safety margin\" until it sees what effect the abolition of a 44-year-old wheat rationing system will have on domestic consumption. new exports will be considered only in about a year's time when the 1987/88 crop can be gauged as well, he said. the new domestic policy, introduced on march 15, is for the government to supply unlimited quantities of wheat at two rupees per kilo. with other costs this means a price in pakistani markets of between 2.30 and 2.50 rupees per kilo. under the old system, introduced during world war two and due to be phased out by april 15, some 50 mln ration cards were issued enabling poor people to buy wheat cheaply. aziz said following the introduction of a government support price in the 1970s the system become so corrupted that only 20 to 25 pct of subsidised wheat was actually reaching the consumer, the rest being diverted illicitly to the mills. the ration system had also not had the stabilising effect on the internal wheat market that was intended, aziz said. prices have already begun to fall with the introduction of the new system. the wheat price in karachi, the most expensive pakistani city, had dropped from 3.11 rupees per kilo on march 1 to 2.85 rupees on march 30. aziz said he does not expect the change in system to have a major effect on total consumption, but it may encourage better use of side-products such as bran.                                                                                                                                                                                                                                                                                                                                                                                           0.810298\n",
      "china seen unlikely to raise sugar imports china will not increase sugar imports substantially this year because of foreign exchange constraints and large stocks, despite falling production and rising domestic demand, traders and the official press said. \"despite rapid increases in domestic production over the last 30 years, imbalances between supply and demand continue to be extremely serious,\" the farmers daily said. it said 1986 plantings fell due to removal of crop incentives, because farmers could earn more from other crops and because technical and seed improvements had not been widely disseminated. the official press had estimated the 1986/87 sugar crop (november/march) at 4.82 mln tonnes, down from 5.2 mln a year earlier, and domestic consumption at six mln tonnes a year. the yunnan 1986/87 sugar harvest was a record 521,500 tonnes, the provincial daily said. it gave no year-earlier figure. output in guangxi was 1.04 mln tonnes, the new china news agency said without giving a year-earlier figure. the nanfang daily said production in guangdong province fell to estimated 1.92 mln tonnes from 1.96 mln and that the area under sugar was dropping. \"supply of cane (in guangdong) is inadequate,\" the newspaper said. processing costs are rising and the economic situation of nearly all the mills is not good. to guarantee supply of cane is a major problem.\" a western diplomat said sugar output also fell n fujian, south china's fourth major producer, where there was a drop in area planted. he said the rural sectors in guangdong and fujian were wel developed, enabling farmers to choose crops according to the maximum return, meaning that many had avoided sugar. the farmers daily said a peasant in the ortheast province of heilongjiang could gross 108 yuan from one mu (0.0667 hectares) of soybeans and 112 yuan from one mu of corn but only 70 from one mu of sugarbeet. the paper said the profit margin of mills in china fell to 4.7 pct last year from 11.87 pct in 1980. mills lacked the capital to modernise and they competed with each other for raw materialsx, it added. this resulted in falling utilisation rates at big, mode{nised mills. the price of sugar had not changed in 20 years, the official press has said. customs figures showed china imported 1.18 mln tonnes of sugar in calendar 1986, down from 1.9 mln in 1985. the diplomat said stocks at end-august 1986 were 2.37 mln tonnes, up from 1.92 a year earlier. a foreign trader here said china accumulated large stocks in 1982-85 when provincial authorities were allowed to import sugar on their own authority. this practice was stopped in 1986 when the central government resumed control of imports. \"as china lacked storage, much of these imports was stored in qinghai, inner mongolia and other inland areas,\" the diplomat said. the trader said transporting stocks from these areas to consumers in east and south china was a problem, particularly as coal had priority. \"how quickly they can move the sugar is one factor determining import levels,\" he said. another factor was the quality of the harvest in cuba, china's major supplier through barter trade, he said. \"china bought two distress cargoes last week, for about 152/153 dlrs a tonne,\" he added. \"china is not a desperate buyer now. but if the cuban harvest is bad, it will have to go into the open market.\" a japanese trader said peking's major concern regarding imports was price. \"while the foreign trade situation has improved this year, foreign exchange restraints persist,\" he said. the diplomat said domestic demand was rising by about five pct a year but \"a communist government is in a much better position to regulate demand than a capitalist one, if the foreign exchange situation demands it.\"    0.786852\n",
      "thai sugar production increases thai sugar production totalled 960,788 tonnes in january, an increase of 12.7 pct on january 1986, according to figures received by the international sugar organization. november and december production figures also exceeded last year's totals with the result that output in the first three months of the season showed a 23.1 pct increase over 1985/86. production in the november 1986 to january 1987 period totalled 1.29 mln tonnes. thai exports in december and january were down, however. january exports fell from 73,164 to 35,910 tonnes. domestic consumption increased 7.3 pct to 192,069 tonnes for the three month period, but this was not sufficient to prevent a significant rise in stocks, which climbed to 1.62 mln tonnes by the end of january, compared with 1.52 mln a year earlier. thai agricultural ministry officials have previously forecast a decline in 1986/87 raws output to around 2.3 mln tonnes from 2.48 mln in 1985/86.                                                                                                                                                                                                                                                                                                                                                                                                                                                                                                                                                                                                                                                                                                                                                                                                                                                                                                                                                                                                                                                                                                                                                                                                                                                                                                                                                                                                                                                                                                                                                                                                                                                                                                                                                                                                                                                                                                                                                                                                                                                                                                                                                                                                                                                                                                                                                                                                                                                                                                                                                                                                                                                                                                                                                                                                                                                                                               0.774277\n",
      "Name: 1, dtype: float64\n"
     ]
    }
   ],
   "source": [
    "articles_by_component=pd.DataFrame(X_train_lsa,index=articles_train)\n",
    "articles_by_component.shape\n",
    "\n",
    "for i in range(2):\n",
    "    print('Component {}:'.format(i))\n",
    "    print(articles_by_component.loc[:,i].sort_values(ascending=False)[0:5])"
   ]
  },
  {
   "cell_type": "markdown",
   "metadata": {
    "ExecuteTime": {
     "end_time": "2018-02-28T22:45:37.777090Z",
     "start_time": "2018-02-28T22:45:37.740598Z"
    },
    "collapsed": true
   },
   "source": [
    "Ah -- so Component 0 is full of production reports that contain the word 'nil' numerous times. Component 1 seems to talk about production and tonnes quite a bit. It is understandable that there would be a lot of crossover in terms for some of these similar commodity-related categories. \n",
    "\n",
    "This may actually be our most effective unsupervised method thus far. Let's see how we do with tfidf!"
   ]
  },
  {
   "cell_type": "markdown",
   "metadata": {},
   "source": [
    "# Tfidf\n",
    "\n",
    "Let's see if we can do better than our Bag of Words by using tfidf. It's likely this will get rid of some of the noise we were seeing in our LSA."
   ]
  },
  {
   "cell_type": "code",
   "execution_count": 54,
   "metadata": {
    "ExecuteTime": {
     "end_time": "2018-02-28T22:47:11.010756Z",
     "start_time": "2018-02-28T22:47:11.007049Z"
    },
    "collapsed": true
   },
   "outputs": [],
   "source": [
    "from sklearn.feature_extraction.text import TfidfVectorizer"
   ]
  },
  {
   "cell_type": "code",
   "execution_count": 56,
   "metadata": {
    "ExecuteTime": {
     "end_time": "2018-02-28T22:48:04.845274Z",
     "start_time": "2018-02-28T22:48:04.299942Z"
    }
   },
   "outputs": [
    {
     "name": "stdout",
     "output_type": "stream",
     "text": [
      "Number of Articles and Features: (962, 2003)\n"
     ]
    }
   ],
   "source": [
    "# Create the model, fit, and transform the original articles. Each article is one row.\n",
    "\n",
    "vectorizer = TfidfVectorizer(max_df=0.4,\n",
    "                             min_df=10,\n",
    "                             stop_words='english',\n",
    "                             lowercase=True,\n",
    "                             ngram_range=(1, 2),\n",
    "                             use_idf=True,\n",
    "                             norm=u'l2',\n",
    "                             smooth_idf=True)\n",
    "\n",
    "articles_tfidf = vectorizer.fit_transform(articles)\n",
    "print('Number of Articles and Features:', articles_tfidf.get_shape())"
   ]
  },
  {
   "cell_type": "markdown",
   "metadata": {},
   "source": [
    "I've tuned the model to run well, particularly with max_df, min_df, and ngram_range."
   ]
  },
  {
   "cell_type": "code",
   "execution_count": 57,
   "metadata": {
    "ExecuteTime": {
     "end_time": "2018-02-28T22:48:09.957159Z",
     "start_time": "2018-02-28T22:48:07.427994Z"
    }
   },
   "outputs": [
    {
     "name": "stdout",
     "output_type": "stream",
     "text": [
      "Original Article:\n",
      " subroto says indonesia supports tin pact extension mines and energy minister subroto confirmed indonesian support for an extension of the sixth international tin agreement (ita), but said a new pact was not necessary. asked by reuters to clarify his statement on monday in which he said the pact shou ...\n",
      "\n",
      "\n",
      "Tfidf Vector:\n",
      " {'non members': 0.12324648290357955, 'intermediate': 0.12510600952205911, 'icco council': 0.11568637363883798, 'ends': 0.12324648290357955, 'council meeting': 0.1132386717919496, 'different': 0.10542185626231504, 'differentials': 0.11210519428187977, 'cocoa agreement': 0.11842267150249437, 'nearby': 0.10900303561927323, 'organization icco': 0.10231969759970849, 'cocoa organization': 0.10091128574959078, 'organization': 0.07778581918204501, 'icco': 0.19091113475812635, 'operations': 0.21084371252463008, 'reports': 0.099583399736052097, 'day': 0.084469157201609746, 'offer': 0.083480425833266203, 'fixed': 0.10626673775561681, 'limited': 0.10231969759970849, 'immediately': 0.10626673775561681, 'positions': 0.10900303561927323, 'stock rules': 0.10460662592886884, 'international cocoa': 0.19312409400090944, 'stock manager': 0.10381903590872847, 'buffer stock': 0.25442493554041468, 'means': 0.10714350900079367, 'delegate': 0.10805467208140483, 'selling': 0.092421041022135719, 'rules': 0.18984296446935484, 'manager': 0.091040535098007788, 'buffer': 0.25442493554041468, 'cocoa': 0.40960333497249041, 'pct total': 0.11443030122372971, '15 pct': 0.10305727321819995, '15': 0.06904951728493898, 'begin': 0.10381903590872847, 'non': 0.088503652026082943, 'maximum': 0.096562047000454718, 'stock': 0.23112106112283953, 'buying': 0.081324950236857943, 'spokesman said': 0.089318882359529173, 'meeting': 0.072804717534936808, 'spokesman': 0.078296426122721419, 'council': 0.16148825593921959, 'members': 0.085856535387463018, 'agreement': 0.065969040080362598, 'confirmed': 0.1110244561374633, '40 pct': 0.11842267150249437, '40': 0.081920666994498084, 'total': 0.067216678412752279, 'forward': 0.1110244561374633, 'according': 0.083480425833266203, '1986': 0.054936463311661798, 'international': 0.11744632830068202, 'purchases': 0.08515249118772486, 'pct': 0.1067681288449082, 'trade': 0.057743697659724688}\n",
      "\n",
      "\n",
      "Original Categories:\n",
      " ['tin']\n"
     ]
    }
   ],
   "source": [
    "# Split Tfidf results into train and test.\n",
    "X_tfidf_train, X_tfidf_test = train_test_split(articles_tfidf, test_size=0.25, random_state=100)\n",
    "\n",
    "# Make a version we can read.\n",
    "X_tfidf_train_csr = X_tfidf_train.tocsr()\n",
    "\n",
    "# Number of training articles\n",
    "n = X_tfidf_train.get_shape()[0]\n",
    "\n",
    "# A list of dictionaries, one per paragraph\n",
    "tfidf_byarticle = [{} for _ in range(0,n)]\n",
    "\n",
    "# List of features\n",
    "terms = vectorizer.get_feature_names()\n",
    "\n",
    "# For each paragraph, lists the feature words and their tf-idf scores\n",
    "for i, j in zip(*X_tfidf_train_csr.nonzero()):\n",
    "    tfidf_byarticle[i][terms[j]] = X_tfidf_train_csr[i, j]\n",
    "    \n",
    "print('Original Article:\\n', articles_train[5][:300], '...')\n",
    "print('\\n\\nTfidf Vector:\\n', tfidf_byarticle[5])\n",
    "print('\\n\\nOriginal Categories:\\n', y_labels_train[5])"
   ]
  },
  {
   "cell_type": "markdown",
   "metadata": {},
   "source": [
    "#### LSA with Tfidf"
   ]
  },
  {
   "cell_type": "code",
   "execution_count": 58,
   "metadata": {
    "ExecuteTime": {
     "end_time": "2018-02-28T22:48:16.475350Z",
     "start_time": "2018-02-28T22:48:16.307206Z"
    }
   },
   "outputs": [
    {
     "name": "stdout",
     "output_type": "stream",
     "text": [
      "Variance explained with 100 components: 0.544893519624\n"
     ]
    }
   ],
   "source": [
    "# Build and fit our decomposition model. \n",
    "# We can alter the number of components until we're happy with our explained variance.\n",
    "n_components = 100\n",
    "svd = TruncatedSVD(n_components)\n",
    "lsa = make_pipeline(svd, Normalizer(copy=False))\n",
    "\n",
    "X_train_lsa = lsa.fit_transform(X_tfidf_train)\n",
    "\n",
    "print('Variance explained with {} components:'.format(n_components), svd.explained_variance_ratio_.sum())"
   ]
  },
  {
   "cell_type": "code",
   "execution_count": 59,
   "metadata": {
    "ExecuteTime": {
     "end_time": "2018-02-28T22:48:18.330147Z",
     "start_time": "2018-02-28T22:48:18.314596Z"
    }
   },
   "outputs": [
    {
     "name": "stdout",
     "output_type": "stream",
     "text": [
      "Component 0:\n",
      "article_text\n",
      "pakistan not seen as major wheat exporter pakistan is not emerging as a major wheat exporter as world market prospects are not good enough, sartaj aziz, special assistant on food and agriculture to the pakistani prime minister, said in an interview. no exports are planned for the next 12 months or so and plans last year to sell one mln tonnes to iran came to nothing because they could not agree a price, he said. aziz forecast that pakistan may have exportable surpluses of one mln tonnes or a half mln tonnes over the next few harvests in years when the weather is favourable. the government does not wish to increase output much above this because of low world prices, and the land would be better used for other crops. aziz said the pakistani government does not want area sown to wheat to increase from the current seven mln hectares. some 10 pct of that area which gives low yields could be switched to more profitable crops such as oilseeds. the aim is to concentrate on raising yields from the current 1.8 to 1.9 tonnes per ha to at least 2.5 tonnes per ha over the next five to seven years, he said. aziz said the current 1986/87 crop, harvesting of which is just beginning, is expected to yield around a record 14.5 mln tonnes. this compares with a target of 14.7 mln and last year's yield of 14.0 mln. he said rains some six weeks ago helped the crop but more recent rains reduced prospects slightly. the long-term wheat production target is for some 17 mln tonnes by mid-1993, taking into account pakistan's annual population growth rate of more than three pct. current consumption is some 12.5 mln tonnes. the current wheat reserve is 2.5 mln tonnes, aziz said. this compares with a minimum reserve commitment of one mln tonnes, which pakistan will maintain at all costs, and a \"strategic reserve\" target of two mln tonnes. despite the fact that stocks are a half-mln tonnes over target, the surplus will not be exported at present, he said. the government wants to keep an extra \"safety margin\" until it sees what effect the abolition of a 44-year-old wheat rationing system will have on domestic consumption. new exports will be considered only in about a year's time when the 1987/88 crop can be gauged as well, he said. the new domestic policy, introduced on march 15, is for the government to supply unlimited quantities of wheat at two rupees per kilo. with other costs this means a price in pakistani markets of between 2.30 and 2.50 rupees per kilo. under the old system, introduced during world war two and due to be phased out by april 15, some 50 mln ration cards were issued enabling poor people to buy wheat cheaply. aziz said following the introduction of a government support price in the 1970s the system become so corrupted that only 20 to 25 pct of subsidised wheat was actually reaching the consumer, the rest being diverted illicitly to the mills. the ration system had also not had the stabilising effect on the internal wheat market that was intended, aziz said. prices have already begun to fall with the introduction of the new system. the wheat price in karachi, the most expensive pakistani city, had dropped from 3.11 rupees per kilo on march 1 to 2.85 rupees on march 30. aziz said he does not expect the change in system to have a major effect on total consumption, but it may encourage better use of side-products such as bran.                                                                                                                                                                                                                                                                                                                                                                                                                                                                                                                                                                                                                                                                                                                                                                                                                                                                                                                                                                                                                                                                                                                                                                                                                                                                                                                                                                                                                                                                                                                                                                                                                                                                                                                                                                                                                                                                                                                                                                                                                                                                                                                                                                                                                                                                                                                                                                                                                                                                                                                                                                                                                                                                                                                                                                                                                                                                                                                                                                                                                                                                                                                                                                                                                                                                                                                                                                                                                                                                                                                                                                                                                                                                                                                                                                                                                                                                                                                                                                                                                                                                                                                                                                                                                                                                                                                                                                                                                                                                                                                                                                                                                                                                                                                                                                                                                                                                                                                                                                                                                                                                                                                                                                                                                                                                                                                                   0.593285\n",
      "sugar prices too low to boost latin output latin american sugar producers are awaiting further rises in world market prices before moving to boost production, official and trade sources said. although prices have risen to around eight from five u.s. cents per lb in the past six months, they are still below the region's nine to ten cents per lb average production cost. the recent rise in prices has placed producers on the alert, manuel rico, a consultant with the group of latin american and caribbean sugar exporting countries (geplacea), told reuters. however, rico said, it would require another five to seven cents to stimulate notable increases in output. \"producers are taking measures for increasing their production when the prices are profitable,\" he said. officials in mexico, guatemala and ecuador said a continued rise in prices would stimulate production, but industry leaders in panama and costa rica said there was still a long way to go. \"the prices are ridiculous,\" said julian mateo, vice president of costa rica's sugar cane industrial-agricultural league. \"at current prices nobody is going to consider increasing production.\" other producers are wary of committing funds to increasing output, given the instability of world markets. an official at colombia's national association of sugar cane growers said they had no plans to raise export targets. \"the market is very unstable. what is happening is not yet giving way to a pattern and so there is no reason to modify anything.\" in 1985, the latest year for which full figures are available, central and south american nations produced 28 mln tonnes, raw value, of sugar of which 12.3 mln were exported. a year earlier, they had produced and exported about 800,000 more, according to the london-based international sugar organization. years of continuous low prices have plunged the sugar industry in many countries in the region into a recession from which it will be hard to recover. miguel guerrero, director of the dominican republic's national sugar institute, said it would be difficult to boost production even if prices recovered sharply. output had slumped to under 450,000 tonnes a year from 900,000 in the late 1970s. obsolete refineries, poor transport and badly maintained plantations were barriers to any short term recovery in output, he added. plans of nearby cuba, the world's largest cane sugar exporter, to increase output to 10 mln tonnes a year by the end of the decade seem ambitious, trade sources said. output is running well below the record 8.6 mln produced in 1970. cuba suffers from run down plantations, harvesting problems and poor processing facilities more than from low world prices, since much of its output is sold to eastern bloc countries under special deals. last year, bad weather added to its troubles, and output fell to 7.2 mln tonnes from 8.2 mln in 1985. the low world prices of recent years have led many countries in the region to cut exportable production to levels where they barely cover u.s. and, in the case of some caribbean countries, european community (ec) import quotas, for which they receive prices well above free market levels. progressive reductions in the u.s. quotas have led to production stagnating or falling rather than being shifted to the free world market. peru, for example, shipped 96,000 tonnes to the u.s. in both 1983 and 1984. this fell to 76,000 in 1986 and this year its quota is only 37,000. a national cooperative official said that, as long as world market levels continue at around half of peru's production cost, the future of the industry is uncertain. at a meeting of geplacea in brazil last october officials stressed the need to find alternative uses for sugar cane which, according to the group's executive-secretary eduardo latorre, \"grows like a weed\" throughout the region. brazil, the largest cane producer with output of around 240 mln tonnes, uses over half to produce alcohol fuel. cane in excess of internal demand for alcohol and sugar is refined into sugar for sale abroad to earn much needed foreign currency. the difference in the price the state-run sugar and alcohol institute (iaa) pays local industry and what it receives from foreign buyers costs the government some 350 mln dlrs a year. soaring domestic demand for both alcohol and sugar over the past year, coupled with a drought-reduced cane crop, has meant brazil will have difficulties in meeting export commitments in 1987, trade sources said. negotiations to delay shipments to next year have been indecisive so far, the main sticking point being how brazil should compensate buyers for non-delivery of sugar it had sold at around five cents per lb and which would cost eight cents to replace. brazilian sugar industry sources said new sugar export sales were expected to be extremely low for the next year, with the institute wary of exposing itself to domestic shortages of either alcohol or sugar and because of the need to rebuild depleted reserve stockpiles. however, the situation could change dramatically if the economy goes into recession and internal demand slumps. sources within latin america and the caribbean hold little hope for the region's sugar industry to return to profitability unless the u.s. and ec change their policies. \"the agricultural policies of the european community and of the united states have caused our economies incalculable harm by closing their markets, by price deterioration in international commerce and furthermore by the unfair competition in third countries,\" brazil's trade and industry minister jose hugo castelo branco told the october geplacea meeting. the ec has come under prolonged attack from geplacea for what the group charges is its continued dumping of excess output on world markets. geplacea officials say this is the main cause of low prices. geplacea sees a new international sugar agreement which would regulate prices as one of the few chances of pulling the region's industry out of steady decline. such an agreement would have to have both u.s. and ec backing and industrialised countries would have to see it as a political rather than a merely economic pact. \"they have to realise that the more our economies suffer, the less capcity we have to buy their goods and repay the region's 360 billion dollar foreign debt,\" geplacea's latorre said.                                                                                                                                                                                                                                                                                                                                                                                                                                                                                                                                                                                                                                                                                                                                                                                                                                                                                                                                                                                                                                                                                                                                                                                                                                                                                                                                                                                                                                                                                                                                                                                                                                                                                                                                                                                                                                                                                                                                                                                                                                                                                                                                                                                                                                     0.589723\n",
      "commodity pacts more oriented towards market consuming countries, chastened by the collapse of international tin council (itc) price support operations in 1985, are insisting more than ever before that commodity pacts reflect the reality of the markets they are serving, a reuter survey showed. they want price ranges to be more responsive to market trends - to avoid overstimulating output and straining the accords' support operations - and intervention rules that avoid the risk of exports by non-members undermining the pacts. consumers and producers, mindful of itc buffer stock losses, have also sought strict conditions for buffer operations. importers and some key exporting countries have shunned a generalised approach to commodity price stabilisation and prefer to assess each commodity case by case, the survey showed. the international cocoa organization (icco) last week set precise limits on what the buffer stock manager (bsm) could do under the new agreement. it imposed daily and weekly purchase limits, prohibited the bsm from operating on futures markets and stipulated, after consumer insistence, that up to 15 pct of total buffer stock purchases could be of non-member cocoa. this will help prevent lower quality cocoa from malaysia, the world's fourth largest producer, undermining the market. the cocoa pact establishes precise differentials the buffer stock manager must use when purchasing varying grades. a new international natural rubber agreement (inra) was adopted earlier this month in geneva. importing and exporting countries agreed several changes to make the reference price more responsive to market trends and they eliminated provisions under which the buffer stock could borrow from banks to finance operations. direct cash contributions from members will fund buffer stock purchases. bank financing was a particular feature of the failed itc buffer stock which suffered losses running into hundreds of millions of sterling. legal wrangles continue. recent international coffee organization (ico) negotiations in london exemplified the degree to which consumers insist that agreements reflect market reality, commodity analysts said. consumers and a small group of producers argued that \"objective criteria\" should be used to define export quota shares, which would have meant a reduction in the share of brazil, the world's leading producer. brazil wanted to maintain its previous quota share of 30 pct. the talks broke down and, although an ico executive board meeting starts in london today, delegates and trade sources see chances of any near term negotiations on export quota distribution as remote. international agreements exist for sugar and wheat. these do not have any economic clauses but provide a forum for discussions on possible future economic agreements, collect statistics and draw up market analyses. analysts said differences between sugar exporting countries have held up any progress towards an accord with economic teeth, while sheer competition between major exporters amid a world grain glut militate against any pact with economic provisions for wheat. an alternative focus for commodity discussions are international study groups, made up of governments with advice from industry, such as those for lead and zinc and rubber. the u.n. common fund for commodities, with a planned directly contributed capital of 470 mln dlrs, has failed to become operational because neither the u.s. nor the soviet union has ratified it. u.s. officials in washington said the u.s. doubts the fund would be able to fulfil its objectives, citing the lack of widespread support. u.s. officials in washington and malaysian officials in kuala lumpur expressed a policy of looking at each commodity pact case by case. u.s. officials said it has been willing to study individual cases for economically sound, market-oriented commodity accords balancing producer and consumer interests. \"we see little to be gained by attempting to increase the price of a commodity whose long-term trend is downward,\" official administration policy states. the u.s. currently belongs to only two international commodity agreements that have economic clauses - the international coffee agreement (ica) and inra - but it is also a member of the sugar and wheat pacts. the u.s. did not join the international cocoa agreement because it considered its proposed price ranges unrealistic and not designed to protect the interests of consuming countries, the state department said. u.s. officials singled out the inra as the one commodity agreement that seems to be working. u.s. negotiators were successful in getting other members of the pact to agree that the price review and adjustment mechanism of the rubber agreement would accurately reflect market trends and also to continue the accord as a market oriented agreement, u.s. officials said. canadian officials in ottawa also said they have consistently tried to look at membership of commodity pacts on the merits of each case. malaysian primary industries minister lim keng yaik told reuters in kuala lumpur his country, the world's top producer of rubber, tin and palm oil, decides its participation in international commodity pacts case by case. malaysia is a member of the association of tin producing countries (atpc) which produce 65 pct of world tin. the atpc launched a plan to limit member tin exports to 96,000 tonnes for a year from march to cut the tin surplus to 50,000 from 70,000. economist in the west german ministry of agriculture and delegate to cocoa, wheat and sugar agreements peter baron told reuters in london, \"agreements with economic clauses to stabilise prices could function if fixed price ranges were close to market reality, if there was full participation by producers and consumers, and if participants were prepared to take their obligations in the framework of the agreement seriously.\" but baron added, \"no real sanctions are available for a country that doesn't stick to its obligations...the german approach is sceptical. we don't think agreements are the best instrument to help developing countries. they were never meant to be a vehicle for the transfer of resources and that is how developing countries often interpret them.\" traditionally britain has always been supportive of commodity agreements, reflecting its strong links with third world producing countries. but recently demands for more stringent and justifiable pacts with emphasis placed on the need for \"intellectual honesty\" and \"objective criteria\" have grown. british officials stress the need for commodity pacts to be a two way partnership in trade rather than a disguise for aid. it is now seen as essential that any pacts involving direct market participation through a buffer stock have a high degree of transparency and do not contain the risk of open-ended borrowing that occurred in the tin pact, they said. u.k. delegates talk of stabilisation and the need for prices to reflect changes in market structure and price trends rather than dictate what prices should be. a foreign ministry official in tokyo said japan urges price realism in commodity pacts, adding high prices inflate supply. a government spokesman in paris said france is favourable to commodity pacts. france, a large consumer and producer of sugar, favours a sugar pact as long as it reflects the real market situation, particularly regarding stocks. indonesia's foreign minister mochtar kusumaatmadja told reuters in jakarta: \"these agreements can work as long as the problems are cyclical..but it's another matter when there are structural problems..but we are still committed to commodity agreements as an act of faith.\" nicaraguan external trade minister alejandro martinez cuenca said in london producers cannot afford not to give their backing to commodity agreements. \"the political will is not there on the part of some consumers to make agreements work,\" martinez cuenca said. the head of the economics department in the brazilian foreign ministry, sebastiao do rego barros, told reuters an agreement can be successful if it keeps a link with market reality. if you have an agreement such as coffee with a system of quotas, with a link between prices practised inside the pact and actual market prices, it can work. unctad spokesman graham shanley said consuming countries realise steady export earnings enhance developing countries' ability to service debt and mean greater demand for industrialised nations' capital goods.    0.557614\n",
      "ec driving to capture brazil wheat market - usda the european community, ec, sold 75,000 tonnes of soft wheat at a subsidized price of between 85 and 89 dlrs per tonne fob for march delivery in a continuing bid to establish itself in the brazilian wheat market, the u.s. agriculture department said. the sale sharply undercut the u.s. offer of 112 dlrs per tonne fob for 33,000 tonnes of wheat, it said in its latest report on export markets for u.s grains. ec sales to brazil total about 225,000 tonnes during 1986/87 (july-june) in stark contrast to only 50,000 tonnes in the 1985/86 season, it said. the increasing presence of ec wheat in brazil comes at a time when the brazilian wheat board, bwb, expects the wheat import market will expand to 3.4 mln tonnes from the current forecast of 3.0 mln in the 1986/87 year. the bwb cites record consumption and an eventual decline in domestic production, and says government plans to lower the guaranteed price of wheat from 242 dlrs per tonne to 180 dlrs will contribute to greater import demand, the usda said. it said the bwb expects the u.s. to be major supplier of the additional 400,000 tonnes, but commitments for purchase of u.s. wheat through two-thirds of 1986/87 year total only 600,000 tonnes versus 700,000 a year ago.                                                                                                                                                                                                                                                                                                                                                                                                                                                                                                                                                                                                                                                                                                                                                                                                                                                                                                                                                                                                                                                                                                                                                                                                                                                                                                                                                                                                                                                                                                                                                                                                                                                                                                                                                                                                                                                                                                                                                                                                                                                                                                                                                                                                                                                                                                                                                                                                                                                                                                                                                                                                                                                                                                                                                                                                                                                                                                                                                                                                                                                                                                                                                                                                                                                                                                                                                                                                                                                                                                                                                                                                                                                                                                                                                                                                                                                                                                                                                                                                                                                                                                                                                                                                                                                                                                                                                                                                                                                                                                                                                                                                                                                                                                                                                                                                                                                                                                                                                                                                                                                                                                                                                                                                                                                                                                                                                                                                                                                                                                                                                                                                                                                                                                                                                                                                                                                                                                                                                                                                                                                                                                                                                                                                                                                                                                                                                                                                                                                                                                                                                                                                                                                                                                                                                                                                                                                                                                                                                                                                                                                                                                                                                                                                                                                                                                                                                                                                                                                                                                                0.557178\n",
      "Name: 0, dtype: float64\n",
      "Component 1:\n",
      "article_text\n",
      "coffee traders expect selloff after ico talks fail the failure of the international coffee organization (ico) to reach agreement on coffee export quotas could trigger a massive selloff in london coffee futures of at least 100 stg per tonne today, coffee trade sources said. prices could easily drop to as low as 1.00 dlr or even 80 cents a lb this year from around 1.25 dlrs now, they said. a special meeting between importing and exporting countries ended in a deadlock late yesterday after eight days of talks over how to set the quotas. no further meeting to discuss quotas was set, delegates said. quotas, the major device used to stabilize prices under the international coffee agreement, were suspended a year ago after prices soared following a damaging drought in brazil. with no propects for quotas in sight, heavy producer selling initially and a price war among commercial coffee roasting companies will ensue, the trade sources predicted. lower prices are sure to trickle down to the supermarket shelf this spring, coffee dealers said. the u.s. and brazil, the largest coffee importer and exporter respectively, each laid the blame on the other for the breakdown of the talks. jon rosenbaum, u.s. assistant trade representative and delegate to the talks, said in a statement after the council adjourned, \"a majority of producers, led by brazil, were not prepared to negotiate a new distribution based on objective criteria. \"we want to insure that countries receive export quotas based on their ability to supply the market, instead of their political influence in the ico.\" brazilian coffee institute (ibc) president jorio dauster countered, \"negotiations failed because consumers tried to dictate quotas, not negotiate them.\" previously, quotas were determined by historical amounts exported, which gave brazil a 30 pct share of a global market of about 58 mln 60-kilo bags. a majority of producers wanted quotas to continue under this basic scheme. but most consumers and a maverick group of eight producers proposed carving up the export market on the basis of exportable production and stocks, which would reduce brazil's share to 28.8 pct. consumer delegates said this method would reflect changes in many countries' export capabilities and make coffee more readily available to consumers when they need it. a last-minute attempt by colombia, the second largest exporter, to rescue the talks with a compromise interim proposal could not bring the two sides together. delegates speculated brazil's financial problems, illustrated by its recent suspension of interest payments on bank debt, have increased political pressure on the country to protect its coffee export earnings. developing coffee-producing countries that depend heavily on coffee earnings, particularly some african nations and colombia, are likely to be hurt the most by the ico's failure to agree quotas, analysts said. the expected drop in prices could result in losses of as much as three billion dlrs in a year, producer delegates forecast. the ico executive board will meet march 31, but the full council is not due to meet again until september, delegates said.    0.633773\n",
      "colombia helpful but coffee quotas uncertain--u.s. a u.s. government trade official responsible for coffee policy said prospects for an accord on coffee quotas are still uncertain despite recent colombian efforts to bridge differences between producers and consumers. jon rosenbaum, an assistant u.s. trade representative just back from trade talks in colombia, said most producing countries now accept some sort of standardized criteria must be agreed to reintroduce coffee quotas. \"there is one country which evidently still does not,\" rosenbaum said in an obvious reference to brazil, which has been negative recently on a reintroduction of quotas. rosenbaum said because of the stance of brazil the outlook for an agreement to reintroduce coffee quotas at the september international coffee organization meeting is hard to predict. he said that during the visit to bogota he held technical discussions with colombian officials. while he did not meet with jorge cardenas, head of the colombian coffee producers federation, who was in europe, cardenas left a \"positive letter,\" rosenbaum said. the cardenas letter responded to a u.s. letter last month which praised colombia for trying to find a compromise formula for the reintroduction of quotas, but outlined several concerns with the technical details of the colombian plan. rosenbaum could not be reached later in the day for comment on a new formula for calculating ico quotas agreed to by european coffee roasters and traders. dutch coffee trade association chairman frits van horick said in amsterdam the new formula is based on six year moving averages and would give brazil an unchanged export quota for the remaining to years of the current coffee agreement. the u.s. has said it will not agree to any coffee quotas unless \"objective criteria\" which reflect recent changes in the coffee market are used to set export limits.                                                                                                                                                                                                                                                                                                                                                                                                                                                                                                                                                                                                                                                                                                                                                                                                                                                                                                                                                                                                                                                                                                                                                                                                                                                                                                                    0.613990\n",
      "coffee quota talks continue, no accord seen likely the international coffee organization (ico ) council talks on reintroducing export quotas continued with an extended session lasting late into sunday night, but delegates said prospects for an accord between producers and consumers were diminishing by the minute. the special meeting, called to stop the prolonged slide in coffee prices, was likely to adjourn sometime tonight without agreement, delegates said. the council is expected to agree to reconvene either within the next six weeks or in september, they said. the talks foundered on sunday afternoon when it became apparent consumers and producers could not compromise on the formula for calculating any future quota system, delegates said. coffee export quotas were suspended a year ago when prices soared in response to a drought which cut brazil's crop by nearly two-thirds. brazil is the world's largest coffee producer and exporter.                                                                                                                                                                                                                                                                                                                                                                                                                                                                                                                                                                                                                                                                                                                                                                                                                                                                                                                                                                                                                                                                                                                                                                                                                                                                                                                                                                                                                                                                                                                                                                                                                                                                                                                                                                                                                                                                                                                                                                                                                                                                                                                                                                                                                                                                                                0.612593\n",
      "ico council ends in failure to agree quotas a special meeting of the international coffee organization (ico) council failed to agree on how to set coffee export quotas, ico delegates said. producers and consumers could not find common ground on the issue of quota distribution in eight days of arduous, often heated talks, delegates said. export quotas -- the major device of the international coffee agreement to stabilise prices -- were suspended a year ago after coffee prices soared in reaction to a drought in brazil which cut its output by two thirds. delegates and industry representatives predicted coffee prices could plummet more than 100 stg a tonne to new four year lows tomorrow in response to the results of the meeting.                                                                                                                                                                                                                                                                                                                                                                                                                                                                                                                                                                                                                                                                                                                                                                                                                                                                                                                                                                                                                                                                                                                                                                                                                                                                                                                                                                                                                                                                                                                                                                                                                                                                                                                                                                                                                                                                                                                                                                                                                                                                                                                                                                                                                                                                                                                                                                                                                                                                                                                     0.607733\n",
      "Name: 1, dtype: float64\n"
     ]
    }
   ],
   "source": [
    "# Make a Dataframe with articles as indices and components as features\n",
    "articles_by_component=pd.DataFrame(X_train_lsa,index=articles_train)\n",
    "articles_by_component.shape\n",
    "\n",
    "# Show the highest values for a few components, along with their articles\n",
    "for i in range(2):\n",
    "    print('Component {}:'.format(i))\n",
    "    print(articles_by_component.loc[:,i].sort_values(ascending=False)[0:4])"
   ]
  },
  {
   "cell_type": "markdown",
   "metadata": {},
   "source": [
    "That's cool, but it would be easier to see how we're doing if we looked at the 'Category' labels like we did with BoW."
   ]
  },
  {
   "cell_type": "code",
   "execution_count": 60,
   "metadata": {
    "ExecuteTime": {
     "end_time": "2018-02-28T22:48:21.799023Z",
     "start_time": "2018-02-28T22:48:21.714829Z"
    }
   },
   "outputs": [
    {
     "name": "stdout",
     "output_type": "stream",
     "text": [
      "Component 0:\n",
      "categories_reduced\n",
      "[wheat]                                       0.593285\n",
      "[sugar]                                       0.589723\n",
      "[cocoa, coffee, wheat, sugar, rubber, tin]    0.557614\n",
      "[wheat]                                       0.557178\n",
      "[wheat]                                       0.549394\n",
      "Name: 0, dtype: float64\n",
      "Component 1:\n",
      "categories_reduced\n",
      "[coffee]    0.633773\n",
      "[coffee]    0.613990\n",
      "[coffee]    0.612593\n",
      "[coffee]    0.607733\n",
      "[coffee]    0.602789\n",
      "Name: 1, dtype: float64\n",
      "Component 2:\n",
      "categories_reduced\n",
      "[gold]    0.776143\n",
      "[gold]    0.685376\n",
      "[gold]    0.680521\n",
      "[gold]    0.670002\n",
      "[gold]    0.668011\n",
      "Name: 2, dtype: float64\n",
      "Component 3:\n",
      "categories_reduced\n",
      "[sugar]    0.525137\n",
      "[sugar]    0.487286\n",
      "[sugar]    0.466177\n",
      "[sugar]    0.454702\n",
      "[sugar]    0.436824\n",
      "Name: 3, dtype: float64\n",
      "Component 4:\n",
      "categories_reduced\n",
      "[cocoa]    0.538848\n",
      "[cocoa]    0.531104\n",
      "[cocoa]    0.527447\n",
      "[cocoa]    0.524204\n",
      "[cocoa]    0.512010\n",
      "Name: 4, dtype: float64\n",
      "Component 5:\n",
      "categories_reduced\n",
      "[yen]    0.701479\n",
      "[yen]    0.693206\n",
      "[yen]    0.689759\n",
      "[yen]    0.675938\n",
      "[yen]    0.670965\n",
      "Name: 5, dtype: float64\n",
      "Component 6:\n",
      "categories_reduced\n",
      "[wheat]    0.520554\n",
      "[wheat]    0.512034\n",
      "[wheat]    0.489962\n",
      "[wheat]    0.487395\n",
      "[wheat]    0.474433\n",
      "Name: 6, dtype: float64\n",
      "Component 7:\n",
      "categories_reduced\n",
      "[palm-oil]    0.734435\n",
      "[palm-oil]    0.713427\n",
      "[palm-oil]    0.685442\n",
      "[palm-oil]    0.682777\n",
      "[palm-oil]    0.671043\n",
      "Name: 7, dtype: float64\n",
      "Component 8:\n",
      "categories_reduced\n",
      "[wheat]    0.536542\n",
      "[wheat]    0.515931\n",
      "[wheat]    0.506088\n",
      "[wheat]    0.502733\n",
      "[wheat]    0.500999\n",
      "Name: 8, dtype: float64\n",
      "Component 9:\n",
      "categories_reduced\n",
      "[rubber]    0.599388\n",
      "[rubber]    0.594800\n",
      "[rubber]    0.588047\n",
      "[rubber]    0.587066\n",
      "[rubber]    0.584243\n",
      "Name: 9, dtype: float64\n",
      "Component 10:\n",
      "categories_reduced\n",
      "[wheat]    0.439720\n",
      "[wheat]    0.433167\n",
      "[wheat]    0.427770\n",
      "[wheat]    0.401922\n",
      "[wheat]    0.385544\n",
      "Name: 10, dtype: float64\n",
      "Component 11:\n",
      "categories_reduced\n",
      "[soy-oil, sorghum]    0.706137\n",
      "[sugar]               0.702337\n",
      "[coffee]              0.699469\n",
      "[coffee]              0.699029\n",
      "[coffee]              0.698438\n",
      "Name: 11, dtype: float64\n",
      "Component 12:\n",
      "categories_reduced\n",
      "[soy-oil, sorghum]    0.489295\n",
      "[coffee]              0.476622\n",
      "[coffee]              0.476562\n",
      "[coffee]              0.476543\n",
      "[coffee]              0.475696\n",
      "Name: 12, dtype: float64\n",
      "Component 13:\n",
      "categories_reduced\n",
      "[sugar]               0.350647\n",
      "[soy-oil, sorghum]    0.331998\n",
      "[wheat]               0.315742\n",
      "[coffee]              0.315507\n",
      "[coffee]              0.311670\n",
      "Name: 13, dtype: float64\n",
      "Component 14:\n",
      "categories_reduced\n",
      "[coffee]    0.402881\n",
      "[wheat]     0.369843\n",
      "[coffee]    0.339922\n",
      "[wheat]     0.336711\n",
      "[coffee]    0.336452\n",
      "Name: 14, dtype: float64\n",
      "Component 15:\n",
      "categories_reduced\n",
      "[wheat]      0.421732\n",
      "[wheat]      0.354174\n",
      "[wheat]      0.312343\n",
      "[wheat]      0.292966\n",
      "[sorghum]    0.284543\n",
      "Name: 15, dtype: float64\n",
      "Component 16:\n",
      "categories_reduced\n",
      "[tin]     0.500767\n",
      "[gold]    0.491114\n",
      "[tin]     0.486753\n",
      "[gold]    0.479475\n",
      "[gold]    0.474436\n",
      "Name: 16, dtype: float64\n",
      "Component 17:\n",
      "categories_reduced\n",
      "[tin]      0.409968\n",
      "[tin]      0.372078\n",
      "[sugar]    0.371584\n",
      "[tin]      0.369407\n",
      "[tin]      0.368038\n",
      "Name: 17, dtype: float64\n",
      "Component 18:\n",
      "categories_reduced\n",
      "[gold]                    0.494118\n",
      "[gold]                    0.480979\n",
      "[tin]                     0.344663\n",
      "[wheat]                   0.336530\n",
      "[sugar, cocoa, coffee]    0.331136\n",
      "Name: 18, dtype: float64\n",
      "Component 19:\n",
      "categories_reduced\n",
      "[wheat]    0.437932\n",
      "[wheat]    0.432344\n",
      "[wheat]    0.419626\n",
      "[wheat]    0.414315\n",
      "[wheat]    0.402574\n",
      "Name: 19, dtype: float64\n"
     ]
    }
   ],
   "source": [
    "# Make a Dataframe with categories as indices and components as features\n",
    "categories_by_component=pd.DataFrame(X_train_lsa,index=y_labels_train)\n",
    "categories_by_component.shape\n",
    "\n",
    "# Show the highest values for a few components, along with their articles\n",
    "for i in range(20):\n",
    "    print('Component {}:'.format(i))\n",
    "    print(categories_by_component.loc[:,i].sort_values(ascending=False)[0:5])"
   ]
  },
  {
   "cell_type": "markdown",
   "metadata": {},
   "source": [
    "Great! After some tweaking of tfidf parameters, we're doing fantastic with our component decomposition. It's hard to tell if it's better or worse than with BoW, so let's run an unsupervised model and use our evaluation metric on it."
   ]
  },
  {
   "cell_type": "markdown",
   "metadata": {},
   "source": [
    "#### KMeans\n",
    "\n",
    "KMeans did the best with our BoW analysis, let's try it on tfidf."
   ]
  },
  {
   "cell_type": "code",
   "execution_count": 61,
   "metadata": {
    "ExecuteTime": {
     "end_time": "2018-02-28T22:49:06.066466Z",
     "start_time": "2018-02-28T22:48:35.825530Z"
    }
   },
   "outputs": [
    {
     "name": "stdout",
     "output_type": "stream",
     "text": [
      "2 Clusters: [0.406380027739251, 0.3983402489626556]\n",
      "4 Clusters: [0.5603328710124826, 0.5892116182572614]\n",
      "8 Clusters: [0.7350901525658807, 0.7344398340248963]\n",
      "16 Clusters: [0.7766990291262136, 0.7717842323651453]\n",
      "32 Clusters: [0.8571428571428571, 0.8298755186721992]\n",
      "64 Clusters: [0.8585298196948682, 0.8340248962655602]\n",
      "128 Clusters: [0.8987517337031901, 0.8381742738589212]\n"
     ]
    }
   ],
   "source": [
    "for n in [2, 4, 8, 16, 32, 64, 128]:\n",
    "    km = KMeans(n_clusters=n).fit(X_tfidf_train)\n",
    "    km_labels_train = km.labels_\n",
    "    km_labels_test = km.predict(X_tfidf_test)\n",
    "    print('{} Clusters:'.format(n), evaluate_clusters(km_labels_train, \n",
    "                                                      y_labels_train, \n",
    "                                                      km_labels_test, \n",
    "                                                      y_labels_test,\n",
    "                                                      show_clusters=False))"
   ]
  },
  {
   "cell_type": "markdown",
   "metadata": {
    "collapsed": true
   },
   "source": [
    "Wow! We're doing great -- much better than with BoW! With 32 clusters, we're up from ~55% to over 80% accuracy with our evaluation metric. It also appears that that's about where the overfitting starts, just like in BoW. More than 30-40 clusters, and the accuracy on the test set stops increasing."
   ]
  },
  {
   "cell_type": "code",
   "execution_count": 62,
   "metadata": {
    "ExecuteTime": {
     "end_time": "2018-02-28T22:49:48.922162Z",
     "start_time": "2018-02-28T22:49:45.819315Z"
    }
   },
   "outputs": [
    {
     "name": "stdout",
     "output_type": "stream",
     "text": [
      "['wheat', 1.0, 13]\n",
      "['coffee', 1.0, 13]\n",
      "['wheat', 0.66, 38]\n",
      "['gold', 1.0, 10]\n",
      "['palm-oil', 0.76, 29]\n",
      "['gold', 0.93, 15]\n",
      "['wheat', 0.97, 29]\n",
      "['cocoa', 1.0, 32]\n",
      "['wheat', 1.0, 17]\n",
      "['yen', 0.86, 14]\n",
      "['sugar', 0.65, 26]\n",
      "['gold', 1.0, 30]\n",
      "['coffee', 0.4, 10]\n",
      "['yen', 0.71, 24]\n",
      "['wheat', 0.69, 99]\n",
      "['gold', 0.96, 24]\n",
      "['gold', 0.67, 12]\n",
      "['rubber', 1.0, 15]\n",
      "['sugar', 1.0, 19]\n",
      "['coffee', 0.72, 32]\n",
      "['yen', 0.85, 20]\n",
      "['wheat', 1.0, 10]\n",
      "['wheat', 0.29, 14]\n",
      "['wheat', 0.89, 9]\n",
      "['wheat', 0.89, 27]\n",
      "['sugar', 1.0, 44]\n",
      "['coffee', 1.0, 15]\n",
      "['sugar', 0.45, 11]\n",
      "['coffee', 1.0, 26]\n",
      "['rubber', 0.94, 18]\n",
      "['sugar', 1.0, 18]\n",
      "['coffee', 0.88, 8]\n",
      "32 Clusters: 0.8391123439667129\n"
     ]
    }
   ],
   "source": [
    "n_clusters=32\n",
    "km = KMeans(n_clusters=n_clusters).fit(X_tfidf_train)\n",
    "km_labels_train = km.labels_\n",
    "print('{} Clusters:'.format(n_clusters), evaluate_clusters(km_labels_train, y_labels_train, show_clusters=True))"
   ]
  },
  {
   "cell_type": "markdown",
   "metadata": {},
   "source": [
    "Looking at the clusters we've created, we're doing substantially better than we did with Bow. Most clusters are about the same size (15-30 elements), most have quite high frequency of the most common category (0.80+), and only a couple have low accuracy. Remember also that because we're looking at multilabel output, it's impossible for us to actually get to 1.0 accuracy -- there will always be some tags that have come along for the ride. For example, an article tagged as 'wheat', 'sugar', and 'coffee' will bring all three of those tags into the cluster, making it impossible to label the cluster with 100% accuracy."
   ]
  },
  {
   "cell_type": "code",
   "execution_count": 63,
   "metadata": {
    "ExecuteTime": {
     "end_time": "2018-02-28T22:53:46.523482Z",
     "start_time": "2018-02-28T22:53:46.217111Z"
    }
   },
   "outputs": [
    {
     "data": {
      "image/png": "[encoded data removed]",
      "text/plain": [
       "<matplotlib.figure.Figure at 0x1126af4e0>"
      ]
     },
     "metadata": {},
     "output_type": "display_data"
    }
   ],
   "source": [
    "# Let's compute a similarity matrix and see which articles are most similar to each other.\n",
    "similarity = np.asarray(np.asmatrix(X_train_lsa) * np.asmatrix(X_train_lsa).T)\n",
    "sim_mat = pd.DataFrame(similarity).iloc[0:10, 0:10]\n",
    "sim_full = pd.DataFrame(similarity)\n",
    "sns.heatmap(sim_mat, yticklabels=range(sim_mat.shape[1]))\n",
    "plt.show()"
   ]
  },
  {
   "cell_type": "code",
   "execution_count": 64,
   "metadata": {
    "ExecuteTime": {
     "end_time": "2018-02-28T22:53:48.231496Z",
     "start_time": "2018-02-28T22:53:48.225100Z"
    }
   },
   "outputs": [
    {
     "name": "stdout",
     "output_type": "stream",
     "text": [
      "indonesia sees cpo price rising sharply indonesia expects crude palm oil (cpo) prices to rise sharply to between 450 and 550 dlrs a tonne fob sometime this year because of better european demand and a fall in malaysian output, hasrul harahap, junior minister for tree crops, told indonesian reporters. prices of malaysian and sumatran cpo are now around 332 dlrs a tonne cif for delivery in rotterdam, traders said. harahap said indonesia would maintain its exports, despite making recent palm oil purchases from malaysia, so that it could possibly increase its international market share. indonesia, the world's second largest producer of palm oil after malaysia, has been forced to import palm oil to ensure supplies during the moslem fasting month of ramadan. harahap said it was better to import to cover a temporary shortage than to lose export markets. indonesian exports of cpo in calendar 1986 were 530,500 tonnes, against 468,500 in 1985, according to central bank figures. \n",
      "\n",
      " malaysia may not meet 1987 oil palm target malaysia is unlikely to meet its targeted output of five mln tonnes of oil palm in calendar 1987, oil palm growers told reuters. output in 1987 is expected to reach around 4.5 mln tonnes, unchanged from 1986, because of drought, low use of fertiliser and overstressed palms, they said. the growers were asked for their reaction to an oil world newsletter report that malaysia's oil palm output is likely to drop sharply this year. palm oil now sells at around 700 ringgit a tonne, or about 115 ringgit less than soybean oil, but malaysia must sell more palm oil to prevent a stock buildup that could damage the industry, a leading grower told reuters. the country's palm oil stocks now total some 500,000 tonnes against about 800,000 last march, the growers said. the growers expect palm oil prices to ease later this year due to pressure from south american and u.s. soybean output. the current south american oilseed harvest, mainly soybean, is likely to be around 25.7 mln tonnes against the previous 21.7 mln tonne crop, they said. in addition, new u.s. soybean plantings are also expected to enter the market around november when malaysian palm oil output peaks. they said new planting of palms is also likely to slow, with some 50,000 hectares expected to be planted with new trees against 100,000 in 1986, although the effects of this reduction will not be felt for about another three years.\n"
     ]
    }
   ],
   "source": [
    "# These two should be fairly similar.\n",
    "print(articles_train[1], '\\n\\n', articles_train[9])"
   ]
  },
  {
   "cell_type": "markdown",
   "metadata": {},
   "source": [
    "Both articles are about palm oil. Very cool. Let's look at some of the BEST matches in the whole data set."
   ]
  },
  {
   "cell_type": "code",
   "execution_count": 65,
   "metadata": {
    "ExecuteTime": {
     "end_time": "2018-02-28T22:53:51.244540Z",
     "start_time": "2018-02-28T22:53:51.217431Z"
    }
   },
   "outputs": [
    {
     "name": "stdout",
     "output_type": "stream",
     "text": [
      "0    463\n",
      "1     37\n",
      "2    196\n",
      "3     99\n",
      "4    319\n",
      "5    584\n",
      "6     81\n",
      "7    635\n",
      "8    390\n",
      "9     37\n",
      "dtype: int64\n"
     ]
    }
   ],
   "source": [
    "# Remove the 1's from the diagonal and find the remaining max index.\n",
    "print((sim_full - np.identity(len(sim_full))).idxmax()[:10])"
   ]
  },
  {
   "cell_type": "code",
   "execution_count": 66,
   "metadata": {
    "ExecuteTime": {
     "end_time": "2018-02-28T22:53:52.537538Z",
     "start_time": "2018-02-28T22:53:52.528677Z"
    }
   },
   "outputs": [
    {
     "name": "stdout",
     "output_type": "stream",
     "text": [
      "Similarity: 0.994698885608\n",
      "\n",
      " bank of japan satisfied with yen at current range the bank of japan is satisfied with the yen around its current range, a senior central bank official told reporters. he said the pledge by major industrial nations in paris last month to cooperate to hold exchange rates around current ranges applied in both directions, a dollar fall or a dollar rise. unilateral intervention itself cannot ensure currency stability, but it can be useful when coordinated with other policies and with other central banks, he said. the bank of japan is rather confident currency stability will continue for some time, the senior bank official said, but declined to be more specific. finance minister kiichi miyazawa told parliament on friday the current dollar/yen exchange rate is not necessarily satisfactory for the japanese economy. asked what factors might destabilize the markets, the official cited a lessening of market fear about intervention, a completely unexpected change in the economy of japan, the u.s. or west germany, or resumption of comments by government officials seeking to talk the dollar up or down. the senior bank official said he expects japan's gross national product (gnp) to grow three pct or slightly more in the fiscal year beginning in april. that would be little changed from the performance expected this year. domestic demand may grow nearly four pct in 1987/88, but the external sector will have a negative impact on gnp of nearly one percentage point, he said. he said there was virtually no room for further monetary policy action to boost the economy. the economy's performance in the future very much depends on fiscal policy, he added. the central bank's monetary policy has already done its part in stimulating the economy, the senior bank official said. the bank of japan has cut its discount rate five times over the last year and a half. although the central bank does not see any imminent risk of inflation, there could be some problems in the future, he said. \"we are sitting on a barrel of powder, but fortunately it may still be wet,\" he added. liquidity among private households and especially the corporate sector has increased substantially, he said. the liquidity is the reason for the recent boom of stock exchange prices, the bank official said. this inflow of funds into the stock exchange, occurring also in other countries, may continue, he said. \n",
      "\n",
      " bank of japan satisfied with yen at current range the bank of japan is satisfied with the yen around its current range, a senior central bank official told reporters. he said the pledge by major industrial nations in paris last month to cooperate to hold exchange rates around current ranges applied in both directions, a dollar fall or a dollar rise. unilateral intervention itself cannot ensure currency stability, but it can be useful when coordinated with other policies and with other central banks, he said. the bank of japan is rather confident currency stability will continue for some time, the senior bank official said, but declined to be more specific. finance minister kiichi miyazawa told parliament on friday the current dollar/yen exchange rate is not necessarily satisfactory for the japanese economy. asked what factors might destabilize the markets, the official cited a lessening of market fear about intervention, a completely unexpected change in the economy of japan, the u.s. or west germany, or resumption of comments by government officials seeking to talk the dollar up or down. the senior bank official said he expects japan's gross national product (gnp) to grow three pct or slightly more in the fiscal year beginning in april. that would be little changed from the performance expected this year. domestic demand may grow nearly four pct in 1987/88, but the external sector will have a negative impact on gnp of nearly one percentage point, he said. he said there was virtually no room for further monetary policy action to boost the economy. the economy's performance in the future very much depends on fiscal policy, he added. the central bank's monetary policy has already done its part in stimulating the economy, the senior bank official said. the bank of japan has cut its discount rate five times over the last year and a half. although the central bank does not see any imminent risk of inflation, there could be some problems in the future, he said. \"we are sitting on a barrel of powder, but fortunately it may still be wet,\" he added. liquidity among private households and especially the corporate sector has increased substantially, he said. the liquidity is the reason for the recent boom of stock exchange prices, the bank official said. this inflow of funds into the stock exchange, occurring also in other countries, may continue, he said. the senior official said the bank of japan is hoping federal reserve chairman paul volcker will be re-appointed when his current term expires later this year. \"he's a great man,\" the official said, adding that more and more people expect his reappointment. turning to exchange rates, the official said the substantial drop in the dollar is beginning to have an effect on reducing the imbalance in world trade, even though the impact has taken longer than expected to show through. even the u.s. trade position has begun to feel the impact, although so far it has not been very strong, he said.\n"
     ]
    }
   ],
   "source": [
    "items = [0, 463]\n",
    "print('Similarity:', sim_full.iloc[items[0], items[1]])\n",
    "print('\\n', list(articles_train)[items[0]], '\\n\\n', list(articles_train)[items[1]])"
   ]
  },
  {
   "cell_type": "markdown",
   "metadata": {
    "ExecuteTime": {
     "end_time": "2018-02-28T21:03:15.725118Z",
     "start_time": "2018-02-28T21:03:15.713348Z"
    },
    "collapsed": true
   },
   "source": [
    "So, this is actually a duplicate of almost exactly the same article. The second example simply has a couple extra sentences added at the end. No wonder they have such a high similarity score!"
   ]
  },
  {
   "cell_type": "markdown",
   "metadata": {
    "collapsed": true
   },
   "source": [
    "# Conclusion\n",
    "\n",
    "Multilabel data is common out in the 'real world', and we've been able to do surprisingly well categorizing it using tfidf with latent semantic analysis and KMeans. With KMeans, we were able to go from a score of 0.54 on the Bag of Words test set with our custom evaluation metric to 0.83 on the tfidf test set. Our model used 32 clusters, and our original data included 15 multilabel categories. Latent semantic analysis did well separating articles by category, and also separated articles by commonalities other than the given categories. This kind of analysis has broad applicability in categorization and tagging of any corpus of articles, memos, or other text documents."
   ]
  },
  {
   "cell_type": "code",
   "execution_count": null,
   "metadata": {
    "collapsed": true
   },
   "outputs": [],
   "source": []
  }
 ],
 "metadata": {
  "kernelspec": {
   "display_name": "Python 3",
   "language": "python",
   "name": "python3"
  },
  "language_info": {
   "codemirror_mode": {
    "name": "ipython",
    "version": 3
   },
   "file_extension": ".py",
   "mimetype": "text/x-python",
   "name": "python",
   "nbconvert_exporter": "python",
   "pygments_lexer": "ipython3",
   "version": "3.6.2"
  }
 },
 "nbformat": 4,
 "nbformat_minor": 2
}
