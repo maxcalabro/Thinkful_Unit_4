{
 "cells": [
  {
   "cell_type": "markdown",
   "metadata": {},
   "source": [
    "# NLP Capstone"
   ]
  },
  {
   "cell_type": "code",
   "execution_count": 1,
   "metadata": {
    "ExecuteTime": {
     "end_time": "2018-02-27T16:23:24.736768Z",
     "start_time": "2018-02-27T16:23:22.575534Z"
    },
    "collapsed": true
   },
   "outputs": [],
   "source": [
    "import numpy as np\n",
    "import pandas as pd\n",
    "import matplotlib.pyplot as plt\n",
    "import seaborn as sns\n",
    "import re\n",
    "\n",
    "%matplotlib inline\n",
    "sns.set_style('white')"
   ]
  },
  {
   "cell_type": "markdown",
   "metadata": {},
   "source": [
    "# Examine the Data"
   ]
  },
  {
   "cell_type": "code",
   "execution_count": 2,
   "metadata": {
    "ExecuteTime": {
     "end_time": "2018-02-27T16:23:26.092590Z",
     "start_time": "2018-02-27T16:23:25.366167Z"
    },
    "collapsed": true
   },
   "outputs": [],
   "source": [
    "# Let's use articles from the Reuters Corpus.\n",
    "from nltk.corpus import reuters, stopwords"
   ]
  },
  {
   "cell_type": "code",
   "execution_count": 3,
   "metadata": {
    "ExecuteTime": {
     "end_time": "2018-02-27T16:23:27.257710Z",
     "start_time": "2018-02-27T16:23:26.095977Z"
    }
   },
   "outputs": [
    {
     "name": "stdout",
     "output_type": "stream",
     "text": [
      "['tin', 'coffee', 'gold', 'yen', 'rubber', 'palm-oil', 'lin-oil', 'rape-oil', 'wheat', 'soy-oil', 'nickel', 'cocoa', 'sugar', 'nzdlr', 'sorghum']\n"
     ]
    }
   ],
   "source": [
    "# We'll choose some categories at random and use those for the rest of our analysis.\n",
    "np.random.seed(3)\n",
    "categories = list(np.random.choice(reuters.categories(), 15, replace=False))\n",
    "print(categories)"
   ]
  },
  {
   "cell_type": "code",
   "execution_count": 4,
   "metadata": {
    "ExecuteTime": {
     "end_time": "2018-02-27T16:23:31.943953Z",
     "start_time": "2018-02-27T16:23:31.935031Z"
    }
   },
   "outputs": [
    {
     "data": {
      "text/plain": [
       "[(30, 'tin'),\n",
       " (139, 'coffee'),\n",
       " (124, 'gold'),\n",
       " (59, 'yen'),\n",
       " (49, 'rubber'),\n",
       " (40, 'palm-oil'),\n",
       " (2, 'lin-oil'),\n",
       " (8, 'rape-oil'),\n",
       " (283, 'wheat'),\n",
       " (25, 'soy-oil'),\n",
       " (9, 'nickel'),\n",
       " (73, 'cocoa'),\n",
       " (162, 'sugar'),\n",
       " (4, 'nzdlr'),\n",
       " (34, 'sorghum')]"
      ]
     },
     "execution_count": 4,
     "metadata": {},
     "output_type": "execute_result"
    }
   ],
   "source": [
    "# Check that our categories have relatively the same order of magnitude of articles associated with them.\n",
    "[(len(reuters.fileids(x)), x) for x in categories]"
   ]
  },
  {
   "cell_type": "code",
   "execution_count": 5,
   "metadata": {
    "ExecuteTime": {
     "end_time": "2018-02-27T16:23:34.675556Z",
     "start_time": "2018-02-27T16:23:32.682793Z"
    }
   },
   "outputs": [
    {
     "name": "stdout",
     "output_type": "stream",
     "text": [
      "Number of articles: 962\n",
      "['test/14832', 'test/14833', 'test/14840', 'test/14841', 'test/14842']\n",
      "Number of total words: 227749\n"
     ]
    }
   ],
   "source": [
    "# See how many articles are attached to those categories, the filenames of a few, and total word count.\n",
    "print('Number of articles:', len(reuters.fileids(categories)))\n",
    "fileids = reuters.fileids(categories)\n",
    "print(fileids[:5])\n",
    "print('Number of total words:', len(reuters.words(fileids)))"
   ]
  },
  {
   "cell_type": "markdown",
   "metadata": {},
   "source": [
    "Note that in the Reuters corpus, categories are overlapping and each article can be tagged with multiple categories. This may add some complexity to our analysis, but it's also more representative of a real-world NLP project where specific web pages may have multiple topics associated with them."
   ]
  },
  {
   "cell_type": "code",
   "execution_count": 6,
   "metadata": {
    "ExecuteTime": {
     "end_time": "2018-02-27T16:23:35.703344Z",
     "start_time": "2018-02-27T16:23:35.685159Z"
    }
   },
   "outputs": [
    {
     "data": {
      "text/plain": [
       "[[311, 'grain'],\n",
       " [283, 'wheat'],\n",
       " [162, 'sugar'],\n",
       " [139, 'coffee'],\n",
       " [124, 'gold'],\n",
       " [104, 'corn'],\n",
       " [73, 'cocoa'],\n",
       " [68, 'oilseed'],\n",
       " [67, 'veg-oil'],\n",
       " [59, 'yen'],\n",
       " [56, 'money-fx'],\n",
       " [51, 'soybean'],\n",
       " [49, 'rubber'],\n",
       " [40, 'palm-oil'],\n",
       " [36, 'dlr']]"
      ]
     },
     "execution_count": 6,
     "metadata": {},
     "output_type": "execute_result"
    }
   ],
   "source": [
    "# We may also be pulling in a lot of other categories in this process because articles can have multiple associations.\n",
    "# Let's see all the categories we're getting.\n",
    "all_categories = reuters.categories(fileids)\n",
    "category_counts = [[len(set(reuters.fileids(x)).intersection(fileids)), x] for x in all_categories]\n",
    "sorted(category_counts, reverse=True)[:15]"
   ]
  },
  {
   "cell_type": "markdown",
   "metadata": {},
   "source": [
    "So, we've got a few common categories that we didn't choose explicitly, but which turned out to be popular across the articles that were selected. For instance, 'grain' wasn't in the initial list, but 'wheat' and 'sorghum' are both grains, so it is popular. 'Corn' and 'veg-oil' as well. This should be fine -- it means we may end up clustering by some of these more general categories during unsupervised learning."
   ]
  },
  {
   "cell_type": "code",
   "execution_count": 7,
   "metadata": {
    "ExecuteTime": {
     "end_time": "2018-02-27T16:23:38.056325Z",
     "start_time": "2018-02-27T16:23:38.043408Z"
    }
   },
   "outputs": [
    {
     "name": "stdout",
     "output_type": "stream",
     "text": [
      "Raw:\n",
      " THAI TRADE DEFICIT WIDENS IN FIRST QUARTER\n",
      "  Thailand's trade deficit widened to 4.5\n",
      "  billion baht in the first quarter of 1987 from 2.1 billion a\n",
      "  year ago, the Business Economics Department said.\n",
      "      It said Janunary/March imports rose to 65.1 \n",
      "\n",
      "Words:\n",
      " ['THAI', 'TRADE', 'DEFICIT', 'WIDENS', 'IN', 'FIRST', 'QUARTER', 'Thailand', \"'\", 's', 'trade', 'deficit', 'widened', 'to', '4', '.', '5', 'billion', 'baht', 'in', 'the', 'first', 'quarter', 'of', '1987', 'from', '2', '.', '1', 'billion', 'a', 'year', 'ago', ',', 'the', 'Business', 'Economics', 'Department', 'said', '.', 'It', 'said', 'Janunary', '/', 'March', 'imports', 'rose', 'to', '65', '.']\n",
      "\n",
      "\n",
      "Categories:\n",
      " ['corn', 'grain', 'rice', 'rubber', 'sugar', 'tin', 'trade']\n"
     ]
    }
   ],
   "source": [
    "# There are three ways we can look at each file: Full text, words, and categories.\n",
    "# We'll use 'words' for BoW, full text for Tfidf, and categories for classification in both.\n",
    "print('Raw:\\n', reuters.raw('test/14832')[:250])\n",
    "print('\\nWords:\\n', reuters.words('test/14832')[:50])\n",
    "print('\\n\\nCategories:\\n', reuters.categories('test/14832'))"
   ]
  },
  {
   "cell_type": "markdown",
   "metadata": {},
   "source": [
    "# Clean the Data\n",
    "\n",
    "Because we're already given a method for accessing individual words, we'll have a bit less data cleaning to do."
   ]
  },
  {
   "cell_type": "code",
   "execution_count": 8,
   "metadata": {
    "ExecuteTime": {
     "end_time": "2018-02-27T16:23:46.945283Z",
     "start_time": "2018-02-27T16:23:45.917939Z"
    }
   },
   "outputs": [
    {
     "name": "stdout",
     "output_type": "stream",
     "text": [
      "Before: SUBROTO SAYS INDONESIA SUPPORTS TIN PACT EXTENSION\n",
      "  Mines and Energy Minister Subroto\n",
      "  confirmed Indonesian support for an extension of the sixth\n",
      "  International Tin Agreement (ITA), but said a new  \n",
      "\n",
      "After: subroto says indonesia supports tin pact extension mines and energy minister subroto confirmed indonesian support for an extension of the sixth international tin agreement (ita), but said a new pact w \n",
      "\n",
      "[['corn', 'grain', 'rice', 'rubber', 'sugar', 'tin', 'trade'], ['palm-oil', 'veg-oil'], ['coffee', 'lumber', 'palm-oil', 'rubber', 'veg-oil'], ['grain', 'wheat'], ['gold']]\n"
     ]
    }
   ],
   "source": [
    "# Create a list with each article as an element.\n",
    "articles = [reuters.raw(x) for x in fileids]\n",
    "print('Before:', articles[5][:200], '\\n')\n",
    "\n",
    "# Let's make them all lowercase and remove white space.\n",
    "articles = [' '.join(x.split()).lower() for x in articles]\n",
    "print('After:', articles[5][:200], '\\n')\n",
    "\n",
    "# And grabbing categories by article.\n",
    "categories_by_article = [reuters.categories(x) for x in fileids]\n",
    "print(categories_by_article[:5])"
   ]
  },
  {
   "cell_type": "markdown",
   "metadata": {},
   "source": [
    "That should be enough for the raw text, let's just touch up the 'Words' lists by making lowercase and removing punctuation, as we won't be using that for BoW. Instead of grabbing all the punctuation separately, I'll just get rid of all words length 2 or less and all stopwords. This will also deal with some common words and numbers and make our data a little easier to wrangle."
   ]
  },
  {
   "cell_type": "code",
   "execution_count": 9,
   "metadata": {
    "ExecuteTime": {
     "end_time": "2018-02-27T16:23:53.189855Z",
     "start_time": "2018-02-27T16:23:49.829566Z"
    }
   },
   "outputs": [
    {
     "name": "stdout",
     "output_type": "stream",
     "text": [
      "Before: ['SUBROTO', 'SAYS', 'INDONESIA', 'SUPPORTS', 'TIN', 'PACT', 'EXTENSION', 'Mines', 'and', 'Energy', 'Minister', 'Subroto', 'confirmed', 'Indonesian', 'support', 'for', 'an', 'extension', 'of', 'the', 'sixth', 'International', 'Tin', 'Agreement', '(']\n",
      "Total Words: 227749 \n",
      "\n",
      "After: ['subroto', 'says', 'indonesia', 'supports', 'tin', 'pact', 'extension', 'mines', 'energy', 'minister', 'subroto', 'confirmed', 'indonesian', 'support', 'extension', 'sixth', 'international', 'tin', 'agreement', 'ita', 'said', 'new', 'pact', 'necessary', 'asked']\n",
      "Total Words: 119008\n"
     ]
    }
   ],
   "source": [
    "words_by_article = [reuters.words(x) for x in fileids]\n",
    "print('Before:', words_by_article[5][:25])\n",
    "print('Total Words:', sum([len(x) for x in words_by_article]), '\\n')\n",
    "\n",
    "# A set of stopwords will be faster to search through.\n",
    "stopword_set = set(stopwords.words('english'))\n",
    "for i, words in enumerate(words_by_article):\n",
    "    words_by_article[i] = [x.lower() for x in words if (len(x) > 2) and not (x in stopword_set)]\n",
    "print('After:', words_by_article[5][:25])\n",
    "print('Total Words:', sum([len(x) for x in words_by_article]))"
   ]
  },
  {
   "cell_type": "markdown",
   "metadata": {},
   "source": [
    "Nice, we've cut out nearly half the words from our data set that were unlikely to be useful. This should make things go faster and better from here on out."
   ]
  },
  {
   "cell_type": "markdown",
   "metadata": {},
   "source": [
    "# Bag of Words\n",
    "\n",
    "Are we going to use lemmas, etc for this analysis? It's a bit slow and we've already got a nice clean set of words. Let's see how we do without getting into spaCy first, and add it if it seems useful."
   ]
  },
  {
   "cell_type": "markdown",
   "metadata": {},
   "source": [
    "## Setting Up BoW"
   ]
  },
  {
   "cell_type": "code",
   "execution_count": 10,
   "metadata": {
    "ExecuteTime": {
     "end_time": "2018-02-27T16:24:55.288940Z",
     "start_time": "2018-02-27T16:24:55.285167Z"
    },
    "collapsed": true
   },
   "outputs": [],
   "source": [
    "from collections import Counter\n",
    "import itertools"
   ]
  },
  {
   "cell_type": "code",
   "execution_count": 11,
   "metadata": {
    "ExecuteTime": {
     "end_time": "2018-02-27T16:24:56.325668Z",
     "start_time": "2018-02-27T16:24:56.283013Z"
    }
   },
   "outputs": [
    {
     "name": "stdout",
     "output_type": "stream",
     "text": [
      "[('said', 3481), ('the', 1749), ('tonnes', 1535), ('mln', 1331), ('000', 1176), ('wheat', 961), ('year', 814), ('sugar', 731), ('pct', 713), ('would', 682), ('coffee', 650), ('last', 616), ('1986', 578), ('export', 539), ('market', 539), ('dlrs', 537), ('prices', 527), ('gold', 518), ('new', 512), ('price', 442), ('trade', 425), ('may', 408), ('production', 391), ('cocoa', 376), ('producers', 363)]\n"
     ]
    }
   ],
   "source": [
    "# Put all the strings into a single list.\n",
    "allwords = [word for article in words_by_article for word in article]\n",
    "\n",
    "# Count 'em up.\n",
    "words_counted = Counter(allwords)\n",
    "\n",
    "# Which words are most common?\n",
    "print(words_counted.most_common(25))"
   ]
  },
  {
   "cell_type": "markdown",
   "metadata": {},
   "source": [
    "Some of these words aren't great to have in our set. Let's remove some by hand, and then remove words that occur less than 3 times."
   ]
  },
  {
   "cell_type": "code",
   "execution_count": 12,
   "metadata": {
    "ExecuteTime": {
     "end_time": "2018-02-27T16:25:05.653300Z",
     "start_time": "2018-02-27T16:25:05.639517Z"
    }
   },
   "outputs": [
    {
     "name": "stdout",
     "output_type": "stream",
     "text": [
      "[('tonnes', 1535), ('mln', 1331), ('wheat', 961), ('sugar', 731), ('would', 682), ('coffee', 650), ('last', 616), ('1986', 578), ('export', 539), ('market', 539), ('dlrs', 537), ('prices', 527), ('gold', 518), ('new', 512), ('price', 442), ('trade', 425), ('production', 391), ('cocoa', 376), ('producers', 363), ('nil', 361), ('1987', 358), ('week', 351), ('one', 347), ('per', 347), ('stock', 346)]\n",
      "Unique words: 9750\n"
     ]
    }
   ],
   "source": [
    "# Make a list of words to ignore, then cycle through the counter to remove them.\n",
    "ignore = ['said', 'the', '000', 'year', 'pct', 'may']\n",
    "for word in list(words_counted):\n",
    "    if word in ignore:\n",
    "        del words_counted[word]\n",
    "print(words_counted.most_common(25))\n",
    "print('Unique words:', len(list(words_counted)))"
   ]
  },
  {
   "cell_type": "code",
   "execution_count": 13,
   "metadata": {
    "ExecuteTime": {
     "end_time": "2018-02-27T16:25:07.021406Z",
     "start_time": "2018-02-27T16:25:06.986770Z"
    }
   },
   "outputs": [
    {
     "name": "stdout",
     "output_type": "stream",
     "text": [
      "Least common words: [('lechin', 5), ('arbitration', 5), ('awf', 5), ('martell', 5), ('citicorp', 5)]\n",
      "Unique words: 3333\n"
     ]
    }
   ],
   "source": [
    "# We'll use itertools to delete all items that are not dropped by this lambda function.\n",
    "for key, count in itertools.dropwhile(lambda key_count: key_count[1] >= 5, words_counted.most_common()):\n",
    "    del words_counted[key]\n",
    "print('Least common words:', words_counted.most_common()[::-1][:5])    \n",
    "print('Unique words:', len(list(words_counted)))"
   ]
  },
  {
   "cell_type": "markdown",
   "metadata": {
    "collapsed": true
   },
   "source": [
    "That's a bit better. Let's go ahead and make of DataFrame for modeling."
   ]
  },
  {
   "cell_type": "code",
   "execution_count": 14,
   "metadata": {
    "ExecuteTime": {
     "end_time": "2018-02-27T16:25:14.509048Z",
     "start_time": "2018-02-27T16:25:12.733518Z"
    }
   },
   "outputs": [
    {
     "data": {
      "text/html": [
       "<div>\n",
       "<style>\n",
       "    .dataframe thead tr:only-child th {\n",
       "        text-align: right;\n",
       "    }\n",
       "\n",
       "    .dataframe thead th {\n",
       "        text-align: left;\n",
       "    }\n",
       "\n",
       "    .dataframe tbody tr th {\n",
       "        vertical-align: top;\n",
       "    }\n",
       "</style>\n",
       "<table border=\"1\" class=\"dataframe\">\n",
       "  <thead>\n",
       "    <tr style=\"text-align: right;\">\n",
       "      <th></th>\n",
       "      <th>article_text</th>\n",
       "      <th>categories</th>\n",
       "      <th>thai</th>\n",
       "      <th>trade</th>\n",
       "      <th>deficit</th>\n",
       "      <th>first</th>\n",
       "      <th>quarter</th>\n",
       "      <th>thailand</th>\n",
       "      <th>billion</th>\n",
       "      <th>1987</th>\n",
       "      <th>...</th>\n",
       "      <th>nogales</th>\n",
       "      <th>awf</th>\n",
       "      <th>amselco</th>\n",
       "      <th>amt</th>\n",
       "      <th>arbitration</th>\n",
       "      <th>lechin</th>\n",
       "      <th>otsuki</th>\n",
       "      <th>miti</th>\n",
       "      <th>iwc</th>\n",
       "      <th>witte</th>\n",
       "    </tr>\n",
       "  </thead>\n",
       "  <tbody>\n",
       "    <tr>\n",
       "      <th>0</th>\n",
       "      <td>thai trade deficit widens in first quarter tha...</td>\n",
       "      <td>[corn, grain, rice, rubber, sugar, tin, trade]</td>\n",
       "      <td>0</td>\n",
       "      <td>0</td>\n",
       "      <td>0</td>\n",
       "      <td>0</td>\n",
       "      <td>0</td>\n",
       "      <td>0</td>\n",
       "      <td>0</td>\n",
       "      <td>0</td>\n",
       "      <td>...</td>\n",
       "      <td>0</td>\n",
       "      <td>0</td>\n",
       "      <td>0</td>\n",
       "      <td>0</td>\n",
       "      <td>0</td>\n",
       "      <td>0</td>\n",
       "      <td>0</td>\n",
       "      <td>0</td>\n",
       "      <td>0</td>\n",
       "      <td>0</td>\n",
       "    </tr>\n",
       "    <tr>\n",
       "      <th>1</th>\n",
       "      <td>indonesia sees cpo price rising sharply indone...</td>\n",
       "      <td>[palm-oil, veg-oil]</td>\n",
       "      <td>0</td>\n",
       "      <td>0</td>\n",
       "      <td>0</td>\n",
       "      <td>0</td>\n",
       "      <td>0</td>\n",
       "      <td>0</td>\n",
       "      <td>0</td>\n",
       "      <td>0</td>\n",
       "      <td>...</td>\n",
       "      <td>0</td>\n",
       "      <td>0</td>\n",
       "      <td>0</td>\n",
       "      <td>0</td>\n",
       "      <td>0</td>\n",
       "      <td>0</td>\n",
       "      <td>0</td>\n",
       "      <td>0</td>\n",
       "      <td>0</td>\n",
       "      <td>0</td>\n",
       "    </tr>\n",
       "    <tr>\n",
       "      <th>2</th>\n",
       "      <td>indonesian commodity exchange may expand the i...</td>\n",
       "      <td>[coffee, lumber, palm-oil, rubber, veg-oil]</td>\n",
       "      <td>0</td>\n",
       "      <td>0</td>\n",
       "      <td>0</td>\n",
       "      <td>0</td>\n",
       "      <td>0</td>\n",
       "      <td>0</td>\n",
       "      <td>0</td>\n",
       "      <td>0</td>\n",
       "      <td>...</td>\n",
       "      <td>0</td>\n",
       "      <td>0</td>\n",
       "      <td>0</td>\n",
       "      <td>0</td>\n",
       "      <td>0</td>\n",
       "      <td>0</td>\n",
       "      <td>0</td>\n",
       "      <td>0</td>\n",
       "      <td>0</td>\n",
       "      <td>0</td>\n",
       "    </tr>\n",
       "  </tbody>\n",
       "</table>\n",
       "<p>3 rows × 3335 columns</p>\n",
       "</div>"
      ],
      "text/plain": [
       "                                        article_text  \\\n",
       "0  thai trade deficit widens in first quarter tha...   \n",
       "1  indonesia sees cpo price rising sharply indone...   \n",
       "2  indonesian commodity exchange may expand the i...   \n",
       "\n",
       "                                       categories  thai  trade  deficit  \\\n",
       "0  [corn, grain, rice, rubber, sugar, tin, trade]     0      0        0   \n",
       "1                             [palm-oil, veg-oil]     0      0        0   \n",
       "2     [coffee, lumber, palm-oil, rubber, veg-oil]     0      0        0   \n",
       "\n",
       "   first  quarter  thailand  billion  1987  ...    nogales  awf  amselco  amt  \\\n",
       "0      0        0         0        0     0  ...          0    0        0    0   \n",
       "1      0        0         0        0     0  ...          0    0        0    0   \n",
       "2      0        0         0        0     0  ...          0    0        0    0   \n",
       "\n",
       "   arbitration  lechin  otsuki  miti  iwc  witte  \n",
       "0            0       0       0     0    0      0  \n",
       "1            0       0       0     0    0      0  \n",
       "2            0       0       0     0    0      0  \n",
       "\n",
       "[3 rows x 3335 columns]"
      ]
     },
     "execution_count": 14,
     "metadata": {},
     "output_type": "execute_result"
    }
   ],
   "source": [
    "# Create a DataFrame, include article text, categories, and features for all the words in our list.\n",
    "df_bow = pd.DataFrame(columns=['article_text', 'categories'] + list(words_counted))\n",
    "df_bow['article_text'] = articles\n",
    "df_bow['categories'] = categories_by_article\n",
    "df_bow.fillna(0, inplace=True)\n",
    "df_bow.head(3)"
   ]
  },
  {
   "cell_type": "markdown",
   "metadata": {},
   "source": [
    "And finally, we'll populate the word counts."
   ]
  },
  {
   "cell_type": "code",
   "execution_count": 15,
   "metadata": {
    "ExecuteTime": {
     "end_time": "2018-02-27T16:25:38.420955Z",
     "start_time": "2018-02-27T16:25:18.500348Z"
    }
   },
   "outputs": [
    {
     "data": {
      "text/html": [
       "<div>\n",
       "<style>\n",
       "    .dataframe thead tr:only-child th {\n",
       "        text-align: right;\n",
       "    }\n",
       "\n",
       "    .dataframe thead th {\n",
       "        text-align: left;\n",
       "    }\n",
       "\n",
       "    .dataframe tbody tr th {\n",
       "        vertical-align: top;\n",
       "    }\n",
       "</style>\n",
       "<table border=\"1\" class=\"dataframe\">\n",
       "  <thead>\n",
       "    <tr style=\"text-align: right;\">\n",
       "      <th></th>\n",
       "      <th>article_text</th>\n",
       "      <th>categories</th>\n",
       "      <th>thai</th>\n",
       "      <th>trade</th>\n",
       "      <th>deficit</th>\n",
       "      <th>first</th>\n",
       "      <th>quarter</th>\n",
       "      <th>thailand</th>\n",
       "      <th>billion</th>\n",
       "      <th>1987</th>\n",
       "      <th>...</th>\n",
       "      <th>nogales</th>\n",
       "      <th>awf</th>\n",
       "      <th>amselco</th>\n",
       "      <th>amt</th>\n",
       "      <th>arbitration</th>\n",
       "      <th>lechin</th>\n",
       "      <th>otsuki</th>\n",
       "      <th>miti</th>\n",
       "      <th>iwc</th>\n",
       "      <th>witte</th>\n",
       "    </tr>\n",
       "  </thead>\n",
       "  <tbody>\n",
       "    <tr>\n",
       "      <th>0</th>\n",
       "      <td>thai trade deficit widens in first quarter tha...</td>\n",
       "      <td>[corn, grain, rice, rubber, sugar, tin, trade]</td>\n",
       "      <td>1</td>\n",
       "      <td>2</td>\n",
       "      <td>2</td>\n",
       "      <td>4</td>\n",
       "      <td>4</td>\n",
       "      <td>2</td>\n",
       "      <td>6</td>\n",
       "      <td>1</td>\n",
       "      <td>...</td>\n",
       "      <td>0</td>\n",
       "      <td>0</td>\n",
       "      <td>0</td>\n",
       "      <td>0</td>\n",
       "      <td>0</td>\n",
       "      <td>0</td>\n",
       "      <td>0</td>\n",
       "      <td>0</td>\n",
       "      <td>0</td>\n",
       "      <td>0</td>\n",
       "    </tr>\n",
       "    <tr>\n",
       "      <th>1</th>\n",
       "      <td>indonesia sees cpo price rising sharply indone...</td>\n",
       "      <td>[palm-oil, veg-oil]</td>\n",
       "      <td>0</td>\n",
       "      <td>0</td>\n",
       "      <td>0</td>\n",
       "      <td>0</td>\n",
       "      <td>0</td>\n",
       "      <td>0</td>\n",
       "      <td>0</td>\n",
       "      <td>0</td>\n",
       "      <td>...</td>\n",
       "      <td>0</td>\n",
       "      <td>0</td>\n",
       "      <td>0</td>\n",
       "      <td>0</td>\n",
       "      <td>0</td>\n",
       "      <td>0</td>\n",
       "      <td>0</td>\n",
       "      <td>0</td>\n",
       "      <td>0</td>\n",
       "      <td>0</td>\n",
       "    </tr>\n",
       "    <tr>\n",
       "      <th>2</th>\n",
       "      <td>indonesian commodity exchange may expand the i...</td>\n",
       "      <td>[coffee, lumber, palm-oil, rubber, veg-oil]</td>\n",
       "      <td>0</td>\n",
       "      <td>3</td>\n",
       "      <td>0</td>\n",
       "      <td>1</td>\n",
       "      <td>0</td>\n",
       "      <td>0</td>\n",
       "      <td>1</td>\n",
       "      <td>1</td>\n",
       "      <td>...</td>\n",
       "      <td>0</td>\n",
       "      <td>0</td>\n",
       "      <td>0</td>\n",
       "      <td>0</td>\n",
       "      <td>0</td>\n",
       "      <td>0</td>\n",
       "      <td>0</td>\n",
       "      <td>0</td>\n",
       "      <td>0</td>\n",
       "      <td>0</td>\n",
       "    </tr>\n",
       "    <tr>\n",
       "      <th>3</th>\n",
       "      <td>sri lanka gets usda approval for wheat price f...</td>\n",
       "      <td>[grain, wheat]</td>\n",
       "      <td>0</td>\n",
       "      <td>0</td>\n",
       "      <td>0</td>\n",
       "      <td>0</td>\n",
       "      <td>0</td>\n",
       "      <td>0</td>\n",
       "      <td>0</td>\n",
       "      <td>0</td>\n",
       "      <td>...</td>\n",
       "      <td>0</td>\n",
       "      <td>0</td>\n",
       "      <td>0</td>\n",
       "      <td>0</td>\n",
       "      <td>0</td>\n",
       "      <td>0</td>\n",
       "      <td>0</td>\n",
       "      <td>0</td>\n",
       "      <td>0</td>\n",
       "      <td>0</td>\n",
       "    </tr>\n",
       "    <tr>\n",
       "      <th>4</th>\n",
       "      <td>western mining to open new gold mine in austra...</td>\n",
       "      <td>[gold]</td>\n",
       "      <td>0</td>\n",
       "      <td>0</td>\n",
       "      <td>0</td>\n",
       "      <td>1</td>\n",
       "      <td>0</td>\n",
       "      <td>0</td>\n",
       "      <td>0</td>\n",
       "      <td>0</td>\n",
       "      <td>...</td>\n",
       "      <td>0</td>\n",
       "      <td>0</td>\n",
       "      <td>0</td>\n",
       "      <td>0</td>\n",
       "      <td>0</td>\n",
       "      <td>0</td>\n",
       "      <td>0</td>\n",
       "      <td>0</td>\n",
       "      <td>0</td>\n",
       "      <td>0</td>\n",
       "    </tr>\n",
       "  </tbody>\n",
       "</table>\n",
       "<p>5 rows × 3335 columns</p>\n",
       "</div>"
      ],
      "text/plain": [
       "                                        article_text  \\\n",
       "0  thai trade deficit widens in first quarter tha...   \n",
       "1  indonesia sees cpo price rising sharply indone...   \n",
       "2  indonesian commodity exchange may expand the i...   \n",
       "3  sri lanka gets usda approval for wheat price f...   \n",
       "4  western mining to open new gold mine in austra...   \n",
       "\n",
       "                                       categories  thai  trade  deficit  \\\n",
       "0  [corn, grain, rice, rubber, sugar, tin, trade]     1      2        2   \n",
       "1                             [palm-oil, veg-oil]     0      0        0   \n",
       "2     [coffee, lumber, palm-oil, rubber, veg-oil]     0      3        0   \n",
       "3                                  [grain, wheat]     0      0        0   \n",
       "4                                          [gold]     0      0        0   \n",
       "\n",
       "   first  quarter  thailand  billion  1987  ...    nogales  awf  amselco  amt  \\\n",
       "0      4        4         2        6     1  ...          0    0        0    0   \n",
       "1      0        0         0        0     0  ...          0    0        0    0   \n",
       "2      1        0         0        1     1  ...          0    0        0    0   \n",
       "3      0        0         0        0     0  ...          0    0        0    0   \n",
       "4      1        0         0        0     0  ...          0    0        0    0   \n",
       "\n",
       "   arbitration  lechin  otsuki  miti  iwc  witte  \n",
       "0            0       0       0     0    0      0  \n",
       "1            0       0       0     0    0      0  \n",
       "2            0       0       0     0    0      0  \n",
       "3            0       0       0     0    0      0  \n",
       "4            0       0       0     0    0      0  \n",
       "\n",
       "[5 rows x 3335 columns]"
      ]
     },
     "execution_count": 15,
     "metadata": {},
     "output_type": "execute_result"
    }
   ],
   "source": [
    "# Make a set of the feature names for faster searching.\n",
    "features_set = set(words_counted)\n",
    "\n",
    "# Iterate through the words in each article to add values to our DataFrame.\n",
    "for i, article in enumerate(words_by_article):\n",
    "    counter = Counter(article)\n",
    "    for key, count in counter.most_common():\n",
    "        if key in features_set:\n",
    "            df_bow.loc[i, key] = count\n",
    "            \n",
    "df_bow.head(5)"
   ]
  },
  {
   "cell_type": "code",
   "execution_count": 16,
   "metadata": {
    "ExecuteTime": {
     "end_time": "2018-02-27T16:25:44.367992Z",
     "start_time": "2018-02-27T16:25:44.359836Z"
    }
   },
   "outputs": [
    {
     "name": "stdout",
     "output_type": "stream",
     "text": [
      "\"Trade\" added up over the DataFrame: 425\n",
      "\"Trade\" from our original \"words_counted\" counter: 425\n"
     ]
    }
   ],
   "source": [
    "# Sanity check -- did we get everything counted?\n",
    "print('\"Trade\" added up over the DataFrame:', df_bow['trade'].sum())\n",
    "print('\"Trade\" from our original \"words_counted\" counter:', words_counted['trade'])"
   ]
  },
  {
   "cell_type": "markdown",
   "metadata": {},
   "source": [
    "## Supervised BoW Model"
   ]
  },
  {
   "cell_type": "code",
   "execution_count": 17,
   "metadata": {
    "ExecuteTime": {
     "end_time": "2018-02-27T16:25:49.696943Z",
     "start_time": "2018-02-27T16:25:49.671357Z"
    }
   },
   "outputs": [
    {
     "name": "stdout",
     "output_type": "stream",
     "text": [
      "df shape: (962, 3335)\n"
     ]
    },
    {
     "data": {
      "text/html": [
       "<div>\n",
       "<style>\n",
       "    .dataframe thead tr:only-child th {\n",
       "        text-align: right;\n",
       "    }\n",
       "\n",
       "    .dataframe thead th {\n",
       "        text-align: left;\n",
       "    }\n",
       "\n",
       "    .dataframe tbody tr th {\n",
       "        vertical-align: top;\n",
       "    }\n",
       "</style>\n",
       "<table border=\"1\" class=\"dataframe\">\n",
       "  <thead>\n",
       "    <tr style=\"text-align: right;\">\n",
       "      <th></th>\n",
       "      <th>article_text</th>\n",
       "      <th>categories</th>\n",
       "      <th>thai</th>\n",
       "      <th>trade</th>\n",
       "      <th>deficit</th>\n",
       "      <th>first</th>\n",
       "      <th>quarter</th>\n",
       "      <th>thailand</th>\n",
       "      <th>billion</th>\n",
       "      <th>1987</th>\n",
       "      <th>...</th>\n",
       "      <th>nogales</th>\n",
       "      <th>awf</th>\n",
       "      <th>amselco</th>\n",
       "      <th>amt</th>\n",
       "      <th>arbitration</th>\n",
       "      <th>lechin</th>\n",
       "      <th>otsuki</th>\n",
       "      <th>miti</th>\n",
       "      <th>iwc</th>\n",
       "      <th>witte</th>\n",
       "    </tr>\n",
       "  </thead>\n",
       "  <tbody>\n",
       "    <tr>\n",
       "      <th>0</th>\n",
       "      <td>thai trade deficit widens in first quarter tha...</td>\n",
       "      <td>[corn, grain, rice, rubber, sugar, tin, trade]</td>\n",
       "      <td>1</td>\n",
       "      <td>2</td>\n",
       "      <td>2</td>\n",
       "      <td>4</td>\n",
       "      <td>4</td>\n",
       "      <td>2</td>\n",
       "      <td>6</td>\n",
       "      <td>1</td>\n",
       "      <td>...</td>\n",
       "      <td>0</td>\n",
       "      <td>0</td>\n",
       "      <td>0</td>\n",
       "      <td>0</td>\n",
       "      <td>0</td>\n",
       "      <td>0</td>\n",
       "      <td>0</td>\n",
       "      <td>0</td>\n",
       "      <td>0</td>\n",
       "      <td>0</td>\n",
       "    </tr>\n",
       "    <tr>\n",
       "      <th>1</th>\n",
       "      <td>indonesia sees cpo price rising sharply indone...</td>\n",
       "      <td>[palm-oil, veg-oil]</td>\n",
       "      <td>0</td>\n",
       "      <td>0</td>\n",
       "      <td>0</td>\n",
       "      <td>0</td>\n",
       "      <td>0</td>\n",
       "      <td>0</td>\n",
       "      <td>0</td>\n",
       "      <td>0</td>\n",
       "      <td>...</td>\n",
       "      <td>0</td>\n",
       "      <td>0</td>\n",
       "      <td>0</td>\n",
       "      <td>0</td>\n",
       "      <td>0</td>\n",
       "      <td>0</td>\n",
       "      <td>0</td>\n",
       "      <td>0</td>\n",
       "      <td>0</td>\n",
       "      <td>0</td>\n",
       "    </tr>\n",
       "  </tbody>\n",
       "</table>\n",
       "<p>2 rows × 3335 columns</p>\n",
       "</div>"
      ],
      "text/plain": [
       "                                        article_text  \\\n",
       "0  thai trade deficit widens in first quarter tha...   \n",
       "1  indonesia sees cpo price rising sharply indone...   \n",
       "\n",
       "                                       categories  thai  trade  deficit  \\\n",
       "0  [corn, grain, rice, rubber, sugar, tin, trade]     1      2        2   \n",
       "1                             [palm-oil, veg-oil]     0      0        0   \n",
       "\n",
       "   first  quarter  thailand  billion  1987  ...    nogales  awf  amselco  amt  \\\n",
       "0      4        4         2        6     1  ...          0    0        0    0   \n",
       "1      0        0         0        0     0  ...          0    0        0    0   \n",
       "\n",
       "   arbitration  lechin  otsuki  miti  iwc  witte  \n",
       "0            0       0       0     0    0      0  \n",
       "1            0       0       0     0    0      0  \n",
       "\n",
       "[2 rows x 3335 columns]"
      ]
     },
     "execution_count": 17,
     "metadata": {},
     "output_type": "execute_result"
    }
   ],
   "source": [
    "print('df shape:', df_bow.shape)\n",
    "df_bow.head(2)"
   ]
  },
  {
   "cell_type": "markdown",
   "metadata": {},
   "source": [
    "How will we treat the outcome variable, 'categories'? It's tricky having a number of categories associated with every article. Let's see if we can narrow it down to just the set of original categories."
   ]
  },
  {
   "cell_type": "code",
   "execution_count": 18,
   "metadata": {
    "ExecuteTime": {
     "end_time": "2018-02-27T16:25:56.314174Z",
     "start_time": "2018-02-27T16:25:56.308539Z"
    }
   },
   "outputs": [
    {
     "name": "stdout",
     "output_type": "stream",
     "text": [
      "['tin', 'coffee', 'gold', 'yen', 'rubber', 'palm-oil', 'lin-oil', 'rape-oil', 'wheat', 'soy-oil', 'nickel', 'cocoa', 'sugar', 'nzdlr', 'sorghum']\n"
     ]
    }
   ],
   "source": [
    "# This is our list of original categories.\n",
    "print(categories)\n",
    "categories_set = set(categories)"
   ]
  },
  {
   "cell_type": "code",
   "execution_count": 19,
   "metadata": {
    "ExecuteTime": {
     "end_time": "2018-02-27T16:26:13.027398Z",
     "start_time": "2018-02-27T16:26:12.992702Z"
    }
   },
   "outputs": [
    {
     "name": "stdout",
     "output_type": "stream",
     "text": [
      "[['tin', 'sugar', 'rubber'], ['palm-oil'], ['coffee', 'rubber', 'palm-oil'], ['wheat'], ['gold']]\n"
     ]
    }
   ],
   "source": [
    "# Let's search through of 'categories' feature and see what matches up with those from the original group.\n",
    "categories_reduced = [list(categories_set.intersection(df_bow['categories'][index])) for index in df_bow.index]\n",
    "print(categories_reduced[:5])\n",
    "\n",
    "# Create a new feature in our DF.\n",
    "df_bow['categories_reduced'] = categories_reduced"
   ]
  },
  {
   "cell_type": "markdown",
   "metadata": {},
   "source": [
    "Okay, we've gotten rid of all the extra categories, but many articles still have multiple associations. It turns out Random Forest, Decision Tree, KNN, and MLP already support multilabel output, although metrics won't work for it. \n",
    "\n",
    "http://scikit-learn.org/stable/modules/multiclass.html\n",
    "\n",
    "Let's just run it on the reduced category set and see what happens. We do have to binarize our multilabel output."
   ]
  },
  {
   "cell_type": "code",
   "execution_count": 20,
   "metadata": {
    "ExecuteTime": {
     "end_time": "2018-02-27T16:26:23.557858Z",
     "start_time": "2018-02-27T16:26:23.501528Z"
    },
    "collapsed": true
   },
   "outputs": [],
   "source": [
    "from sklearn.model_selection import train_test_split\n",
    "from sklearn.ensemble import RandomForestClassifier\n",
    "from sklearn.preprocessing import MultiLabelBinarizer\n",
    "from sklearn.metrics import confusion_matrix"
   ]
  },
  {
   "cell_type": "code",
   "execution_count": 75,
   "metadata": {
    "ExecuteTime": {
     "end_time": "2018-02-27T18:34:20.837441Z",
     "start_time": "2018-02-27T18:34:20.706904Z"
    }
   },
   "outputs": [
    {
     "name": "stdout",
     "output_type": "stream",
     "text": [
      "Array shapes: (721, 3333) (241, 3333) (721, 15) (241, 15)\n"
     ]
    }
   ],
   "source": [
    "mlb = MultiLabelBinarizer()\n",
    "\n",
    "# We have to exclude the category features we've been building.\n",
    "X = df_bow.loc[:, ~df_bow.columns.isin(['article_text', 'categories', 'categories_reduced'])]\n",
    "y = mlb.fit_transform(df_bow.categories_reduced)\n",
    "\n",
    "X_train, X_test, y_train, y_test = train_test_split(X, y, test_size=0.25, random_state=100)\n",
    "y_labels_train, y_labels_test = train_test_split(df_bow.categories_reduced, test_size=0.25, random_state=100)\n",
    "print('Array shapes:', X_train.shape, X_test.shape, y_train.shape, y_test.shape)"
   ]
  },
  {
   "cell_type": "code",
   "execution_count": 22,
   "metadata": {
    "ExecuteTime": {
     "end_time": "2018-02-27T16:28:45.655520Z",
     "start_time": "2018-02-27T16:28:45.498960Z"
    }
   },
   "outputs": [
    {
     "name": "stdout",
     "output_type": "stream",
     "text": [
      "(Test set) (Model predictions)\n",
      "\n",
      "[[('wheat',) ('wheat',)]\n",
      " [('palm-oil',) ()]\n",
      " [('coffee',) ()]\n",
      " [('cocoa',) ()]\n",
      " [('wheat',) ('wheat',)]\n",
      " [('sugar',) ('sugar',)]\n",
      " [('sugar',) ()]\n",
      " [('cocoa',) ('cocoa',)]\n",
      " [('wheat',) ('wheat',)]\n",
      " [('sorghum',) ()]\n",
      " [('gold',) ('gold',)]\n",
      " [('rape-oil',) ()]\n",
      " [('sugar',) ()]\n",
      " [('wheat',) ('wheat',)]\n",
      " [('wheat',) ('wheat',)]\n",
      " [('wheat',) ('wheat',)]\n",
      " [('gold',) ('gold',)]\n",
      " [('sorghum',) ()]\n",
      " [('coffee',) ('coffee',)]\n",
      " [('sugar',) ('sugar',)]]\n"
     ]
    }
   ],
   "source": [
    "# Run Random Forest.\n",
    "rfc = RandomForestClassifier().fit(X_train, y_train)\n",
    "y_pred = rfc.predict(X_test)\n",
    "\n",
    "# Print out results for the test and predicted sets.\n",
    "print('(Test set) (Model predictions)\\n')\n",
    "print(np.stack([mlb.inverse_transform(y_test), mlb.inverse_transform(y_pred)], axis=1)[:20])"
   ]
  },
  {
   "cell_type": "markdown",
   "metadata": {
    "ExecuteTime": {
     "end_time": "2018-02-26T18:37:10.926535Z",
     "start_time": "2018-02-26T18:37:10.919377Z"
    }
   },
   "source": [
    "It looks like we're doing really well, but this isn't a very analytical way to rate our model. The biggest issue seems to be in not predicting any category in certain cases rather than mislabeling. We can use 'score', however, this will be 'subset accuracy', which means every label must be predicted correctly for the example to count."
   ]
  },
  {
   "cell_type": "code",
   "execution_count": 25,
   "metadata": {
    "ExecuteTime": {
     "end_time": "2018-02-27T16:29:53.001689Z",
     "start_time": "2018-02-27T16:29:52.964274Z"
    }
   },
   "outputs": [
    {
     "name": "stdout",
     "output_type": "stream",
     "text": [
      "Training set score: 0.959778085992\n",
      "Test set score: 0.647302904564\n"
     ]
    }
   ],
   "source": [
    "print('Training set score:', rfc.score(X_train, y_train))\n",
    "print('Test set score:', rfc.score(X_test, y_test))"
   ]
  },
  {
   "cell_type": "markdown",
   "metadata": {},
   "source": [
    "We're overfitting the training set, but it's possible that 0.64 isn't so bad on the test set, since we're looking at subset accuracy. Let's see if we can do better with this or other models, and for now we'll just use 'score' to measure effectiveness."
   ]
  },
  {
   "cell_type": "code",
   "execution_count": 39,
   "metadata": {
    "ExecuteTime": {
     "end_time": "2018-02-27T17:08:55.166305Z",
     "start_time": "2018-02-27T17:08:55.160540Z"
    }
   },
   "outputs": [],
   "source": [
    "# These are the models that support multilabel output.\n",
    "from sklearn.neural_network import MLPClassifier\n",
    "from sklearn.tree import DecisionTreeClassifier\n",
    "from sklearn.neighbors import KNeighborsClassifier\n",
    "from sklearn.model_selection import GridSearchCV, cross_val_score"
   ]
  },
  {
   "cell_type": "code",
   "execution_count": 65,
   "metadata": {
    "ExecuteTime": {
     "end_time": "2018-02-27T18:04:29.659695Z",
     "start_time": "2018-02-27T18:00:17.392552Z"
    }
   },
   "outputs": [
    {
     "name": "stderr",
     "output_type": "stream",
     "text": [
      "/Users/maxcalabro/anaconda3/lib/python3.6/site-packages/sklearn/neural_network/multilayer_perceptron.py:564: ConvergenceWarning: Stochastic Optimizer: Maximum iterations (200) reached and the optimization hasn't converged yet.\n",
      "  % self.max_iter, ConvergenceWarning)\n",
      "/Users/maxcalabro/anaconda3/lib/python3.6/site-packages/sklearn/neural_network/multilayer_perceptron.py:564: ConvergenceWarning: Stochastic Optimizer: Maximum iterations (200) reached and the optimization hasn't converged yet.\n",
      "  % self.max_iter, ConvergenceWarning)\n",
      "/Users/maxcalabro/anaconda3/lib/python3.6/site-packages/sklearn/neural_network/multilayer_perceptron.py:564: ConvergenceWarning: Stochastic Optimizer: Maximum iterations (200) reached and the optimization hasn't converged yet.\n",
      "  % self.max_iter, ConvergenceWarning)\n",
      "/Users/maxcalabro/anaconda3/lib/python3.6/site-packages/sklearn/neural_network/multilayer_perceptron.py:564: ConvergenceWarning: Stochastic Optimizer: Maximum iterations (200) reached and the optimization hasn't converged yet.\n",
      "  % self.max_iter, ConvergenceWarning)\n",
      "/Users/maxcalabro/anaconda3/lib/python3.6/site-packages/sklearn/neural_network/multilayer_perceptron.py:564: ConvergenceWarning: Stochastic Optimizer: Maximum iterations (200) reached and the optimization hasn't converged yet.\n",
      "  % self.max_iter, ConvergenceWarning)\n"
     ]
    },
    {
     "name": "stdout",
     "output_type": "stream",
     "text": [
      "Best GridSearchCV params: {'hidden_layer_sizes': (200,)}\n",
      "Training set average cv score w/best parameters: 0.773925104022\n",
      "Test set score w/best parameters: 0.796680497925\n"
     ]
    }
   ],
   "source": [
    "mlp_params = {'hidden_layer_sizes':[(200,), (30, 30,), (60, 60,)]}\n",
    "mlp_grid = GridSearchCV(MLPClassifier(), param_grid=mlp_params, cv=5).fit(X_train, y_train)\n",
    "print('Best GridSearchCV params:', mlp_grid.best_params_)\n",
    "print('Training set average cv score w/best parameters:', mlp_grid.best_score_)\n",
    "print('Test set score w/best parameters:', mlp_grid.score(X_test, y_test))"
   ]
  },
  {
   "cell_type": "code",
   "execution_count": 56,
   "metadata": {
    "ExecuteTime": {
     "end_time": "2018-02-27T17:44:04.560370Z",
     "start_time": "2018-02-27T17:43:47.897816Z"
    }
   },
   "outputs": [
    {
     "name": "stdout",
     "output_type": "stream",
     "text": [
      "Best GridSearchCV params: {'max_depth': None, 'n_estimators': 100}\n",
      "Training set average cv score w/best parameters: 0.760055478502\n",
      "Test set score w/best parameters: 0.780082987552\n"
     ]
    }
   ],
   "source": [
    "rfc_params = {'max_depth':[10, 30, None],\n",
    "              'n_estimators':[10, 30, 100]}\n",
    "rfc_grid = GridSearchCV(RandomForestClassifier(), param_grid=rfc_params, cv=5).fit(X_train, y_train)\n",
    "print('Best GridSearchCV params:', rfc_grid.best_params_)\n",
    "print('Training set average cv score w/best parameters:', rfc_grid.best_score_)\n",
    "print('Test set score w/best parameters:', rfc_grid.score(X_test, y_test))"
   ]
  },
  {
   "cell_type": "code",
   "execution_count": 62,
   "metadata": {
    "ExecuteTime": {
     "end_time": "2018-02-27T17:55:18.603915Z",
     "start_time": "2018-02-27T17:55:12.578409Z"
    }
   },
   "outputs": [
    {
     "name": "stdout",
     "output_type": "stream",
     "text": [
      "Best GridSearchCV params: {'max_depth': 30, 'min_samples_split': 2}\n",
      "Training set average cv score w/best parameters: 0.918169209431\n",
      "Test set score w/best parameters: 0.904564315353\n"
     ]
    }
   ],
   "source": [
    "dtc_params = {'max_depth':[10, 30, None],\n",
    "              'min_samples_split':[2, 4, 8]}\n",
    "dtc_grid = GridSearchCV(DecisionTreeClassifier(), param_grid=dtc_params, cv=5).fit(X_train, y_train)\n",
    "print('Best GridSearchCV params:', dtc_grid.best_params_)\n",
    "print('Training set average cv score w/best parameters:', dtc_grid.best_score_)\n",
    "print('Test set score w/best parameters:', dtc_grid.score(X_test, y_test))"
   ]
  },
  {
   "cell_type": "code",
   "execution_count": 63,
   "metadata": {
    "ExecuteTime": {
     "end_time": "2018-02-27T17:56:19.067271Z",
     "start_time": "2018-02-27T17:55:31.092594Z"
    }
   },
   "outputs": [
    {
     "name": "stdout",
     "output_type": "stream",
     "text": [
      "Best GridSearchCV params: {'n_neighbors': 4}\n",
      "Training set average cv score w/best parameters: 0.631067961165\n",
      "Test set score w/best parameters: 0.655601659751\n"
     ]
    }
   ],
   "source": [
    "knc_params = {'n_neighbors':[2, 4, 8, 16]}\n",
    "knc_grid = GridSearchCV(KNeighborsClassifier(), param_grid=knc_params, cv=5).fit(X_train, y_train)\n",
    "print('Best GridSearchCV params:', knc_grid.best_params_)\n",
    "print('Training set average cv score w/best parameters:', knc_grid.best_score_)\n",
    "print('Test set score w/best parameters:', knc_grid.score(X_test, y_test))"
   ]
  },
  {
   "cell_type": "markdown",
   "metadata": {
    "collapsed": true
   },
   "source": [
    "It looks like Decision Tree is doing the best -- even better than Random Forest. Interesting! 90% subset accuracy on the test set is quite remarkable. Let's try some unsupervised techniques."
   ]
  },
  {
   "cell_type": "code",
   "execution_count": null,
   "metadata": {
    "collapsed": true
   },
   "outputs": [],
   "source": []
  },
  {
   "cell_type": "markdown",
   "metadata": {},
   "source": [
    "## Unsupervised BoW Model\n",
    "\n",
    "What if we try out some unsupervised models? The overlapping outcomes may cause some issues around the borders, but let's see what happens."
   ]
  },
  {
   "cell_type": "code",
   "execution_count": 66,
   "metadata": {
    "ExecuteTime": {
     "end_time": "2018-02-27T18:13:04.292641Z",
     "start_time": "2018-02-27T18:13:04.167188Z"
    }
   },
   "outputs": [],
   "source": [
    "from sklearn.cluster import KMeans, MeanShift, SpectralClustering, AffinityPropagation\n",
    "from sklearn.decomposition import TruncatedSVD, PCA"
   ]
  },
  {
   "cell_type": "code",
   "execution_count": 82,
   "metadata": {
    "ExecuteTime": {
     "end_time": "2018-02-27T18:36:21.732915Z",
     "start_time": "2018-02-27T18:36:19.738136Z"
    }
   },
   "outputs": [],
   "source": [
    "# Run KMeans and grab the labels for training and test sets.\n",
    "n_clusters=10\n",
    "km = KMeans(n_clusters=n_clusters).fit(X_train)\n",
    "km_labels_train = km.labels_\n",
    "km_labels_test = km.predict(X_test)"
   ]
  },
  {
   "cell_type": "code",
   "execution_count": 127,
   "metadata": {
    "ExecuteTime": {
     "end_time": "2018-02-27T19:10:30.772409Z",
     "start_time": "2018-02-27T19:10:30.761162Z"
    }
   },
   "outputs": [],
   "source": [
    "# Now let's see which categories are most common for each cluster.\n",
    "def label_clusters(model_clusters, true_labels):\n",
    "    clust_dict = {}\n",
    "    # Set up each cluster in a dictionary\n",
    "    for label in set(model_clusters):\n",
    "        clust_dict[label]=[]\n",
    "    # Cycle through each example and append all the words.\n",
    "    for i in range(len(model_clusters)):\n",
    "        clust_dict[list(model_clusters)[i]].append(list(true_labels)[i])\n",
    "    # Make each cluster a list of strings rather than a list of lists\n",
    "    for key in clust_dict.keys():\n",
    "        clust_dict[key]=[x[0] for x in clust_dict[key]]\n",
    "    return clust_dict"
   ]
  },
  {
   "cell_type": "code",
   "execution_count": 128,
   "metadata": {
    "ExecuteTime": {
     "end_time": "2018-02-27T19:10:31.655107Z",
     "start_time": "2018-02-27T19:10:31.585314Z"
    }
   },
   "outputs": [
    {
     "name": "stdout",
     "output_type": "stream",
     "text": [
      "['yen', 'yen', 'yen', 'yen', 'yen', 'nzdlr', 'nzdlr', 'yen', 'yen', 'yen', 'gold', 'yen', 'yen', 'yen', 'yen', 'yen', 'yen', 'gold', 'yen', 'yen', 'yen']\n"
     ]
    }
   ],
   "source": [
    "clust_dict = label_clusters(km_labels_train, y_labels_train)\n",
    "print(clust_dict[1])"
   ]
  },
  {
   "cell_type": "markdown",
   "metadata": {
    "ExecuteTime": {
     "end_time": "2018-02-27T18:51:21.207323Z",
     "start_time": "2018-02-27T18:51:21.193077Z"
    }
   },
   "source": [
    "It worked! Kind of. Now we need a way to look at the results. Let's see how many of the labels are the most common for each cluster, and how many are others."
   ]
  },
  {
   "cell_type": "code",
   "execution_count": 124,
   "metadata": {
    "ExecuteTime": {
     "end_time": "2018-02-27T19:07:55.187863Z",
     "start_time": "2018-02-27T19:07:55.179862Z"
    }
   },
   "outputs": [
    {
     "name": "stdout",
     "output_type": "stream",
     "text": [
      "[['yen'], ['yen'], ['yen'], ['yen'], ['yen'], ['nzdlr'], ['nzdlr'], ['yen'], ['yen'], ['yen'], ['gold'], ['yen'], ['yen'], ['yen'], ['yen'], ['yen'], ['yen'], ['gold'], ['yen'], ['yen'], ['yen']]\n"
     ]
    },
    {
     "data": {
      "text/plain": [
       "{'gold', 'nzdlr', 'yen'}"
      ]
     },
     "execution_count": 124,
     "metadata": {},
     "output_type": "execute_result"
    }
   ],
   "source": [
    "test = clust_dict[1]\n",
    "print(test)\n",
    "set([x[0] for x in test])"
   ]
  },
  {
   "cell_type": "code",
   "execution_count": null,
   "metadata": {
    "ExecuteTime": {
     "end_time": "2018-02-27T18:48:58.319236Z",
     "start_time": "2018-02-27T18:48:58.307496Z"
    }
   },
   "outputs": [],
   "source": [
    "def find_common(labels):\n",
    "    "
   ]
  },
  {
   "cell_type": "markdown",
   "metadata": {},
   "source": [
    "# Tfidf"
   ]
  },
  {
   "cell_type": "code",
   "execution_count": 129,
   "metadata": {
    "ExecuteTime": {
     "end_time": "2018-02-27T19:12:07.352529Z",
     "start_time": "2018-02-27T19:12:07.334502Z"
    },
    "collapsed": true
   },
   "outputs": [],
   "source": [
    "from sklearn.feature_extraction.text import TfidfVectorizer\n",
    "from sklearn.pipeline import make_pipeline\n",
    "from sklearn.preprocessing import Normalizer"
   ]
  },
  {
   "cell_type": "code",
   "execution_count": 130,
   "metadata": {
    "ExecuteTime": {
     "end_time": "2018-02-27T19:12:08.672971Z",
     "start_time": "2018-02-27T19:12:07.795847Z"
    }
   },
   "outputs": [
    {
     "name": "stdout",
     "output_type": "stream",
     "text": [
      "Number of Articles and Features: (962, 3065)\n"
     ]
    }
   ],
   "source": [
    "# Create the model, fit, and transform the original articles. Each article is one row.\n",
    "\n",
    "vectorizer = TfidfVectorizer(max_df=0.5,\n",
    "                             min_df=7,\n",
    "                             stop_words='english',\n",
    "                             lowercase=True,\n",
    "                             ngram_range=(1,2),\n",
    "                             use_idf=True,\n",
    "                             norm=u'l2',\n",
    "                             smooth_idf=True)\n",
    "\n",
    "articles_tfidf = vectorizer.fit_transform(articles)\n",
    "print('Number of Articles and Features:', articles_tfidf.get_shape())"
   ]
  },
  {
   "cell_type": "code",
   "execution_count": 131,
   "metadata": {
    "ExecuteTime": {
     "end_time": "2018-02-27T19:12:12.196596Z",
     "start_time": "2018-02-27T19:12:09.098844Z"
    }
   },
   "outputs": [
    {
     "name": "stdout",
     "output_type": "stream",
     "text": [
      "Original Article:\n",
      " talking point/gold the price of gold bullion and share prices of north american gold stocks are benefiting from continued weakness in the u.s. dollar, analysts said. \"there's been a tug of war between the (currency) speculators and the central banks over the u.s. dollar and it looks like the game ha ...\n",
      "\n",
      "\n",
      "Tfidf Vector:\n",
      " {'stock exchange': 0.068583855995053553, 'gained': 0.20575156798516064, 'lake': 0.064812098307609908, 'losing': 0.06594094959192659, 'funds': 0.05660248117540008, 'peak': 0.068583855995053553, 'break': 0.059656202422883192, 'talking': 0.067188836792021964, 'richard': 0.054176901492191426, 'implications': 0.067188836792021964, 'investors': 0.11430692605506962, 'points': 0.055571920695223022, 'uncertainty': 0.13188189918385318, 'gold silver': 0.058979219659812149, 'narrow': 0.063781537827432844, 'ratio': 0.061955781195155518, 'dlrs ounce': 0.12566702816984443, 'gold bullion': 0.067188836792021964, 'war': 0.13716771199010711, 'weakness': 0.068583855995053553, 'bullion': 0.12756307565486569, 'lows': 0.061138631424305881, 'run': 0.055571920695223022, 'precious metals': 0.068583855995053553, 'analyst': 0.1179584393196243, 'precious': 0.063781537827432844, 'looks': 0.06594094959192659, 'way': 0.04812669612447535, 'silver': 0.10025846353744251, 'ounce': 0.095223319185137212, 'december 31': 0.063781537827432844, '61': 0.06594094959192659, '425': 0.06594094959192659, 'john': 0.067188836792021964, 'minerals': 0.061138631424305881, 'holding': 0.056075995658624783, 'average price': 0.067188836792021964, '51': 0.05660248117540008, 'federal reserve': 0.068583855995053553, 'dlrs year': 0.067188836792021964, 'inflation': 0.055088426056589805, 'michael': 0.067188836792021964, 'canadian': 0.052540652485600241, 'remained': 0.057731332459716768, 'future': 0.046414279820502578, 'inflationary': 0.06594094959192659, 'reserve': 0.054623896952712393, 'federal': 0.058338848900931078, 'like': 0.052929014292096073, 'point': 0.052164621730633902, 'gold price': 0.061138631424305881, 'analysts said': 0.053330543386133987, 'decline': 0.049521715327506946, 'securities': 0.06594094959192659, 'analysts': 0.14517859212957077, 'japanese': 0.0473623035630132, 'banks': 0.10749232812589139, 'increased': 0.089438794319772488, 'money': 0.10924779390542479, 'current level': 0.13716771199010711, 'canada': 0.097887691790649975, 'risen': 0.061138631424305881, 'concern': 0.054176901492191426, 'sign': 0.058979219659812149, '90': 0.046644267123052661, 'excess': 0.062833514084922215, '31': 0.088283055455408571, 'possible': 0.044331035353390412, 'traditional': 0.058979219659812149, 'foreign': 0.040594061755336586, 'said adding': 0.057731332459716768, 'adding': 0.053330543386133987, 'lot': 0.058338848900931078, 'companies': 0.050129231768721257, 'causing': 0.061138631424305881, 'metals': 0.058979219659812149, 'red': 0.055088426056589805, 'means': 0.054623896952712393, 'noted': 0.18847235705219065, 'continued': 0.04812669612447535, '41': 0.053746164062945696, '43': 0.053746164062945696, 'level': 0.079572410041209088, 'rate': 0.042725638080639367, 'cash': 0.05076960252760232, 'metal': 0.054623896952712393, 'average': 0.080366493821960872, 'far': 0.045536546930735874, 'dealers said': 0.053330543386133987, 'close': 0.046188673495965907, 'dollar': 0.21038245378379644, 'dealers': 0.048392864043190258, 'yen': 0.043412437648188078, 'dollars': 0.057731332459716768, 'small': 0.04812669612447535, 'current': 0.066804689041344095, 'pressure': 0.051800163007779378, 'stocks': 0.16019766109278955, 'stock': 0.039276708233384479, 'drop': 0.047866378526414968, 'buying': 0.082922161927507634, 'north': 0.052164621730633902, 'currency': 0.042893640527608912, 'today': 0.1351527033354043, 'mines': 0.052164621730633902, 'annual': 0.045749957640063302, 'lt': 0.12718985294318558, 'gold': 0.42894464959457113, 'mining': 0.047118089263047662, 'december': 0.045120926253924158, 'say': 0.041312098195297117, 'american': 0.046878808924379983, 'development': 0.045536546930735874, 'months': 0.039917078992265535, 'added': 0.03370999750430162, 'exchange': 0.03952871718576971, 'central': 0.086473936316927097, '500': 0.037979056363756078, '1986': 0.028007704235824965, 'markets': 0.043955004598424087, 'world': 0.033402344520672048, 'share': 0.049821578785091698, 'market': 0.028250915531689114, 'recent': 0.038551340333007715, 'despite': 0.045749957640063302, 'dlrs': 0.17069487398353975, '450': 0.054176901492191426, 'expects': 0.05044508979176747, 'rising': 0.053330543386133987, 'price': 0.1559621266407448, 'sees': 0.10220651531963747, '26': 0.048943845895324987, '18': 0.042893640527608912, 'including': 0.043771373417375616, 'prices': 0.058129110913857515, 'pct': 0.10886504133096825, 'rose': 0.090241852507848316, 'year': 0.047127656080284769}\n",
      "\n",
      "\n",
      "Original Categories:\n",
      " ['gold', 'money-fx']\n"
     ]
    }
   ],
   "source": [
    "# Split original articles, file ids, and Tfidf results into train and test.\n",
    "X_train, X_test = train_test_split(articles, test_size=0.25, random_state=50)\n",
    "fileids_train, fileids_test = train_test_split(fileids, test_size=0.25, random_state=50)\n",
    "X_tfidf_train, X_tfidf_test = train_test_split(articles_tfidf, test_size=0.25, random_state=50)\n",
    "\n",
    "# Make a version we can read.\n",
    "X_tfidf_train_csr = X_tfidf_train.tocsr()\n",
    "\n",
    "# Number of training articles\n",
    "n = X_tfidf_train.get_shape()[0]\n",
    "\n",
    "# A list of dictionaries, one per paragraph\n",
    "tfidf_byarticle = [{} for _ in range(0,n)]\n",
    "\n",
    "# List of features\n",
    "terms = vectorizer.get_feature_names()\n",
    "\n",
    "# For each paragraph, lists the feature words and their tf-idf scores\n",
    "for i, j in zip(*X_tfidf_train_csr.nonzero()):\n",
    "    tfidf_byarticle[i][terms[j]] = X_tfidf_train_csr[i, j]\n",
    "    \n",
    "print('Original Article:\\n', X_train[5][:300], '...')\n",
    "print('\\n\\nTfidf Vector:\\n', tfidf_byarticle[5])\n",
    "print('\\n\\nOriginal Categories:\\n', reuters.categories(fileids_train[5]))"
   ]
  },
  {
   "cell_type": "code",
   "execution_count": 132,
   "metadata": {
    "ExecuteTime": {
     "end_time": "2018-02-27T19:12:12.562273Z",
     "start_time": "2018-02-27T19:12:12.200503Z"
    }
   },
   "outputs": [
    {
     "name": "stdout",
     "output_type": "stream",
     "text": [
      "Variance explained with 100 components: 0.515141872092\n"
     ]
    }
   ],
   "source": [
    "# Build and fit our decomposition model. \n",
    "#We can alter the number of components until we're happy with our explained variance.\n",
    "n_components = 100\n",
    "svd = TruncatedSVD(n_components)\n",
    "lsa = make_pipeline(svd, Normalizer(copy=False))\n",
    "\n",
    "X_train_lsa = lsa.fit_transform(X_tfidf_train)\n",
    "\n",
    "print('Variance explained with {} components:'.format(n_components), svd.explained_variance_ratio_.sum())"
   ]
  },
  {
   "cell_type": "code",
   "execution_count": 133,
   "metadata": {
    "ExecuteTime": {
     "end_time": "2018-02-27T19:12:12.596578Z",
     "start_time": "2018-02-27T19:12:12.568975Z"
    }
   },
   "outputs": [
    {
     "name": "stdout",
     "output_type": "stream",
     "text": [
      "Component 0:\n",
      "ec driving to capture brazil wheat market - usda the european community, ec, sold 75,000 tonnes of soft wheat at a subsidized price of between 85 and 89 dlrs per tonne fob for march delivery in a continuing bid to establish itself in the brazilian wheat market, the u.s. agriculture department said. the sale sharply undercut the u.s. offer of 112 dlrs per tonne fob for 33,000 tonnes of wheat, it said in its latest report on export markets for u.s grains. ec sales to brazil total about 225,000 tonnes during 1986/87 (july-june) in stark contrast to only 50,000 tonnes in the 1985/86 season, it said. the increasing presence of ec wheat in brazil comes at a time when the brazilian wheat board, bwb, expects the wheat import market will expand to 3.4 mln tonnes from the current forecast of 3.0 mln in the 1986/87 year. the bwb cites record consumption and an eventual decline in domestic production, and says government plans to lower the guaranteed price of wheat from 242 dlrs per tonne to 180 dlrs will contribute to greater import demand, the usda said. it said the bwb expects the u.s. to be major supplier of the additional 400,000 tonnes, but commitments for purchase of u.s. wheat through two-thirds of 1986/87 year total only 600,000 tonnes versus 700,000 a year ago.                                                                                                                                                                                                                                                                                                                                                                                                                                                                                                                                                                                                                                                                                                                                                                                                                                                                                                                                                                                                                                                                                                                                                                                                                                                                                                                                                                                                                                                                                                                                                                                                                                                                                                                                                                                                                                                               0.679266\n",
      "ec wheat release unlikely to satisfy u.k. demand the european commission's decision to release an additional 300,000 tonnes of british intervention feed wheat for the home market will provide only moderate relief in an increasingly tight market, traders said. some operators had been anticipating a larger tonnage, pointing out that at this week's u.k. intervention tender the market sought to buy 340,000 tonnes but only 126,000 tonnes were granted. the new tranche of intervention grain is unlikely to satisfy demand, they said, and keen buying competition for supplies in stores is expected to keep prices firm. the release of the feed wheat followed recent strong representations by the u.k. grain trade to the commission. there has been growing concern that rising internal prices, triggered by heavy exports, were creating areas of shortage in interior markets. the latest ec authorisation will add 70,000 tonnes at the april 14 tender and a further 30,000 tonnes later in the month. the remaining 200,000 tonnes will be made available in may and june. news of the release produced an early downward reaction in local physical markets, but by midday some sections had halved early two stg losses while others were unchanged. ministry of agriculture figures for march indicate 1.85 mln tonnes of wheat and 1.74 mln tonnes of barley remain in the free market. however, some traders believe these figures are overstated and, while some may still be held on the farm, the bulk of wheat is already sold. some of the grain is also off the market in futures stores. a total of 2.10 mln tonnes of intervention wheat has been sold for export or to the home market since the season started july 1, leaving an unsold balance in intervention of about 1.59 mln tonnes. intervention barley sales have reached just over 1.0 mln tonnes, leaving about 753,000 tonnes, traders said. this season's u.k. export performance has surpassed all early expectations and has created the present nervous situation in domestic markets where the fear now is free market supplies may not last out until new crop becomes available in august. the market is sticking to its recent prediction of total barley and wheat exports of around 10.5 mln tonnes, a new record and nearly double the previous record of 5.9 mln tonnes achieved in the 1984/85 season. traders expect u.k. wheat exports to reach 6.0 mln and barley around 4.50 mln tonnes. the soviet union has booked a record total of 2.5 mln tonnes of british wheat and barley this season, but only 1.28 mln had surfaced in customs export figures by march 25, traders said. other ec countries have bought large amounts of british grain and for the july 1/march 25 period had taken 2.59 mln tonnes of wheat and 2.06 mln tonnes of barley. this compares with 1.28 mln and 868,700 tonnes last season. the market is expecting prices, particularly wheat, to stay buoyant for the remaining few months of the season. if supplies become more difficult and prices strengthen further, feed compounders may increase cereal substitute usage, traders said.    0.644276\n",
      "recent sugar fall sparks soviet, chinese buying the recent fall in world sugar prices, due to increased producer pricing sales and evidence of export availability, has encouraged renewed buying interest from china and the soviet union, london trade house e.d.and f. man said. further purchases are expected by the peoples republic of china at the lower end of the recent price range, which should limit the downside movement, it said in its latest monthly market report. \"and it is believed that the soviet union will need to return to the market to take a further 250,000/350,000 tonnes for may/june shipment, man added. the soviets purchased five cargoes of raws for april/may shipment towards the end of last month, which brings its total purchases to around 1.65 mln tonnes, man said. production estimates for the thai crop now exceed 2.3 mln tonnes and the final outturn appears set to reach around 2.5 mln tonnes. however, this upturn in the thai crop is being countered by a reduction in china's production forecast to 5.3 mln tonnes from 5.5 mln estimated earlier. market participation by cuba suggests that its crop could be close to last year's 7.3 mln tonnes. but even with similar production man expects cuban exports to be significantly down. cuba was reported to be carrying 1.3 mln tonnes of stocks in september 1985, of which some 440,000 tonnes were used to boost its 1985/86 exports to about 6.9 mln. but as it will not be able to draw on surplus stocks this year, man estimates cuba's export availabilty will be reduced to 6.4 to 6.5 mln tonnes. however, cuba is only one of a large number of exporters with reduced availability, man said. since 1980 the total free market export supply has fallen to 18 mln from about 22 mln tonnes. but at the same time free market demand has also fallen by almost the same amount, which has left exporters chasing falling import requirements. a fairly tight balance now appears to have emerged. but the difficult task of keeping production advances at bay still remains, as at least one more season of production deficit is needed to eliminate some of the remaining surplus stocks still overhanging the market, man said. the increasing cases of record production as a result of record yields and better husbandry have forced sugar producers to strive for greater efficiency. as this increase in efficiency reduces the marginal cost of production, sugar exporters may become more responsive to prices and in particular to upward price movements, man said. commenting on the current row between the ec commission and sugar producers, man said despite the recent improvement in the level of restitutions, they are still insufficient to fully compensate producers when exporting on the world market. unless there are further improvements, at least some sugar is expected to remain in intervention, it added.                                                                                                                                                                                                                    0.637431\n",
      "cuba sugar crop seen at least same as last year cuban sugar export figures for january suggest that this year's crop may be at least as large as last year's 7.35 mln tonnes, according to sugar analysts. exports in january totalled 733,000 tonnes raw value, up from 725,000 a year earlier, according to figures received by the international sugar organization. january is the first major export month and the figures thus give a good indication of the current crop, they said. fourth quarter exports fell to 622,000 tonnes from 909,000 tonnes a year earlier, but this was because cuba was destocking at the end of 1985, they added. trade house c czarnikow recently estimated production this year at 7.50 mln tonnes. cuban sugar production in the third quarter of 1986 was 12,000 tonnes, giving a final 1985/86 crop total of 7.35 mln tonnes, compared with a 1984/85 crop of 8.10 mln tonnes. there is normally no third quarter production in cuba, but a hurricane meant that last year's crop was extended. exports to the ussr were substantially down in january at 362,000 tonnes from 489,000 in january 1986, but other comecon countries received 210,000 tonnes, against 80,000 tonnes in the same month last year, figures received by the iso show. bulgaria, czechoslovakia, poland and romania all took substantially more cuban sugar. cuba's november 1986 exports totalled 158,000 tonnes, compared with 190,000 tonnes in 1985, and december's total was 237,000 tonnes, down from 518,000 tonnes the year before. calendar year exports for 1986 were also lower at 6.69 mln tonnes against 7.21 mln in 1985 -- the lowest level since 1980's 6.19 mln tonnes, the figures show.                                                                                                                                                                                                                                                                                                                                                                                                                                                                                                                                                                                                                                                                                                                                                                                                                                                                                                                                                                                                                                                                                                                                                                                                                                                                                                                                                                                                                                                                0.618657\n",
      "Name: 0, dtype: float64\n",
      "Component 1:\n",
      "cocoa latest focus for commodity pact negotiators the credibility of government efforts to stabilise fluctuating commodity prices will again be put to the test over the next two weeks as countries try to agree on how a buffer stock should operate in the cocoa market, government delegates and trade experts said. only two weeks ago, world coffee prices slumped when international coffee organization members failed to agree on how coffee export quotas should be calculated. this week, many of the same experts gather in the same building here to try to agree on how the cocoa pact reached last summer should work. the still unresolved legal wrangle surrounding the international tin council (itc), which had buffer stock losses running into hundreds of millions of sterling, is also casting a shadow over commodity negotiations. the itc's failure has restricted negotiators' ability to compromise as governments do not want to be involved in pacts with built-in flaws or unlimited liability, but want clear lines drawn between aid and trade. a more hopeful sign of cooperation was agreement on basic elements of a new international natural rubber agreement in geneva at the weekend. some importing countries insist the international cocoa organization (icco) buffer stock rules must not be muddied with quota type subclauses which might dictate the type of cocoa to be bought. one consumer country delegate said this would \"distort, not support\" the market. trade and industry sources blame uncertainty about the icco for destabilising the market as the recent collapse in coffee prices has made traders acutely aware that commodity pacts can founder. on friday this uncertainty helped push london cocoa futures down to eight month lows. the strength of sterling has also contributed to the recent slip in prices. the icco daily and average prices on friday fell below the \"must buy\" level of 1,600 sdrs a tonne designated in the pact, which came into force at the last icco session in january but without rules for the operation of the buffer stock. consumers and producers could not agree on how it should operate and what discretion it should be given. the agreement limits it to trading physical cocoa and expressly says it cannot operate on futures markets. a cash balance of some 250 mln dlrs and a stock of almost 100,000 tonnes of cocoa, enough to mount large buying or selling operations, were carried forward from the previous agreement. members finance the stock through a 45 dlrs a tonne levy on all cocoa they trade. it has an upper limit of 250,000 tonnes. the key arguments being faced by the icco working group on buffer stock rules which is meeting today and tomorrow will be over non-member cocoa and differentials the buffer stock should pay when trading different types of cocoa. another working group is scheduled to meet wednesday to discuss administrative matters, and the full council meets on thursday. producers have so far maintained that buffer stock funds should not help mop up surplus cocoa produced in non-member countries such as malaysia. consumers say when this cocoa is the cheapest the buffer stock should buy it rather than compete with chocolate manufacturers for premium-priced high quality cocoas. the argument over buying non-member cocoa is closely linked to the one over differentials for different qualities. european industry and trade advisers have suggested as a compromise that the buffer stock have a maximum share that can represent non-member cocoa and that it use the london futures market's existing differentials for different qualities. currently, good west african cocoa is tendered at par onto the london market. discounts, which are currently under review, range up to 50 stg a tonne for brazilian and malaysian cocoa. consumer delegates said the same arguments in reverse would operate when prices are high - the buffer stock should sell the highest priced cocoa in most demand, forcing all prices lower. the january talks were slowed by a split inside the european community, a key icco consumer group, with france siding with producers. ec representatives met in closed session in brussels on friday in an attempt to reach a common ground and, a diplomatic source said, narrowed the range of positions among the 12 nations. the source said the ec will be looking for signs of flexibility on the part of producers in the next few days and will be able to respond if they are there. one icco delegate describing the producer/consumer split said consumer proposals mean buying more cocoa for less and backs the concept of the pact which is \"meant to support the market where trade buying is not.\" in contrast, he said, producers seem to want to sell their cocoa to the buffer stock rather than consumers. other, more technical, issues still outstanding include whether the buffer stock should buy at a single announced \"posted price\" as in the previous pact or by announcing it is buying then accepting offers. in either case, delegates said, it is accepted that producers must be given a clear opportunity to make offers of cocoa for forward shipment directly to the buffer stock in a way that is competitive with spot offers made by dealers.    0.657370\n",
      "cocoa delegates optimistic on buffer stock rules hopes mounted for an agreement on cocoa buffer stock rules at an international cocoa organization, icco, council meeting which opened here today, delegates said. both producer and consumer icco members said after the opening session that prospects for an agreement on the cocoa market support mechanism were improving. \"the chances are very good as of now of getting buffer stock rules by the end of next week,\" ghanaian delegate and producer spokesman mama mohammed told journalists. consumer spokesman peter baron called the tone of the negotiations \"optimistic and realistic.\" the icco council failed to agree on buffer stock rules when a new international cocoa agreement came into force in january, with deep differences of opinion precluding serious discussions on the matter at that time. the existing buffer stock of about 100,000 tonnes of cocoa was frozen, with a funds balance of 250 mln dlrs. the icco made buffer stock rules negotiations a priority at this semi-annual council meeting in order to stop the slide in world cocoa prices. consumers and producers agreed yesterday on the principles as a basis for negotiations. the council broke for lunch, and reconvenes at 1500 hrs. a working group which has been meeting since monday will tackle the buffer stock rules issue again at 1600 hrs, when icco executive director kobena erbynn presents a fleshed-out version of a draft proposal he prepared earlier this week, delegates said. mohammed said delegates will have a much clearer indication of prospects for an accord after details of the rules are elaborated by erbynn, and after producers and consumers meet separately later today to examine the scheme. the draft proposal included three principles: a limit to non- member cocoa comprising the buffer stock, an offer system for buying buffer stock cocoa, and price differentials to be paid for various cocoas making up the buffer stock, delegates said. during the morning council session, the ivory coast delegation gave \"an open minded statement\" that it is willing to work out a buffer stock rules solution which could come into effect as soon as possible, baron said. ivorian agriculture minister denis bra kanon, chairman of the icco council, was now expected to arrive in london monday to attend the talks, baron said. vice chairman sir denis henry of grenada chaired the meeting in his place. soviet and east german delegates did not attend the council session because of a conflicting international sugar organization meeting today, but could arrive this afternoon, delegates said.                                                                                                                                                                                                                                                                                                                                                                                                                                                                                                                                                                                                                                                                                                                                                                                                                                                                                                                                                                                                                                                                                                                                                                                                                                                                                                                                                                                                                                                                                                                                                                                                                                                                                                                                                                                                                                                                                                                                                                                                                                                                                                                                                                                                                                                                                                                                                                                                                                                                                                                                                                                                                                                                                                          0.630749\n",
      "cocoa council head to present buffer compromise international cocoa organization, icco, council chairman denis bra kanon will present a compromise proposal on buffer stock rules to producer and consumer delegates either later today or tomorrow morning, delegates said. bra kanon held private bilateral consultations with major producers and consumers this morning to resolve outstanding differences, mostly on the issues of how much non-member cocoa the buffer stock can purchase and price differentials for different varieties. delegates were fairly confident the differences could be worked out in time to reach agreement tomorrow. some consuming member nations, including britain and belgium, favour the buffer stock buying more than 10 pct non-member cocoa, delegates have said. the consumers argue that buying cheaper, lower quality non-member cocoas, particularly malaysian, will most effectively support prices because that low quality cocoa is currently pressuring the market. producers, meanwhile, say non-member cocoa should make up at most a very small percentage of the buffer. they say malaysia should not be able to benefit from the icco unless it is a member, and if the buffer stock bought malaysian cocoa malaysia would have no incentive to join, delegates said. as to differentials, ghana apparently wanted a higher differential for its cocoa than is outlined in the most recent proposal, so it would have a better chance of having its cocoa bought for the buffer stock, producer delegates said. some consumers wanted differentials to be adjusted in a way that would not promote buffer stock purchases of the more expensive cocoas, such as ghanaian and brazilian, they said. other technical points need to be sorted out, including limits on how much cocoa the buffer stock manager can buy in nearby, intermediate and forward positions and the consequent effect on prices in the various deliveries, delegates said.                                                                                                                                                                                                                                                                                                                                                                                                                                                                                                                                                                                                                                                                                                                                                                                                                                                                                                                                                                                                                                                                                                                                                                                                                                                                                                                                                                                                                                                                                                                                                                                                                                                                                                                                                                                                                                                                                                                                                                                                                                                                                                                                                                                                                                                                                                                                                                                                                                                                                                                                                                                                                                                                                                                                                                                                                                                                                                                                                                                                                                                                                                                                                                                                                                                                                                                                                                                                           0.624951\n",
      "cocoa talks slow at crucial stage - delegates international cocoa organization (icco) talks on buffer stock rules have slowed during a crucial phase of negotiations, delegates said, but they remained confident about prospects for reaching agreement by friday. cocoa producers, european community (ec) consumers and all consumers separately reviewed technical details of a buffer stock rules package distributed yesterday. the buffer stock working group of consumers and producers was set to meet later today to debate the proposal jointly for the first time, they said. delegates said major sticking points were likely to be the amount of non-member cocoa allowed to be bought for the buffer stock, and the fixed price differentials at which different origin cocoas will be offered to the buffer stock manager. producers would prefer that non-member cocoa not be included in the buffer stock because, if it is, countries such as malaysia benefit from the cocoa agreement without joining it, the delegates said.                                                                                                                                                                                                                                                                                                                                                                                                                                                                                                                                                                                                                                                                                                                                                                                                                                                                                                                                                                                                                                                                                                                                                                                                                                                                                                                                                                                                                                                                                                                                                                                                                                                                                                                                                                                                                                                                                                                                                                                                                                                                                                                                                                                                                                                                                                                                                                                                                                                                                                                                                                                                                                                                                                                                                                                                                                                                                                                                                                                                                                                                                                                                                                                                                                                                                                                                                                                                                                                                                                                                                                                                                                                                                                                                                                                                                                                                                                                                                                                                                                                                                                                                                                                                                                                                                                                                                                    0.619634\n",
      "Name: 1, dtype: float64\n"
     ]
    }
   ],
   "source": [
    "# Make a Dataframe with articles as indices and components as features\n",
    "articles_by_component=pd.DataFrame(X_train_lsa,index=X_train)\n",
    "articles_by_component.shape\n",
    "\n",
    "# Show the highest values for a few components, along with their articles\n",
    "for i in range(2):\n",
    "    print('Component {}:'.format(i))\n",
    "    print(articles_by_component.loc[:,i].sort_values(ascending=False)[0:4])"
   ]
  },
  {
   "cell_type": "markdown",
   "metadata": {},
   "source": [
    "That's cool, but it would be easier to see how we're doing if we looked at the 'Category' labels provided rather than the full text."
   ]
  },
  {
   "cell_type": "code",
   "execution_count": 134,
   "metadata": {
    "ExecuteTime": {
     "end_time": "2018-02-27T19:12:12.927767Z",
     "start_time": "2018-02-27T19:12:12.623115Z"
    }
   },
   "outputs": [
    {
     "name": "stdout",
     "output_type": "stream",
     "text": [
      "Component 0:\n",
      "['grain', 'wheat']                                                                  0.679266\n",
      "['grain', 'wheat']                                                                  0.644276\n",
      "['sugar']                                                                           0.637431\n",
      "['sugar']                                                                           0.618657\n",
      "['grain', 'wheat']                                                                  0.610400\n",
      "['corn', 'grain', 'wheat']                                                          0.595769\n",
      "['corn', 'grain', 'oilseed', 'palm-oil', 'rapeseed', 'ship', 'soy-oil', 'wheat']    0.589662\n",
      "['sugar']                                                                           0.572055\n",
      "Name: 0, dtype: float64\n",
      "Component 1:\n",
      "['cocoa']     0.657370\n",
      "['cocoa']     0.630749\n",
      "['cocoa']     0.624951\n",
      "['cocoa']     0.619634\n",
      "['coffee']    0.612899\n",
      "['cocoa']     0.607288\n",
      "['cocoa']     0.604366\n",
      "['coffee']    0.602723\n",
      "Name: 1, dtype: float64\n",
      "Component 2:\n",
      "['gold', 'silver']    0.680012\n",
      "['gold', 'silver']    0.675665\n",
      "['gold']              0.635115\n",
      "['gold']              0.634388\n",
      "['gold']              0.622423\n",
      "['gold']              0.610886\n",
      "['gold', 'silver']    0.600593\n",
      "['gold']              0.596864\n",
      "Name: 2, dtype: float64\n",
      "Component 3:\n",
      "['cocoa']    0.533036\n",
      "['cocoa']    0.526998\n",
      "['cocoa']    0.524810\n",
      "['cocoa']    0.506372\n",
      "['cocoa']    0.498477\n",
      "['cocoa']    0.495672\n",
      "['cocoa']    0.492529\n",
      "['cocoa']    0.492328\n",
      "Name: 3, dtype: float64\n",
      "Component 4:\n",
      "['sugar']    0.523224\n",
      "['sugar']    0.482733\n",
      "['sugar']    0.460776\n",
      "['sugar']    0.454836\n",
      "['sugar']    0.444812\n",
      "['sugar']    0.438434\n",
      "['sugar']    0.437997\n",
      "['sugar']    0.435617\n",
      "Name: 4, dtype: float64\n",
      "Component 5:\n",
      "['grain', 'wheat']    0.537532\n",
      "['grain', 'wheat']    0.515895\n",
      "['grain', 'wheat']    0.498781\n",
      "['grain', 'wheat']    0.487514\n",
      "['grain', 'wheat']    0.485398\n",
      "['grain', 'wheat']    0.477478\n",
      "['grain', 'wheat']    0.465711\n",
      "['grain', 'wheat']    0.465639\n",
      "Name: 5, dtype: float64\n",
      "Component 6:\n",
      "['dlr', 'money-fx', 'yen']                  0.672545\n",
      "['yen']                                     0.671485\n",
      "['interest', 'money-fx', 'yen']             0.661228\n",
      "['money-fx', 'yen']                         0.632549\n",
      "['dlr', 'money-fx', 'yen']                  0.612619\n",
      "['dlr', 'money-fx', 'yen']                  0.594203\n",
      "['money-fx', 'yen']                         0.580753\n",
      "['bop', 'dlr', 'gnp', 'money-fx', 'yen']    0.580618\n",
      "Name: 6, dtype: float64\n",
      "Component 7:\n",
      "['soy-oil', 'veg-oil']                         0.652987\n",
      "['palm-oil', 'veg-oil']                        0.633648\n",
      "['palm-oil', 'veg-oil']                        0.612685\n",
      "['palm-oil', 'veg-oil']                        0.606316\n",
      "['palm-oil', 'veg-oil']                        0.606100\n",
      "['palm-oil', 'veg-oil']                        0.593811\n",
      "['palm-oil', 'rape-oil', 'ship', 'veg-oil']    0.578035\n",
      "['palm-oil', 'veg-oil']                        0.564705\n",
      "Name: 7, dtype: float64\n"
     ]
    }
   ],
   "source": [
    "# Make a list of the categories for each article\n",
    "categories_train = [reuters.categories(x) for x in fileids_train]\n",
    "\n",
    "# Make a Dataframe with categories as indices and components as features\n",
    "categories_by_component=pd.DataFrame(X_train_lsa,index=[str(x) for x in categories_train])\n",
    "categories_by_component.shape\n",
    "\n",
    "# Show the highest values for a few components, along with their categories\n",
    "for i in range(8):\n",
    "    print('Component {}:'.format(i))\n",
    "    print(categories_by_component.loc[:,i].sort_values(ascending=False)[0:8])"
   ]
  },
  {
   "cell_type": "markdown",
   "metadata": {},
   "source": [
    "This is really cool. Note that we've used the raw text from the articles to sort into components, not the categories themselves -- we're just using the category labels provided to act as a check on how we're doing. Looks like we've got:\n",
    "    - Component 0: grains/sugars (maybe some hidden dependency, like selling or buying?)\n",
    "    - Component 1: cocoa/coffee\n",
    "    - Component 2: gold and silver\n",
    "    - Component 3: cocoa\n",
    "    - Component 4: sugar\n",
    "    - Component 5: wheat\n",
    "    - Component 6: yen\n",
    "    - Component 7: plant oils\n",
    "    "
   ]
  },
  {
   "cell_type": "code",
   "execution_count": 135,
   "metadata": {
    "ExecuteTime": {
     "end_time": "2018-02-27T19:12:23.469066Z",
     "start_time": "2018-02-27T19:12:23.006664Z"
    }
   },
   "outputs": [
    {
     "data": {
      "image/png": "[encoded data removed]",
      "text/plain": [
       "<matplotlib.figure.Figure at 0x1a18e4c6a0>"
      ]
     },
     "metadata": {},
     "output_type": "display_data"
    }
   ],
   "source": [
    "# Let's compute a similarity matrix and see which articles are most similar to each other.\n",
    "similarity = np.asarray(np.asmatrix(X_train_lsa) * np.asmatrix(X_train_lsa).T)\n",
    "sim_mat = pd.DataFrame(similarity).iloc[0:10, 0:10]\n",
    "sim_full = pd.DataFrame(similarity)\n",
    "sns.heatmap(sim_mat, yticklabels=range(sim_mat.shape[1]))\n",
    "plt.show()"
   ]
  },
  {
   "cell_type": "code",
   "execution_count": 136,
   "metadata": {
    "ExecuteTime": {
     "end_time": "2018-02-27T19:12:26.020709Z",
     "start_time": "2018-02-27T19:12:26.015521Z"
    }
   },
   "outputs": [
    {
     "name": "stdout",
     "output_type": "stream",
     "text": [
      "argentina-brazil trade jumped 90 pct in 1986 trade between argentina and brazil jumped 90 pct in 1986 versus 1985, foreign minister dante caputo said. speaking to reporters, caputo said the near doubling in trade showed the \"tangible and immediate results\" of a wide- ranging economic integration accord signed by the presidents of both countries last july. he said trade last year totalled 1.3 billion dlrs versus 700 mln dlrs in 1985. the accord provided for capital goods trade between the two countries to rise to 2.0 billion dlrs over four years. argentine wheat exports to brazil will increase from 1,375,000 tonnes in 1987 to 2.0 mln tonnes in 1991, the accord said. japan denies plans to cut duties on chocolate agriculture ministry officials said they are not considering cuts in import duties on chocolate to help ease friction with the united states over agricultural trade. japan has already lowered the duties sharply and we must consider domestic market conditions, an official said. duties on chocolate were cut to 20 pct from 31.9 pct in april 1983. washington has been demanding a cut to seven pct, equivalent to its own duties, ministry sources said. japanese chocolate imports rose to 8,285 tonnes in calendar 1986 from 5,908 in 1985, official statistics show. however, the ministry sources added it is possible the government may make further cuts in response to strong u.s. and european demand. \"due to concern about the farm trade row with the u.s., top-level government officials may press the ministry to cut the duties,\" one said. but he said it would be difficult for japan to resolve its overall trade row with washington and reduce its trade surplus, which reached 58.6 billion dlrs in 1986. agricultural trade issues between japan and the u.s. include japanese import restrictions on 12 farm products.\n"
     ]
    }
   ],
   "source": [
    "# These two should be fairly similar.\n",
    "print(X_train[0], X_train[3])"
   ]
  },
  {
   "cell_type": "markdown",
   "metadata": {},
   "source": [
    "It looks like the similarities are: they both have to do with trade, they both involve 1985 and 1986, and they both talk about billions of dollars. Let's see what some of the *most* similar pairs are in the matrix."
   ]
  },
  {
   "cell_type": "code",
   "execution_count": 137,
   "metadata": {
    "ExecuteTime": {
     "end_time": "2018-02-27T19:12:28.391180Z",
     "start_time": "2018-02-27T19:12:28.357822Z"
    }
   },
   "outputs": [
    {
     "name": "stdout",
     "output_type": "stream",
     "text": [
      "0    710\n",
      "1    256\n",
      "2    674\n",
      "3    147\n",
      "4    683\n",
      "5    712\n",
      "6    469\n",
      "7    653\n",
      "8    649\n",
      "9    100\n",
      "dtype: int64\n"
     ]
    }
   ],
   "source": [
    "# Remove the 1's from the diagonal and find the remaining max index.\n",
    "print((sim_full - np.identity(len(sim_full))).idxmax()[:10])"
   ]
  },
  {
   "cell_type": "code",
   "execution_count": 138,
   "metadata": {
    "ExecuteTime": {
     "end_time": "2018-02-27T19:12:30.207073Z",
     "start_time": "2018-02-27T19:12:30.199509Z"
    }
   },
   "outputs": [
    {
     "name": "stdout",
     "output_type": "stream",
     "text": [
      "0.752805950329\n",
      "around 3.5 mln acres said to be idled by 0/92 a 0/92 program would have very little impact on u.s. acreage, prompting farmers to idle only an additional 3.5 mln acres of cropland every year, according to a report from the agriculture department. the savings resulting from the additional 3.5 mln acres idled would be a little over 400 mln dlrs in loan savings, 35 mln dlrs in transportation and storage savings, and 10-20 mln dlrs per year in deficiency payment savings, the report said. the usda report asssessed the impacts of the proposed 0/92 acreage program for wheat, corn, cotton, sorghum and barley. last year, almost 245 mln acres of those crops were harvested. \"the likelihood that the 0-92 provisiion will cause very large acreages to be removed from crop production is quite small,\" the report said. \"the returns on typical farms still favor participation in the usual acreage reduction programs and seeding the permitted acreage,\" the usda report said. the 0/92 program, which would allow farmers to forego planting and still receive 92 pct of their deficiency payment, would be most used by producers in high production/high risk areas where cost of production is high, said keith collins, director of usda's economics analysis staff. \"in the heart of the corn belt, you would not get that much participation,\" collins said. usda estimated that an additional one mln acres of wheat would be ildled under 0/92, 1.5 mln acres of corn, 500,000 acres of sorghum and barley and 500,000 acres of cotton. production from these idled acres would be equivalent to 40 mln bushels of wheat, 180 mln bushels of corn, 20 mln bushels of sorghum, 10 mln bushels of barley, and 500,000 bales of cotton, the report said. \"in determining whether to participate, a producer would need to weigh the expected cash costs of production against the loan rate ... the risk that market prices may rise above the expected levels and reduce the deficiency payment also must be considered,\" according to the analysis. \"what you're giving up under 0/92 is the difference between the loan rate and the cost of production,\" collins said. for producers with low production costs, that difference is greater and can be applied to paying variable costs, he said. under these cicumstances, farmers would not want to go along with 0/92. but for high cost producers, 0/92 would be more attractive. also, as loan rates get lower, collins said there would be more incentives to participate in a 0/92 program. \"i would admit that its impacts would be very marginal at first, but it is a step towards the goal of separating production decisions from government payments,\" collins said. in a speech earlier today before the national grains and feed association, usda secretary richard lyng said it is too late to implement 0/92 for 1987 crops since program signup will be over by the end of this month. usda details conservation crop enrollment farmers enrolled over 6.5 mln acres of program crops in the latest conservation reserve program signup and around four mln acres of non-program crops, agriculture department conservation specialists said. soybean acreage amounted to less than two mln acres of the non-program crop acreage enrolled, a usda analyst said. heavy enrollment of non-base acreage in wheat states, of which a big percentage would be fallow and non-soybean land, accounted for a large portion of the non-program acreage, the analyst said. wheat and corn acreage comprised slightly over 40 pct of the total 10,572,402 acres accepted into the ten-year program. usda analysts gave the following enrollment breakdown: -- wheat 2,615,140 acres -- corn 1,894,764 acres -- barley 705,888 acres -- sorghum 585,552 acres -- cotton 417,893 acres -- rice 2,035 acres -- peanuts 611 acres -- tobacco 285 acres -- total program crops 6,512,700 acres -- total nonprogram 4,059,702 acres -- total enrollment 10,572,402 acres usda analysts are currently working on a complete state breakdown of crop acreage enrollment and should have it ready for publication later this week, they said.\n"
     ]
    }
   ],
   "source": [
    "print(sim_full.iloc[1, 256])\n",
    "print(X_train[1], X_train[256])"
   ]
  },
  {
   "cell_type": "code",
   "execution_count": null,
   "metadata": {
    "collapsed": true
   },
   "outputs": [],
   "source": []
  },
  {
   "cell_type": "code",
   "execution_count": null,
   "metadata": {
    "collapsed": true
   },
   "outputs": [],
   "source": []
  },
  {
   "cell_type": "code",
   "execution_count": null,
   "metadata": {
    "collapsed": true
   },
   "outputs": [],
   "source": []
  },
  {
   "cell_type": "code",
   "execution_count": null,
   "metadata": {
    "collapsed": true
   },
   "outputs": [],
   "source": []
  }
 ],
 "metadata": {
  "kernelspec": {
   "display_name": "Python 3",
   "language": "python",
   "name": "python3"
  },
  "language_info": {
   "codemirror_mode": {
    "name": "ipython",
    "version": 3
   },
   "file_extension": ".py",
   "mimetype": "text/x-python",
   "name": "python",
   "nbconvert_exporter": "python",
   "pygments_lexer": "ipython3",
   "version": "3.6.2"
  }
 },
 "nbformat": 4,
 "nbformat_minor": 2
}
