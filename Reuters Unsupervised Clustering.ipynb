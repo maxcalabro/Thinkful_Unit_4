{
 "cells": [
  {
   "cell_type": "markdown",
   "metadata": {},
   "source": [
    "# NLP Capstone"
   ]
  },
  {
   "cell_type": "code",
   "execution_count": 1,
   "metadata": {
    "collapsed": true
   },
   "outputs": [],
   "source": [
    "import numpy as np\n",
    "import pandas as pd\n",
    "import matplotlib.pyplot as plt\n",
    "import seaborn as sns\n",
    "\n",
    "%matplotlib inline\n",
    "sns.set_style('white')"
   ]
  },
  {
   "cell_type": "code",
   "execution_count": 2,
   "metadata": {
    "collapsed": true
   },
   "outputs": [],
   "source": [
    "from nltk.corpus import reuters"
   ]
  },
  {
   "cell_type": "code",
   "execution_count": 3,
   "metadata": {},
   "outputs": [
    {
     "name": "stdout",
     "output_type": "stream",
     "text": [
      "['tin', 'coffee', 'gold', 'yen', 'rubber', 'palm-oil', 'lin-oil', 'rape-oil', 'wheat', 'soy-oil', 'nickel', 'cocoa', 'sugar', 'nzdlr', 'sorghum']\n"
     ]
    }
   ],
   "source": [
    "# We'll choose some categories at random and use those for the rest of our analysis.\n",
    "np.random.seed(3)\n",
    "categories = list(np.random.choice(reuters.categories(), 15, replace=False))\n",
    "print(categories)"
   ]
  },
  {
   "cell_type": "code",
   "execution_count": 4,
   "metadata": {},
   "outputs": [
    {
     "data": {
      "text/plain": [
       "[(30, 'tin'),\n",
       " (139, 'coffee'),\n",
       " (124, 'gold'),\n",
       " (59, 'yen'),\n",
       " (49, 'rubber'),\n",
       " (40, 'palm-oil'),\n",
       " (2, 'lin-oil'),\n",
       " (8, 'rape-oil'),\n",
       " (283, 'wheat'),\n",
       " (25, 'soy-oil'),\n",
       " (9, 'nickel'),\n",
       " (73, 'cocoa'),\n",
       " (162, 'sugar'),\n",
       " (4, 'nzdlr'),\n",
       " (34, 'sorghum')]"
      ]
     },
     "execution_count": 4,
     "metadata": {},
     "output_type": "execute_result"
    }
   ],
   "source": [
    "# Let's check that our categories have relatively the same order of magnitude of articles associated with them.\n",
    "[(len(reuters.fileids(x)), x) for x in categories]"
   ]
  },
  {
   "cell_type": "code",
   "execution_count": 5,
   "metadata": {},
   "outputs": [
    {
     "name": "stdout",
     "output_type": "stream",
     "text": [
      "Number of articles: 962\n",
      "['test/14832', 'test/14833', 'test/14840', 'test/14841', 'test/14842']\n",
      "Number of total words: 227749\n"
     ]
    }
   ],
   "source": [
    "# Let's see how many articles as attached to those categories, the names of a few, and total word count.\n",
    "print('Number of articles:', len(reuters.fileids(categories)))\n",
    "fileids = reuters.fileids(categories)\n",
    "print(fileids[:5])\n",
    "print('Number of total words:', len(reuters.words(fileids)))"
   ]
  },
  {
   "cell_type": "code",
   "execution_count": 6,
   "metadata": {},
   "outputs": [
    {
     "data": {
      "text/plain": [
       "[[311, 'grain'],\n",
       " [283, 'wheat'],\n",
       " [162, 'sugar'],\n",
       " [139, 'coffee'],\n",
       " [124, 'gold'],\n",
       " [104, 'corn'],\n",
       " [73, 'cocoa'],\n",
       " [68, 'oilseed'],\n",
       " [67, 'veg-oil'],\n",
       " [59, 'yen'],\n",
       " [56, 'money-fx'],\n",
       " [51, 'soybean'],\n",
       " [49, 'rubber'],\n",
       " [40, 'palm-oil'],\n",
       " [36, 'dlr']]"
      ]
     },
     "execution_count": 6,
     "metadata": {},
     "output_type": "execute_result"
    }
   ],
   "source": [
    "# We may also be pulling in a lot of other categories in this process because articles can have multiple associations.\n",
    "# Let's see all the categories we're getting.\n",
    "all_cats = reuters.categories(fileids)\n",
    "cat_counts = [[len(set(reuters.fileids(x)).intersection(fileids)), x] for x in all_cats]\n",
    "sorted(cat_counts, reverse=True)[:15]"
   ]
  },
  {
   "cell_type": "markdown",
   "metadata": {},
   "source": [
    "So, we've got a few common categories that we didn't choose explicitly, but which turned out to be popular across the articles that were selected. For instance, 'grain' wasn't in the initial list, but 'wheat' and 'sorghum' are both grains, so it is popular. 'Corn' and 'veg-oil' as well. This should be fine -- it means we may end up clustering by some of these more general categories, since it's unsupervised."
   ]
  },
  {
   "cell_type": "code",
   "execution_count": 7,
   "metadata": {},
   "outputs": [
    {
     "name": "stdout",
     "output_type": "stream",
     "text": [
      "Raw:\n",
      " THAI TRADE DEFICIT WIDENS IN FIRST QUARTER\n",
      "  Thailand's trade deficit widened to 4.5\n",
      "  billion baht in the first quarter of 1987 from 2.1 billion a\n",
      "  year ago, the Business Economics Department said.\n",
      "      It said Janunary/March imports rose to 65.1 billion baht\n",
      "  from 58.7 billion. Thailand's improved business climate this\n",
      "  year resulted in a 27 pct increase in imports of raw materials\n",
      "  and semi-finished products.\n",
      "      The country's oil import bill, however, fell 23 pct in the\n",
      "  first quarter due to lower oil prices.\n",
      "      The department said first quarter exports expanded to 60.6\n",
      "  billion baht from 56.6 billion.\n",
      "      Export growth was smaller than expected due to lower\n",
      "  earnings from many key commodities including rice whose\n",
      "  earnings declined 18 pct, maize 66 pct, sugar 45 pct, tin 26\n",
      "  pct and canned pineapples seven pct.\n",
      "      Products registering high export growth were jewellery up\n",
      "  64 pct, clothing 57 pct and rubber 35 pct.\n",
      "  \n",
      "\n",
      "\n",
      "Words:\n",
      " ['THAI', 'TRADE', 'DEFICIT', 'WIDENS', 'IN', 'FIRST', 'QUARTER', 'Thailand', \"'\", 's', 'trade', 'deficit', 'widened', 'to', '4', '.', '5', 'billion', 'baht', 'in', 'the', 'first', 'quarter', 'of', '1987', 'from', '2', '.', '1', 'billion', 'a', 'year', 'ago', ',', 'the', 'Business', 'Economics', 'Department', 'said', '.', 'It', 'said', 'Janunary', '/', 'March', 'imports', 'rose', 'to', '65', '.', '1', 'billion', 'baht', 'from', '58', '.', '7', 'billion', '.', 'Thailand', \"'\", 's', 'improved', 'business', 'climate', 'this', 'year', 'resulted', 'in', 'a', '27', 'pct', 'increase', 'in', 'imports', 'of', 'raw', 'materials', 'and', 'semi', '-', 'finished', 'products', '.', 'The', 'country', \"'\", 's', 'oil', 'import', 'bill', ',', 'however', ',', 'fell', '23', 'pct', 'in', 'the', 'first', 'quarter', 'due', 'to', 'lower', 'oil', 'prices', '.', 'The', 'department', 'said', 'first', 'quarter', 'exports', 'expanded', 'to', '60', '.', '6', 'billion', 'baht', 'from', '56', '.', '6', 'billion', '.', 'Export', 'growth', 'was', 'smaller', 'than', 'expected', 'due', 'to', 'lower', 'earnings', 'from', 'many', 'key', 'commodities', 'including', 'rice', 'whose', 'earnings', 'declined', '18', 'pct', ',', 'maize', '66', 'pct', ',', 'sugar', '45', 'pct', ',', 'tin', '26', 'pct', 'and', 'canned', 'pineapples', 'seven', 'pct', '.', 'Products', 'registering', 'high', 'export', 'growth', 'were', 'jewellery', 'up', '64', 'pct', ',', 'clothing', '57', 'pct', 'and', 'rubber', '35', 'pct', '.']\n",
      "\n",
      "\n",
      "Categories:\n",
      " ['corn', 'grain', 'rice', 'rubber', 'sugar', 'tin', 'trade']\n"
     ]
    }
   ],
   "source": [
    "# These are the three ways we can look at each file.\n",
    "print('Raw:\\n', reuters.raw('test/14832'))\n",
    "print('Words:\\n', reuters.words('test/14832')[:])\n",
    "print('\\n\\nCategories:\\n', reuters.categories('test/14832'))"
   ]
  },
  {
   "cell_type": "code",
   "execution_count": 8,
   "metadata": {
    "collapsed": true
   },
   "outputs": [],
   "source": [
    "from sklearn.feature_extraction.text import TfidfVectorizer\n",
    "from sklearn.model_selection import train_test_split\n",
    "from sklearn.decomposition import TruncatedSVD\n",
    "from sklearn.pipeline import make_pipeline\n",
    "from sklearn.preprocessing import Normalizer"
   ]
  },
  {
   "cell_type": "code",
   "execution_count": 9,
   "metadata": {},
   "outputs": [
    {
     "data": {
      "text/plain": [
       "'SUBROTO SAYS INDONESIA SUPPORTS TIN PACT EXTENSION\\n  Mines and Energy Minister Subroto\\n  confirmed Indonesian support for an extension of the sixth\\n  International Tin Agreement (ITA), but said a new pact was not\\n  necessary.\\n      Asked by Reuters to clarify his statement on Monday in\\n  which he said the pact should be allowed to lapse, Subroto said\\n  Indonesia was ready to back extension of the ITA.\\n      \"We can support extension of the sixth agreement,\" he said.\\n  \"But a seventh accord we believe to be unnecessary.\"\\n      The sixth ITA will expire at the end of June unless a\\n  two-thirds majority of members vote for an extension.\\n  \\n\\n'"
      ]
     },
     "execution_count": 9,
     "metadata": {},
     "output_type": "execute_result"
    }
   ],
   "source": [
    "# Create a list with each article as an element.\n",
    "articles = [reuters.raw(x) for x in fileids]\n",
    "articles[5]"
   ]
  },
  {
   "cell_type": "markdown",
   "metadata": {},
   "source": [
    "## Tfidf"
   ]
  },
  {
   "cell_type": "code",
   "execution_count": 10,
   "metadata": {},
   "outputs": [
    {
     "name": "stdout",
     "output_type": "stream",
     "text": [
      "Number of Articles and Features: (962, 3065)\n"
     ]
    }
   ],
   "source": [
    "# Create the model, fit, and transform the original articles. Each article is one row.\n",
    "\n",
    "vectorizer = TfidfVectorizer(max_df=0.5,\n",
    "                             min_df=7,\n",
    "                             stop_words='english',\n",
    "                             lowercase=True,\n",
    "                             ngram_range=(1,2),\n",
    "                             use_idf=True,\n",
    "                             norm=u'l2',\n",
    "                             smooth_idf=True)\n",
    "\n",
    "articles_tfidf = vectorizer.fit_transform(articles)\n",
    "print('Number of Articles and Features:', articles_tfidf.get_shape())"
   ]
  },
  {
   "cell_type": "code",
   "execution_count": 24,
   "metadata": {},
   "outputs": [
    {
     "name": "stdout",
     "output_type": "stream",
     "text": [
      "Original Article:\n",
      " TALKING POINT/GOLD\n",
      "  The price of gold bullion and share\n",
      "  prices of North American gold stocks are benefiting from\n",
      "  continued weakness in the U.S. dollar, analysts said.\n",
      "      \"There's been a tug of war between the (currency)\n",
      "  speculators and the central banks over the U.S. dollar and it\n",
      "  looks  ...\n",
      "\n",
      "\n",
      "Tfidf Vector:\n",
      " {'stock exchange': 0.068583855995053553, 'gained': 0.20575156798516064, 'lake': 0.064812098307609908, 'losing': 0.06594094959192659, 'funds': 0.05660248117540008, 'peak': 0.068583855995053553, 'break': 0.059656202422883192, 'talking': 0.067188836792021964, 'richard': 0.054176901492191426, 'implications': 0.067188836792021964, 'investors': 0.11430692605506962, 'points': 0.055571920695223022, 'uncertainty': 0.13188189918385318, 'gold silver': 0.058979219659812149, 'narrow': 0.063781537827432844, 'ratio': 0.061955781195155518, 'dlrs ounce': 0.12566702816984443, 'gold bullion': 0.067188836792021964, 'war': 0.13716771199010711, 'weakness': 0.068583855995053553, 'bullion': 0.12756307565486569, 'lows': 0.061138631424305881, 'run': 0.055571920695223022, 'precious metals': 0.068583855995053553, 'analyst': 0.1179584393196243, 'precious': 0.063781537827432844, 'looks': 0.06594094959192659, 'way': 0.04812669612447535, 'silver': 0.10025846353744251, 'ounce': 0.095223319185137212, 'december 31': 0.063781537827432844, '61': 0.06594094959192659, '425': 0.06594094959192659, 'john': 0.067188836792021964, 'minerals': 0.061138631424305881, 'holding': 0.056075995658624783, 'average price': 0.067188836792021964, '51': 0.05660248117540008, 'federal reserve': 0.068583855995053553, 'dlrs year': 0.067188836792021964, 'inflation': 0.055088426056589805, 'michael': 0.067188836792021964, 'canadian': 0.052540652485600241, 'remained': 0.057731332459716768, 'future': 0.046414279820502578, 'inflationary': 0.06594094959192659, 'reserve': 0.054623896952712393, 'federal': 0.058338848900931078, 'like': 0.052929014292096073, 'point': 0.052164621730633902, 'gold price': 0.061138631424305881, 'analysts said': 0.053330543386133987, 'decline': 0.049521715327506946, 'securities': 0.06594094959192659, 'analysts': 0.14517859212957077, 'japanese': 0.0473623035630132, 'banks': 0.10749232812589139, 'increased': 0.089438794319772488, 'money': 0.10924779390542479, 'current level': 0.13716771199010711, 'canada': 0.097887691790649975, 'risen': 0.061138631424305881, 'concern': 0.054176901492191426, 'sign': 0.058979219659812149, '90': 0.046644267123052661, 'excess': 0.062833514084922215, '31': 0.088283055455408571, 'possible': 0.044331035353390412, 'traditional': 0.058979219659812149, 'foreign': 0.040594061755336586, 'said adding': 0.057731332459716768, 'adding': 0.053330543386133987, 'lot': 0.058338848900931078, 'companies': 0.050129231768721257, 'causing': 0.061138631424305881, 'metals': 0.058979219659812149, 'red': 0.055088426056589805, 'means': 0.054623896952712393, 'noted': 0.18847235705219065, 'continued': 0.04812669612447535, '41': 0.053746164062945696, '43': 0.053746164062945696, 'level': 0.079572410041209088, 'rate': 0.042725638080639367, 'cash': 0.05076960252760232, 'metal': 0.054623896952712393, 'average': 0.080366493821960872, 'far': 0.045536546930735874, 'dealers said': 0.053330543386133987, 'close': 0.046188673495965907, 'dollar': 0.21038245378379644, 'dealers': 0.048392864043190258, 'yen': 0.043412437648188078, 'dollars': 0.057731332459716768, 'small': 0.04812669612447535, 'current': 0.066804689041344095, 'pressure': 0.051800163007779378, 'stocks': 0.16019766109278955, 'stock': 0.039276708233384479, 'drop': 0.047866378526414968, 'buying': 0.082922161927507634, 'north': 0.052164621730633902, 'currency': 0.042893640527608912, 'today': 0.1351527033354043, 'mines': 0.052164621730633902, 'annual': 0.045749957640063302, 'lt': 0.12718985294318558, 'gold': 0.42894464959457113, 'mining': 0.047118089263047662, 'december': 0.045120926253924158, 'say': 0.041312098195297117, 'american': 0.046878808924379983, 'development': 0.045536546930735874, 'months': 0.039917078992265535, 'added': 0.03370999750430162, 'exchange': 0.03952871718576971, 'central': 0.086473936316927097, '500': 0.037979056363756078, '1986': 0.028007704235824965, 'markets': 0.043955004598424087, 'world': 0.033402344520672048, 'share': 0.049821578785091698, 'market': 0.028250915531689114, 'recent': 0.038551340333007715, 'despite': 0.045749957640063302, 'dlrs': 0.17069487398353975, '450': 0.054176901492191426, 'expects': 0.05044508979176747, 'rising': 0.053330543386133987, 'price': 0.1559621266407448, 'sees': 0.10220651531963747, '26': 0.048943845895324987, '18': 0.042893640527608912, 'including': 0.043771373417375616, 'prices': 0.058129110913857515, 'pct': 0.10886504133096825, 'rose': 0.090241852507848316, 'year': 0.047127656080284769}\n",
      "\n",
      "\n",
      "Original Categories:\n",
      " ['gold', 'money-fx']\n"
     ]
    }
   ],
   "source": [
    "# Split original articles, file ids, and Tfidf results into train and test.\n",
    "X_train, X_test = train_test_split(articles, test_size=0.25, random_state=50)\n",
    "fileids_train, fileids_test = train_test_split(fileids, test_size=0.25, random_state=50)\n",
    "X_tfidf_train, X_tfidf_test = train_test_split(articles_tfidf, test_size=0.25, random_state=50)\n",
    "\n",
    "# Make a version we can read.\n",
    "X_tfidf_train_csr = X_tfidf_train.tocsr()\n",
    "\n",
    "# Number of training articles\n",
    "n = X_tfidf_train.get_shape()[0]\n",
    "\n",
    "# A list of dictionaries, one per paragraph\n",
    "tfidf_byarticle = [{} for _ in range(0,n)]\n",
    "\n",
    "# List of features\n",
    "terms = vectorizer.get_feature_names()\n",
    "\n",
    "# For each paragraph, lists the feature words and their tf-idf scores\n",
    "for i, j in zip(*X_tfidf_train_csr.nonzero()):\n",
    "    tfidf_byarticle[i][terms[j]] = X_tfidf_train_csr[i, j]\n",
    "    \n",
    "print('Original Article:\\n', X_train[5][:300], '...')\n",
    "print('\\n\\nTfidf Vector:\\n', tfidf_byarticle[5])\n",
    "print('\\n\\nOriginal Categories:\\n', reuters.categories(fileids_train[5]))"
   ]
  },
  {
   "cell_type": "code",
   "execution_count": 12,
   "metadata": {},
   "outputs": [
    {
     "name": "stdout",
     "output_type": "stream",
     "text": [
      "Variance explained with 100 components: 0.515201486448\n"
     ]
    }
   ],
   "source": [
    "# Build and fit our decomposition model. \n",
    "#We can alter the number of components until we're happy with our explained variance.\n",
    "n_components = 100\n",
    "svd = TruncatedSVD(n_components)\n",
    "lsa = make_pipeline(svd, Normalizer(copy=False))\n",
    "\n",
    "X_train_lsa = lsa.fit_transform(X_tfidf_train)\n",
    "\n",
    "print('Variance explained with {} components:'.format(n_components), svd.explained_variance_ratio_.sum())"
   ]
  },
  {
   "cell_type": "code",
   "execution_count": 13,
   "metadata": {},
   "outputs": [
    {
     "name": "stdout",
     "output_type": "stream",
     "text": [
      "Component 0:\n",
      "EC DRIVING TO CAPTURE BRAZIL WHEAT MARKET - USDA\\n  The European Community, EC, sold\\n  75,000 tonnes of soft wheat at a subsidized price of between 85\\n  and 89 dlrs per tonne FOB for March delivery in a continuing\\n  bid to establish itself in the Brazilian wheat market, the U.S.\\n  Agriculture Department said.\\n      The sale sharply undercut the U.S. offer of 112 dlrs per\\n  tonne FOB for 33,000 tonnes of wheat, it said in its latest\\n  report on Export Markets for U.S grains.\\n      EC sales to Brazil total about 225,000 tonnes during\\n  1986/87 (July-June) in stark contrast to only 50,000 tonnes in\\n  the 1985/86 season, it said.\\n      The increasing presence of EC wheat in Brazil comes at a\\n  time when the Brazilian Wheat Board, BWB, expects the wheat\\n  import market will expand to 3.4 mln tonnes from the current\\n  forecast of 3.0 mln in the 1986/87 year.\\n      The BWB cites record consumption and an eventual decline in\\n  domestic production, and says government plans to lower the\\n  guaranteed price of wheat from 242 dlrs per tonne to 180 dlrs\\n  will contribute to greater import demand, the USDA said.\\n      It said the BWB expects the U.S. to be major supplier of\\n  the additional 400,000 tonnes, but commitments for purchase of\\n  U.S. wheat through two-thirds of 1986/87 year total only\\n  600,000 tonnes versus 700,000 a year ago.\\n  \\n\\n                                                                                                                                                                                                                                                                                                                                                                                                                                                                                                                                                                                                                                                                                                                                                                                                                                                                                                                                                                                                                                                                                                                                                                                                                                                                                                                                                                                                                                                                                                                                                                                                                                                                                                                                                                                                                                                                                                                                                                                                            0.675786\n",
      "RECENT SUGAR FALL SPARKS SOVIET, CHINESE BUYING\\n  The recent fall in world sugar prices,\\n  due to increased producer pricing sales and evidence of export\\n  availability, has encouraged renewed buying interest from China\\n  and the Soviet Union, London trade house E.D.And F. Man said.\\n      Further purchases are expected by the Peoples Republic of\\n  China at the lower end of the recent price range, which should\\n  limit the downside movement, it said in its latest monthly\\n  market report.\\n     \"And it is believed that the Soviet Union will need to return\\n  to the market to take a further 250,000/350,000 tonnes for\\n  May/June shipment, Man added.\\n      The Soviets purchased five cargoes of raws for April/May\\n  shipment towards the end of last month, which brings its total\\n  purchases to around 1.65 mln tonnes, Man said.\\n      Production estimates for the Thai crop now exceed 2.3 mln\\n  tonnes and the final outturn appears set to reach around 2.5\\n  mln tonnes. However, this upturn in the Thai crop is being\\n  countered by a reduction in China's production forecast to 5.3\\n  mln tonnes from 5.5 mln estimated earlier.\\n      Market participation by Cuba suggests that its crop could\\n  be close to last year's 7.3 mln tonnes. But even with similar\\n  production Man expects Cuban exports to be significantly down.\\n      Cuba was reported to be carrying 1.3 mln tonnes of stocks\\n  in September 1985, of which some 440,000 tonnes were used to\\n  boost its 1985/86 exports to about 6.9 mln. But as it will not\\n  be able to draw on surplus stocks this year, Man estimates\\n  Cuba's export availabilty will be reduced to 6.4 to 6.5 mln\\n  tonnes.\\n      However, Cuba is only one of a large number of exporters\\n  with reduced availability, Man said.\\n      Since 1980 the total free market export supply has fallen\\n  to 18 mln from about 22 mln tonnes. But at the same time free\\n  market demand has also fallen by almost the same amount, which\\n  has left exporters chasing falling import requirements.\\n      A fairly tight balance now appears to have emerged. But the\\n  difficult task of keeping production advances at bay still\\n  remains, as at least one more season of production deficit is\\n  needed to eliminate some of the remaining surplus stocks still\\n  overhanging the market, Man said.\\n      The increasing cases of record production as a result of\\n  record yields and better husbandry have forced sugar producers\\n  to strive for greater efficiency.\\n      As this increase in efficiency reduces the marginal cost of\\n  production, sugar exporters may become more responsive to\\n  prices and in particular to upward price movements, Man said.\\n      Commenting on the current row between the EC Commission and\\n  sugar producers, Man said despite the recent improvement in the\\n  level of restitutions, they are still insufficient to fully\\n  compensate producers when exporting on the world market.\\n      Unless there are further improvements, at least some sugar\\n  is expected to remain in intervention, it added.\\n  \\n\\n                                                                                                                                                                                                                                              0.641775\n",
      "EC WHEAT RELEASE UNLIKELY TO SATISFY U.K. DEMAND\\n  The European Commission's decision to\\n  release an additional 300,000 tonnes of British intervention\\n  feed wheat for the home market will provide only moderate\\n  relief in an increasingly tight market, traders said.\\n      Some operators had been anticipating a larger tonnage,\\n  pointing out that at this week's U.K. Intervention tender the\\n  market sought to buy 340,000 tonnes but only 126,000 tonnes\\n  were granted.\\n      The new tranche of intervention grain is unlikely to\\n  satisfy demand, they said, and keen buying competition for\\n  supplies in stores is expected to keep prices firm.\\n      The release of the feed wheat followed recent strong\\n  representations by the U.K. Grain trade to the Commission.\\n  There has been growing concern that rising internal prices,\\n  triggered by heavy exports, were creating areas of shortage in\\n  interior markets.\\n      The latest EC authorisation will add 70,000 tonnes at the\\n  April 14 tender and a further 30,000 tonnes later in the month.\\n  The remaining 200,000 tonnes will be made available in May and\\n  June.\\n      News of the release produced an early downward reaction in\\n  local physical markets, but by midday some sections had halved\\n  early two stg losses while others were unchanged.\\n      Ministry of Agriculture figures for March indicate 1.85 mln\\n  tonnes of wheat and 1.74 mln tonnes of barley remain in the\\n  free market. However, some traders believe these figures are\\n  overstated and, while some may still be held on the farm, the\\n  bulk of wheat is already sold. Some of the grain is also off\\n  the market in futures stores.\\n      A total of 2.10 mln tonnes of intervention wheat has been\\n  sold for export or to the home market since the season started\\n  July 1, leaving an unsold balance in intervention of about 1.59\\n  mln tonnes.\\n      Intervention barley sales have reached just over 1.0 mln\\n  tonnes, leaving about 753,000 tonnes, traders said.\\n      This season's U.K. Export performance has surpassed all\\n  early expectations and has created the present nervous\\n  situation in domestic markets where the fear now is free market\\n  supplies may not last out until new crop becomes available in\\n  August.\\n      The market is sticking to its recent prediction of total\\n  barley and wheat exports of around 10.5 mln tonnes, a new\\n  record and nearly double the previous record of 5.9 mln tonnes\\n  achieved in the 1984/85 season.\\n      Traders expect U.K. Wheat exports to reach 6.0 mln and\\n  barley around 4.50 mln tonnes.\\n      The Soviet Union has booked a record total of 2.5 mln\\n  tonnes of British wheat and barley this season, but only 1.28\\n  mln had surfaced in Customs export figures by March 25, traders\\n  said.\\n      Other EC countries have bought large amounts of British\\n  grain and for the July 1/March 25 period had taken 2.59 mln\\n  tonnes of wheat and 2.06 mln tonnes of barley. This compares\\n  with 1.28 mln and 868,700 tonnes last season.\\n      The market is expecting prices, particularly wheat, to stay\\n  buoyant for the remaining few months of the season. If supplies\\n  become more difficult and prices strengthen further, feed\\n  compounders may increase cereal substitute usage, traders said.\\n  \\n\\n    0.637869\n",
      "CUBA SUGAR CROP SEEN AT LEAST SAME AS LAST YEAR\\n  Cuban sugar export figures for January\\n  suggest that this year's crop may be at least as large as last\\n  year's 7.35 mln tonnes, according to sugar analysts.\\n      Exports in January totalled 733,000 tonnes raw value, up\\n  from 725,000 a year earlier, according to figures received by\\n  the International Sugar Organization.\\n      January is the first major export month and the figures\\n  thus give a good indication of the current crop, they said.\\n  Fourth quarter exports fell to 622,000 tonnes from 909,000\\n  tonnes a year earlier, but this was because Cuba was destocking\\n  at the end of 1985, they added.\\n      Trade house C Czarnikow recently estimated production this\\n  year at 7.50 mln tonnes.\\n      Cuban sugar production in the third quarter of 1986 was\\n  12,000 tonnes, giving a final 1985/86 crop total of 7.35 mln\\n  tonnes, compared with a 1984/85 crop of 8.10 mln tonnes.\\n      There is normally no third quarter production in Cuba, but\\n  a hurricane meant that last year's crop was extended.\\n      Exports to the USSR were substantially down in January at\\n  362,000 tonnes from 489,000 in January 1986, but other Comecon\\n  countries received 210,000 tonnes, against 80,000 tonnes in the\\n  same month last year, figures received by the ISO show.\\n      Bulgaria, Czechoslovakia, Poland and Romania all took\\n  substantially more Cuban sugar.\\n      Cuba's November 1986 exports totalled 158,000 tonnes,\\n  compared with 190,000 tonnes in 1985, and December's total was\\n  237,000 tonnes, down from 518,000 tonnes the year before.\\n  Calendar year exports for 1986 were also lower at 6.69 mln\\n  tonnes against 7.21 mln in 1985 -- the lowest level since\\n  1980's 6.19 mln tonnes, the figures show.\\n  \\n\\n                                                                                                                                                                                                                                                                                                                                                                                                                                                                                                                                                                                                                                                                                                                                                                                                                                                                                                                                                                                                                                                                                                                                                                                                                                                                                                                                                                                                                                                                                                                                                                            0.627297\n",
      "Name: 0, dtype: float64\n",
      "Component 1:\n",
      "COCOA LATEST FOCUS FOR COMMODITY PACT NEGOTIATORS\\n  The credibility of government efforts to\\n  stabilise fluctuating commodity prices will again be put to the\\n  test over the next two weeks as countries try to agree on how a\\n  buffer stock should operate in the cocoa market, government\\n  delegates and trade experts said.\\n      Only two weeks ago, world coffee prices slumped when\\n  International Coffee Organization members failed to agree on\\n  how coffee export quotas should be calculated. This week, many\\n  of the same experts gather in the same building here to try to\\n  agree on how the cocoa pact reached last summer should work.\\n      The still unresolved legal wrangle surrounding the\\n  International Tin Council (ITC), which had buffer stock losses\\n  running into hundreds of millions of sterling, is also casting\\n  a shadow over commodity negotiations.\\n      The ITC's failure has restricted negotiators' ability to\\n  compromise as governments do not want to be involved in pacts\\n  with built-in flaws or unlimited liability, but want clear\\n  lines drawn between aid and trade.\\n      A more hopeful sign of cooperation was agreement on basic\\n  elements of a new International Natural Rubber Agreement in\\n  Geneva at the weekend.\\n      Some importing countries insist the International Cocoa\\n  Organization (ICCO) buffer stock rules must not be muddied with\\n  quota type subclauses which might dictate the type of cocoa to\\n  be bought. One consumer country delegate said this would\\n  \"distort, not support\" the market.\\n      Trade and industry sources blame uncertainty about the ICCO\\n  for destabilising the market as the recent collapse in coffee\\n  prices has made traders acutely aware that commodity pacts can\\n  founder. On Friday this uncertainty helped push London cocoa\\n  futures down to eight month lows. The strength of sterling has\\n  also contributed to the recent slip in prices.\\n      The ICCO daily and average prices on Friday fell below the\\n  \"must buy\" level of 1,600 SDRs a tonne designated in the pact,\\n  which came into force at the last ICCO session in January but\\n  without rules for the operation of the buffer stock.\\n      Consumers and producers could not agree on how it should\\n  operate and what discretion it should be given. The agreement\\n  limits it to trading physical cocoa and expressly says it\\n  cannot operate on futures markets.\\n      A cash balance of some 250 mln dlrs and a stock of almost\\n  100,000 tonnes of cocoa, enough to mount large buying or\\n  selling operations, were carried forward from the previous\\n  agreement.\\n      Members finance the stock through a 45 dlrs a tonne levy on\\n  all cocoa they trade. It has an upper limit of 250,000 tonnes.\\n      The key arguments being faced by the ICCO working group on\\n  buffer stock rules which is meeting today and tomorrow will be\\n  over non-member cocoa and differentials the buffer stock should\\n  pay when trading different types of cocoa. Another working\\n  group is scheduled to meet Wednesday to discuss administrative\\n  matters, and the full council meets on Thursday.\\n      Producers have so far maintained that buffer stock funds\\n  should not help mop up surplus cocoa produced in non-member\\n  countries such as Malaysia.\\n      Consumers say when this cocoa is the cheapest the buffer\\n  stock should buy it rather than compete with chocolate\\n  manufacturers for premium-priced high quality cocoas.\\n      The argument over buying non-member cocoa is closely linked\\n  to the one over differentials for different qualities.\\n      European industry and trade advisers have suggested as a\\n  compromise that the buffer stock have a maximum share that can\\n  represent non-member cocoa and that it use the London futures\\n  market's existing differentials for different qualities.\\n      Currently, good West African cocoa is tendered at par onto\\n  the London market.\\n      Discounts, which are currently under review, range up to 50\\n  stg a tonne for Brazilian and Malaysian cocoa.\\n      Consumer delegates said the same arguments in reverse would\\n  operate when prices are high - the buffer stock should sell the\\n  highest priced cocoa in most demand, forcing all prices lower.\\n      The January talks were slowed by a split inside the\\n  European Community, a key ICCO consumer group, with France\\n  siding with producers. EC representatives met in closed session\\n  in Brussels on Friday in an attempt to reach a common ground\\n  and, a diplomatic source said, narrowed the range of positions\\n  among the 12 nations.\\n      The source said the EC will be looking for signs of\\n  flexibility on the part of producers in the next few days and\\n  will be able to respond if they are there.\\n      One ICCO delegate describing the producer/consumer split\\n  said consumer proposals mean buying more cocoa for less and\\n  backs the concept of the pact which is \"meant to support the\\n  market where trade buying is not.\"\\n      In contrast, he said, producers seem to want to sell their\\n  cocoa to the buffer stock rather than consumers.\\n      Other, more technical, issues still outstanding include\\n  whether the buffer stock should buy at a single announced\\n  \"posted price\" as in the previous pact or by announcing it is\\n  buying then accepting offers.\\n      In either case, delegates said, it is accepted that\\n  producers must be given a clear opportunity to make offers of\\n  cocoa for forward shipment directly to the buffer stock in a\\n  way that is competitive with spot offers made by dealers.\\n  \\n\\n    0.655100\n",
      "COCOA DELEGATES OPTIMISTIC ON BUFFER STOCK RULES\\n  Hopes mounted for an agreement on cocoa\\n  buffer stock rules at an International Cocoa Organization,\\n  ICCO, council meeting which opened here today, delegates said.\\n      Both producer and consumer ICCO members said after the\\n  opening session that prospects for an agreement on the cocoa\\n  market support mechanism were improving.\\n      \"The chances are very good as of now of getting buffer stock\\n  rules by the end of next week,\" Ghanaian delegate and producer\\n  spokesman Mama Mohammed told journalists.\\n      Consumer spokesman Peter Baron called the tone of the\\n  negotiations \"optimistic and realistic.\"\\n      The ICCO council failed to agree on buffer stock rules when\\n  a new International Cocoa Agreement came into force in January,\\n  with deep differences of opinion precluding serious discussions\\n  on the matter at that time. The existing buffer stock of about\\n  100,000 tonnes of cocoa was frozen, with a funds balance of 250\\n  mln dlrs.\\n      The ICCO made buffer stock rules negotiations a priority at\\n  this semi-annual council meeting in order to stop the slide in\\n  world cocoa prices.\\n      Consumers and producers agreed yesterday on the principles\\n  as a basis for negotiations.\\n      The council broke for lunch, and reconvenes at 1500 hrs. A\\n  working group which has been meeting since Monday will tackle\\n  the buffer stock rules issue again at 1600 hrs, when ICCO\\n  executive director Kobena Erbynn presents a fleshed-out version\\n  of a draft proposal he prepared earlier this week, delegates\\n  said.\\n      Mohammed said delegates will have a much clearer indication\\n  of prospects for an accord after details of the rules are\\n  elaborated by Erbynn, and after producers and consumers meet\\n  separately later today to examine the scheme.\\n      The draft proposal included three principles: a limit to\\n  non- member cocoa comprising the buffer stock, an offer system\\n  for buying buffer stock cocoa, and price differentials to be\\n  paid for various cocoas making up the buffer stock, delegates\\n  said.\\n      During the morning council session, the Ivory Coast\\n  delegation gave \"an open minded statement\" that it is willing to\\n  work out a buffer stock rules solution which could come into\\n  effect as soon as possible, Baron said.\\n      Ivorian Agriculture Minister Denis Bra Kanon, chairman of\\n  the ICCO council, was now expected to arrive in London Monday\\n  to attend the talks, Baron said. Vice chairman Sir Denis Henry\\n  of Grenada chaired the meeting in his place.\\n      Soviet and East German delegates did not attend the council\\n  session because of a conflicting International Sugar\\n  Organization meeting today, but could arrive this afternoon,\\n  delegates said.\\n  \\n\\n                                                                                                                                                                                                                                                                                                                                                                                                                                                                                                                                                                                                                                                                                                                                                                                                                                                                                                                                                                                                                                                                                                                                                                                                                                                                                                                                                                                                                                                                                                                                                                                                                                                                                                                                                                                                                                                                                                                                                                                                                                                                                                                                                                                                                                                                                                                                                                                                                                                                                                                                                                                                                                                                                                                                                                                                                                                                                                 0.631082\n",
      "COCOA COUNCIL HEAD TO PRESENT BUFFER COMPROMISE\\n  International Cocoa Organization, ICCO,\\n  council chairman Denis Bra Kanon will present a compromise\\n  proposal on buffer stock rules to producer and consumer\\n  delegates either later today or tomorrow morning, delegates\\n  said.\\n      Bra Kanon held private bilateral consultations with major\\n  producers and consumers this morning to resolve outstanding\\n  differences, mostly on the issues of how much non-member cocoa\\n  the buffer stock can purchase and price differentials for\\n  different varieties.\\n      Delegates were fairly confident the differences could be\\n  worked out in time to reach agreement tomorrow.\\n      Some consuming member nations, including Britain and\\n  Belgium, favour the buffer stock buying more than 10 pct\\n  non-member cocoa, delegates have said.\\n      The consumers argue that buying cheaper, lower quality\\n  non-member cocoas, particularly Malaysian, will most\\n  effectively support prices because that low quality cocoa is\\n  currently pressuring the market.\\n      Producers, meanwhile, say non-member cocoa should make up\\n  at most a very small percentage of the buffer. They say\\n  Malaysia should not be able to benefit from the ICCO unless it\\n  is a member, and if the buffer stock bought Malaysian cocoa\\n  Malaysia would have no incentive to join, delegates said.\\n      As to differentials, Ghana apparently wanted a higher\\n  differential for its cocoa than is outlined in the most recent\\n  proposal, so it would have a better chance of having its cocoa\\n  bought for the buffer stock, producer delegates said.\\n      Some consumers wanted differentials to be adjusted in a way\\n  that would not promote buffer stock purchases of the more\\n  expensive cocoas, such as Ghanaian and Brazilian, they said.\\n      Other technical points need to be sorted out, including\\n  limits on how much cocoa the buffer stock manager can buy in\\n  nearby, intermediate and forward positions and the consequent\\n  effect on prices in the various deliveries, delegates said.\\n  \\n\\n                                                                                                                                                                                                                                                                                                                                                                                                                                                                                                                                                                                                                                                                                                                                                                                                                                                                                                                                                                                                                                                                                                                                                                                                                                                                                                                                                                                                                                                                                                                                                                                                                                                                                                                                                                                                                                                                                                                                                                                                                                                                                                                                                                                                                                                                                                                                                                                                                                                                                                                                                                                                                                                                                                                                                                                                                                                                                                                                                                                                                                                                                                                                                                                                                                                                                                                                                                                                                                                                                                                                                                                                                                                            0.624273\n",
      "COCOA TALKS SLOW AT CRUCIAL STAGE - DELEGATES\\n  International Cocoa Organization (ICCO)\\n  talks on buffer stock rules have slowed during a crucial phase\\n  of negotiations, delegates said, but they remained confident\\n  about prospects for reaching agreement by Friday.\\n      Cocoa producers, European Community (EC) consumers and all\\n  consumers separately reviewed technical details of a buffer\\n  stock rules package distributed yesterday.\\n      The buffer stock working group of consumers and producers\\n  was set to meet later today to debate the proposal jointly for\\n  the first time, they said.\\n      Delegates said major sticking points were likely to be the\\n  amount of non-member cocoa allowed to be bought for the buffer\\n  stock, and the fixed price differentials at which different\\n  origin cocoas will be offered to the buffer stock manager.\\n      Producers would prefer that non-member cocoa not be\\n  included in the buffer stock because, if it is, countries such\\n  as Malaysia benefit from the cocoa agreement without joining\\n  it, the delegates said.\\n  \\n\\n                                                                                                                                                                                                                                                                                                                                                                                                                                                                                                                                                                                                                                                                                                                                                                                                                                                                                                                                                                                                                                                                                                                                                                                                                                                                                                                                                                                                                                                                                                                                                                                                                                                                                                                                                                                                                                                                                                                                                                                                                                                                                                                                                                                                                                                                                                                                                                                                                                                                                                                                                                                                                                                                                                                                                                                                                                                                                                                                                                                                                                                                                                                                                                                                                                                                                                                                                                                                                                                                                                                                                                                                                                                                                                                                                                                                                                                                                                                                                                                                                                                                                                                                                                                                                                                                                                                                                                                                                                                                                                                                                                                                                                                                                        0.620598\n",
      "Name: 1, dtype: float64\n"
     ]
    }
   ],
   "source": [
    "# Make a Dataframe with articles as indices and components as features\n",
    "articles_by_component=pd.DataFrame(X_train_lsa,index=X_train)\n",
    "articles_by_component.shape\n",
    "\n",
    "# Show the highest values for a few components, along with their articles\n",
    "for i in range(2):\n",
    "    print('Component {}:'.format(i))\n",
    "    print(articles_by_component.loc[:,i].sort_values(ascending=False)[0:4])"
   ]
  },
  {
   "cell_type": "markdown",
   "metadata": {},
   "source": [
    "That's cool, but it would be easier to see how we're doing if we looked at the 'Category' labels provided rather than the full text."
   ]
  },
  {
   "cell_type": "code",
   "execution_count": 14,
   "metadata": {},
   "outputs": [
    {
     "name": "stdout",
     "output_type": "stream",
     "text": [
      "Component 0:\n",
      "['grain', 'wheat']                                                                  0.675786\n",
      "['sugar']                                                                           0.641775\n",
      "['grain', 'wheat']                                                                  0.637869\n",
      "['sugar']                                                                           0.627297\n",
      "['grain', 'wheat']                                                                  0.613011\n",
      "['corn', 'grain', 'oilseed', 'palm-oil', 'rapeseed', 'ship', 'soy-oil', 'wheat']    0.588676\n",
      "['corn', 'grain', 'wheat']                                                          0.583956\n",
      "['sugar']                                                                           0.576889\n",
      "Name: 0, dtype: float64\n",
      "Component 1:\n",
      "['cocoa']     0.655100\n",
      "['cocoa']     0.631082\n",
      "['cocoa']     0.624273\n",
      "['cocoa']     0.620598\n",
      "['coffee']    0.608240\n",
      "['cocoa']     0.607381\n",
      "['cocoa']     0.606527\n",
      "['coffee']    0.605462\n",
      "Name: 1, dtype: float64\n",
      "Component 2:\n",
      "['gold', 'silver']    0.681588\n",
      "['gold', 'silver']    0.676937\n",
      "['gold']              0.635669\n",
      "['gold']              0.624362\n",
      "['gold']              0.612269\n",
      "['gold']              0.602402\n",
      "['gold', 'silver']    0.601986\n",
      "['gold']              0.598769\n",
      "Name: 2, dtype: float64\n",
      "Component 3:\n",
      "['cocoa']    0.532926\n",
      "['cocoa']    0.528037\n",
      "['cocoa']    0.523103\n",
      "['cocoa']    0.505689\n",
      "['cocoa']    0.499252\n",
      "['cocoa']    0.494953\n",
      "['cocoa']    0.493535\n",
      "['cocoa']    0.492404\n",
      "Name: 3, dtype: float64\n",
      "Component 4:\n",
      "['sugar']    0.523562\n",
      "['sugar']    0.496731\n",
      "['sugar']    0.460173\n",
      "['sugar']    0.458378\n",
      "['sugar']    0.446642\n",
      "['sugar']    0.441844\n",
      "['sugar']    0.439883\n",
      "['sugar']    0.438596\n",
      "Name: 4, dtype: float64\n",
      "Component 5:\n",
      "['grain', 'wheat']    0.534411\n",
      "['grain', 'wheat']    0.516276\n",
      "['grain', 'wheat']    0.502536\n",
      "['grain', 'wheat']    0.489988\n",
      "['grain', 'wheat']    0.487344\n",
      "['grain', 'wheat']    0.475657\n",
      "['grain', 'wheat']    0.471114\n",
      "['grain', 'wheat']    0.469744\n",
      "Name: 5, dtype: float64\n",
      "Component 6:\n",
      "['yen']                              0.675258\n",
      "['dlr', 'money-fx', 'yen']           0.665056\n",
      "['interest', 'money-fx', 'yen']      0.654282\n",
      "['money-fx', 'yen']                  0.629302\n",
      "['dlr', 'money-fx', 'yen']           0.613383\n",
      "['dlr', 'money-fx', 'yen']           0.590520\n",
      "['money-fx', 'yen']                  0.586122\n",
      "['dlr', 'dmk', 'money-fx', 'yen']    0.568436\n",
      "Name: 6, dtype: float64\n",
      "Component 7:\n",
      "['soy-oil', 'veg-oil']                         0.655617\n",
      "['palm-oil', 'veg-oil']                        0.634190\n",
      "['palm-oil', 'veg-oil']                        0.616065\n",
      "['palm-oil', 'veg-oil']                        0.603356\n",
      "['palm-oil', 'veg-oil']                        0.603008\n",
      "['palm-oil', 'veg-oil']                        0.594176\n",
      "['palm-oil', 'rape-oil', 'ship', 'veg-oil']    0.578689\n",
      "['palm-oil', 'veg-oil']                        0.566647\n",
      "Name: 7, dtype: float64\n"
     ]
    }
   ],
   "source": [
    "# Make a list of the categories for each article\n",
    "categories_train = [reuters.categories(x) for x in fileids_train]\n",
    "\n",
    "# Make a Dataframe with categories as indices and components as features\n",
    "categories_by_component=pd.DataFrame(X_train_lsa,index=[str(x) for x in categories_train])\n",
    "categories_by_component.shape\n",
    "\n",
    "# Show the highest values for a few components, along with their categories\n",
    "for i in range(8):\n",
    "    print('Component {}:'.format(i))\n",
    "    print(categories_by_component.loc[:,i].sort_values(ascending=False)[0:8])"
   ]
  },
  {
   "cell_type": "markdown",
   "metadata": {},
   "source": [
    "This is really cool. Note that we've used the raw text from the articles to sort into components, not the categories themselves -- we're just using the category labels provided to act as a check on how we're doing. Looks like we've got:\n",
    "    - Component 0: grains/sugars (maybe some hidden dependency, like selling or buying?)\n",
    "    - Component 1: cocoa/coffee\n",
    "    - Component 2: gold and silver\n",
    "    - Component 3: cocoa\n",
    "    - Component 4: sugar\n",
    "    - Component 5: wheat\n",
    "    - Component 6: yen\n",
    "    - Component 7: plant oils\n",
    "    "
   ]
  },
  {
   "cell_type": "code",
   "execution_count": 53,
   "metadata": {},
   "outputs": [
    {
     "data": {
      "image/png": "[encoded data removed]",
      "text/plain": [
       "<matplotlib.figure.Figure at 0x112f52550>"
      ]
     },
     "metadata": {},
     "output_type": "display_data"
    }
   ],
   "source": [
    "# Let's compute a similarity matrix and see which articles are most similar to each other.\n",
    "similarity = np.asarray(np.asmatrix(X_train_lsa) * np.asmatrix(X_train_lsa).T)\n",
    "sim_mat = pd.DataFrame(similarity).iloc[0:10, 0:10]\n",
    "sim_full = pd.DataFrame(similarity)\n",
    "sns.heatmap(sim_mat, yticklabels=range(sim_mat.shape[1]))\n",
    "plt.show()"
   ]
  },
  {
   "cell_type": "code",
   "execution_count": 38,
   "metadata": {},
   "outputs": [
    {
     "name": "stdout",
     "output_type": "stream",
     "text": [
      "ARGENTINA-BRAZIL TRADE JUMPED 90 PCT IN 1986\n",
      "  Trade between Argentina and Brazil\n",
      "  jumped 90 pct in 1986 versus 1985, Foreign Minister Dante\n",
      "  Caputo said.\n",
      "      Speaking to reporters, Caputo said the near doubling in\n",
      "  trade showed the \"tangible and immediate results\" of a wide-\n",
      "  ranging economic integration accord signed by the presidents of\n",
      "  both countries last July.\n",
      "      He said trade last year totalled 1.3 billion dlrs versus\n",
      "  700 mln dlrs in 1985.\n",
      "      The accord provided for capital goods trade between the two\n",
      "  countries to rise to 2.0 billion dlrs over four years.\n",
      "      Argentine wheat exports to Brazil will increase from\n",
      "  1,375,000 tonnes in 1987 to 2.0 mln tonnes in 1991, the accord\n",
      "  said.\n",
      "  \n",
      "\n",
      " JAPAN DENIES PLANS TO CUT DUTIES ON CHOCOLATE\n",
      "  Agriculture Ministry officials said they\n",
      "  are not considering cuts in import duties on chocolate to help\n",
      "  ease friction with the United States over agricultural trade.\n",
      "      Japan has already lowered the duties sharply and we must\n",
      "  consider domestic market conditions, an official said.\n",
      "      Duties on chocolate were cut to 20 pct from 31.9 pct in\n",
      "  April 1983.\n",
      "      Washington has been demanding a cut to seven pct,\n",
      "  equivalent to its own duties, ministry sources said.\n",
      "      Japanese chocolate imports rose to 8,285 tonnes in calendar\n",
      "  1986 from 5,908 in 1985, official statistics show.\n",
      "      However, the ministry sources added it is possible the\n",
      "  government may make further cuts in response to strong U.S. And\n",
      "  European demand.\n",
      "      \"Due to concern about the farm trade row with the U.S.,\n",
      "  Top-level government officials may press the ministry to cut\n",
      "  the duties,\" one said.\n",
      "      But he said it would be difficult for Japan to resolve its\n",
      "  overall trade row with Washington and reduce its trade surplus,\n",
      "  which reached 58.6 billion dlrs in 1986.\n",
      "      Agricultural trade issues between Japan and the U.S.\n",
      "  Include Japanese import restrictions on 12 farm products.\n",
      "  \n",
      "\n",
      "\n"
     ]
    }
   ],
   "source": [
    "# These two should be fairly similar.\n",
    "print(X_train[0], X_train[3])"
   ]
  },
  {
   "cell_type": "markdown",
   "metadata": {},
   "source": [
    "It looks like the similarities are: they both have to do with trade, they both involve 1985 and 1986, and they both talk about billions of dollars. Let's see what some of the *most* similar pairs are in the matrix."
   ]
  },
  {
   "cell_type": "code",
   "execution_count": 69,
   "metadata": {},
   "outputs": [
    {
     "name": "stdout",
     "output_type": "stream",
     "text": [
      "0    710\n",
      "1    256\n",
      "2    674\n",
      "3    147\n",
      "4    683\n",
      "5    712\n",
      "6    469\n",
      "7    653\n",
      "8    649\n",
      "9     95\n",
      "dtype: int64\n"
     ]
    }
   ],
   "source": [
    "# Remove the 1's from the diagonal and find the remaining max index.\n",
    "print((sim_full - np.identity(len(sim_full))).idxmax()[:10])"
   ]
  },
  {
   "cell_type": "code",
   "execution_count": 72,
   "metadata": {},
   "outputs": [
    {
     "name": "stdout",
     "output_type": "stream",
     "text": [
      "0.74375698455\n",
      "AROUND 3.5 MLN ACRES SAID TO BE IDLED BY 0/92\n",
      "  A 0/92 program would have very\n",
      "  little impact on U.S. acreage, prompting farmers to idle only\n",
      "  an additional 3.5 mln acres of cropland every year, according\n",
      "  to a report from the Agriculture Department.\n",
      "      The savings resulting from the additional 3.5 mln acres\n",
      "  idled would be a little over 400 mln dlrs in loan savings, 35\n",
      "  mln dlrs in transportation and storage savings, and 10-20 mln\n",
      "  dlrs per year in deficiency payment savings, the report said.\n",
      "      The USDA report asssessed the impacts of the proposed 0/92\n",
      "  acreage program for wheat, corn, cotton, sorghum and barley.\n",
      "  Last year, almost 245 mln acres of those crops were harvested.\n",
      "      \"The likelihood that the 0-92 provisiion will cause very\n",
      "  large acreages to be removed from crop production is quite\n",
      "  small,\" the report said.\n",
      "      \"The returns on typical farms still favor participation in\n",
      "  the usual acreage reduction programs and seeding the permitted\n",
      "  acreage,\" the USDA report said.\n",
      "      The 0/92 program, which would allow farmers to forego\n",
      "  planting and still receive 92 pct of their deficiency payment,\n",
      "  would be most used by producers in high production/high risk\n",
      "  areas where cost of production is high, said Keith Collins,\n",
      "  director of USDA's economics analysis staff.\n",
      "      \"In the heart of the corn belt, you would not get that much\n",
      "  participation,\" Collins said.\n",
      "      USDA estimated that an additional one mln acres of wheat\n",
      "  would be ildled under 0/92, 1.5 mln acres of corn, 500,000\n",
      "  acres of sorghum and barley and 500,000 acres of cotton.\n",
      "      Production from these idled acres would be equivalent to 40\n",
      "  mln bushels of wheat, 180 mln bushels of corn, 20 mln bushels\n",
      "  of sorghum, 10 mln bushels of barley, and 500,000 bales of\n",
      "  cotton, the report said.\n",
      "      \"In determining whether to participate, a producer would\n",
      "  need to weigh the expected cash costs of production against the\n",
      "  loan rate ... The risk that market prices may rise above the\n",
      "  expected levels and reduce the deficiency payment also must be\n",
      "  considered,\" according to the analysis.\n",
      "      \"What you're giving up under 0/92 is the difference between\n",
      "  the loan rate and the cost of production,\" Collins said.\n",
      "      For producers with low production costs, that difference is\n",
      "  greater and can be applied to paying variable costs, he said.\n",
      "  Under these cicumstances, farmers would not want to go along\n",
      "  with 0/92. But for high cost producers, 0/92 would be more\n",
      "  attractive.\n",
      "      Also, as loan rates get lower, Collins said there would be\n",
      "  more incentives to participate in a 0/92 program.\n",
      "      \"I would admit that its impacts would be very marginal at\n",
      "  first, but it is a step towards the goal of separating\n",
      "  production decisions from government payments,\" Collins said.\n",
      "      In a speech earlier today before the National Grains and\n",
      "  Feed Association, USDA Secretary Richard Lyng said it is too\n",
      "  late to implement 0/92 for 1987 crops since program signup will\n",
      "  be over by the end of this month.\n",
      "  \n",
      "\n",
      " USDA DETAILS CONSERVATION CROP ENROLLMENT\n",
      "  Farmers enrolled over 6.5 mln acres\n",
      "  of program crops in the latest conservation reserve program\n",
      "  signup and around four mln acres of non-program crops,\n",
      "  Agriculture Department conservation specialists said.\n",
      "      Soybean acreage amounted to less than two mln acres of the\n",
      "  non-program crop acreage enrolled, a USDA analyst said. Heavy\n",
      "  enrollment of non-base acreage in wheat states, of which a big\n",
      "  percentage would be fallow and non-soybean land, accounted for\n",
      "  a large portion of the non-program acreage, the analyst said.\n",
      "      Wheat and corn acreage comprised slightly over 40 pct of\n",
      "  the total 10,572,402 acres accepted into the ten-year program.\n",
      "      USDA analysts gave the following enrollment breakdown:\n",
      "      -- wheat  2,615,140 acres\n",
      "      -- corn   1,894,764 acres\n",
      "      -- barley   705,888 acres\n",
      "      -- sorghum  585,552 acres\n",
      "      -- cotton   417,893 acres\n",
      "      -- rice       2,035 acres\n",
      "      -- peanuts      611 acres\n",
      "      -- tobacco      285 acres\n",
      "      -- total program crops  6,512,700 acres\n",
      "      -- total nonprogram     4,059,702 acres\n",
      "      -- total enrollment    10,572,402 acres\n",
      "      USDA analysts are currently working on a complete state\n",
      "  breakdown of crop acreage enrollment and should have it ready\n",
      "  for publication later this week, they said.\n",
      "  \n",
      "\n",
      "\n"
     ]
    }
   ],
   "source": [
    "print(sim_full.iloc[1, 256])\n",
    "print(X_train[1], X_train[256])"
   ]
  },
  {
   "cell_type": "code",
   "execution_count": null,
   "metadata": {},
   "outputs": [],
   "source": []
  },
  {
   "cell_type": "markdown",
   "metadata": {},
   "source": [
    "## Bag of Words\n",
    "\n",
    "For BoW, we'll have to clean each article and count words."
   ]
  },
  {
   "cell_type": "code",
   "execution_count": 76,
   "metadata": {},
   "outputs": [
    {
     "data": {
      "text/plain": [
       "[\"THAI TRADE DEFICIT WIDENS IN FIRST QUARTER\\n  Thailand's trade deficit widened to 4.5\\n  billion baht in the first quarter of 1987 from 2.1 billion a\\n  year ago, the Business Economics Department said.\\n      It said Janunary/March imports rose to 65.1 billion baht\\n  from 58.7 billion. Thailand's improved business climate this\\n  year resulted in a 27 pct increase in imports of raw materials\\n  and semi-finished products.\\n      The country's oil import bill, however, fell 23 pct in the\\n  first quarter due to lower oil prices.\\n      The department said first quarter exports expanded to 60.6\\n  billion baht from 56.6 billion.\\n      Export growth was smaller than expected due to lower\\n  earnings from many key commodities including rice whose\\n  earnings declined 18 pct, maize 66 pct, sugar 45 pct, tin 26\\n  pct and canned pineapples seven pct.\\n      Products registering high export growth were jewellery up\\n  64 pct, clothing 57 pct and rubber 35 pct.\\n  \\n\\n\",\n",
       " \"INDONESIA SEES CPO PRICE RISING SHARPLY\\n  Indonesia expects crude palm oil (CPO)\\n  prices to rise sharply to between 450 and 550 dlrs a tonne FOB\\n  sometime this year because of better European demand and a fall\\n  in Malaysian output, Hasrul Harahap, junior minister for tree\\n  crops, told Indonesian reporters.\\n      Prices of Malaysian and Sumatran CPO are now around 332\\n  dlrs a tonne CIF for delivery in Rotterdam, traders said.\\n      Harahap said Indonesia would maintain its exports, despite\\n  making recent palm oil purchases from Malaysia, so that it\\n  could possibly increase its international market share.\\n      Indonesia, the world's second largest producer of palm oil\\n  after Malaysia, has been forced to import palm oil to ensure\\n  supplies during the Moslem fasting month of Ramadan.\\n      Harahap said it was better to import to cover a temporary\\n  shortage than to lose export markets.\\n      Indonesian exports of CPO in calendar 1986 were 530,500\\n  tonnes, against 468,500 in 1985, according to central bank\\n  figures.\\n  \\n\\n\"]"
      ]
     },
     "execution_count": 76,
     "metadata": {},
     "output_type": "execute_result"
    }
   ],
   "source": [
    "articles[:2]"
   ]
  },
  {
   "cell_type": "code",
   "execution_count": 78,
   "metadata": {},
   "outputs": [],
   "source": [
    "import spacy\n",
    "from collections import Counter\n",
    "\n",
    "nlp = spacy.load('en')"
   ]
  },
  {
   "cell_type": "code",
   "execution_count": 87,
   "metadata": {},
   "outputs": [
    {
     "data": {
      "text/plain": [
       "\"thai trade deficit widens in first quarter thailand's trade deficit widened to 4.5 billion baht in the first quarter of 1987 from 2.1 billion a year ago, the business economics department said. it said janunary/march imports rose to 65.1 billion baht from 58.7 billion. thailand's improved business climate this year resulted in a 27 pct increase in imports of raw materials and semi-finished products. the country's oil import bill, however, fell 23 pct in the first quarter due to lower oil prices. the department said first quarter exports expanded to 60.6 billion baht from 56.6 billion. export growth was smaller than expected due to lower earnings from many key commodities including rice whose earnings declined 18 pct, maize 66 pct, sugar 45 pct, tin 26 pct and canned pineapples seven pct. products registering high export growth were jewellery up 64 pct, clothing 57 pct and rubber 35 pct.\""
      ]
     },
     "execution_count": 87,
     "metadata": {},
     "output_type": "execute_result"
    }
   ],
   "source": [
    "# Simply splitting and joining will remove whitespace.\n",
    "' '.join(articles[0].split()).lower()"
   ]
  },
  {
   "cell_type": "code",
   "execution_count": 89,
   "metadata": {},
   "outputs": [
    {
     "data": {
      "text/plain": [
       "'subroto says indonesia supports tin pact extension mines and energy minister subroto confirmed indonesian support for an extension of the sixth international tin agreement (ita), but said a new pact was not necessary. asked by reuters to clarify his statement on monday in which he said the pact should be allowed to lapse, subroto said indonesia was ready to back extension of the ita. \"we can support extension of the sixth agreement,\" he said. \"but a seventh accord we believe to be unnecessary.\" the sixth ita will expire at the end of june unless a two-thirds majority of members vote for an extension.'"
      ]
     },
     "execution_count": 89,
     "metadata": {},
     "output_type": "execute_result"
    }
   ],
   "source": [
    "# Do it for all the articles.\n",
    "art_clean = [' '.join(x.split()).lower() for x in articles]\n",
    "art_clean[5]"
   ]
  },
  {
   "cell_type": "code",
   "execution_count": 93,
   "metadata": {},
   "outputs": [],
   "source": [
    "art_doc = [nlp(x) for x in art_clean]"
   ]
  },
  {
   "cell_type": "code",
   "execution_count": 104,
   "metadata": {},
   "outputs": [
    {
     "ename": "AttributeError",
     "evalue": "'spacy.tokens.doc.Doc' object has no attribute 'lemma_'",
     "output_type": "error",
     "traceback": [
      "\u001b[0;31m---------------------------------------------------------------------------\u001b[0m",
      "\u001b[0;31mAttributeError\u001b[0m                            Traceback (most recent call last)",
      "\u001b[0;32m<ipython-input-104-4a6ceb080ed6>\u001b[0m in \u001b[0;36m<module>\u001b[0;34m()\u001b[0m\n\u001b[0;32m----> 1\u001b[0;31m \u001b[0;34m[\u001b[0m\u001b[0mx\u001b[0m\u001b[0;34m.\u001b[0m\u001b[0mlemma_\u001b[0m \u001b[0;32mfor\u001b[0m \u001b[0mx\u001b[0m \u001b[0;32min\u001b[0m \u001b[0mart_doc\u001b[0m\u001b[0;34m]\u001b[0m\u001b[0;34m\u001b[0m\u001b[0m\n\u001b[0m",
      "\u001b[0;32m<ipython-input-104-4a6ceb080ed6>\u001b[0m in \u001b[0;36m<listcomp>\u001b[0;34m(.0)\u001b[0m\n\u001b[0;32m----> 1\u001b[0;31m \u001b[0;34m[\u001b[0m\u001b[0mx\u001b[0m\u001b[0;34m.\u001b[0m\u001b[0mlemma_\u001b[0m \u001b[0;32mfor\u001b[0m \u001b[0mx\u001b[0m \u001b[0;32min\u001b[0m \u001b[0mart_doc\u001b[0m\u001b[0;34m]\u001b[0m\u001b[0;34m\u001b[0m\u001b[0m\n\u001b[0m",
      "\u001b[0;31mAttributeError\u001b[0m: 'spacy.tokens.doc.Doc' object has no attribute 'lemma_'"
     ]
    }
   ],
   "source": [
    "[x.lemma_ for x in art_doc]"
   ]
  },
  {
   "cell_type": "code",
   "execution_count": null,
   "metadata": {
    "collapsed": true
   },
   "outputs": [],
   "source": []
  }
 ],
 "metadata": {
  "kernelspec": {
   "display_name": "Python 3",
   "language": "python",
   "name": "python3"
  },
  "language_info": {
   "codemirror_mode": {
    "name": "ipython",
    "version": 3
   },
   "file_extension": ".py",
   "mimetype": "text/x-python",
   "name": "python",
   "nbconvert_exporter": "python",
   "pygments_lexer": "ipython3",
   "version": "3.6.2"
  }
 },
 "nbformat": 4,
 "nbformat_minor": 2
}
